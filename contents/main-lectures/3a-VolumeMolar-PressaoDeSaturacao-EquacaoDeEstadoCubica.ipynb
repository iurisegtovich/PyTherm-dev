{
 "cells": [
  {
   "cell_type": "markdown",
   "metadata": {},
   "source": [
    "<table style=\"border: none; float: left; font-family:courier; font-size: 10px;\">\n",
    "    <tr style=\"border: none;\">\n",
    "        <td rowspan=\"3\"; style=\"border: none;padding:0px;\">\n",
    "            <img src=\"../../index_files/pytherm-header-small.png\" style=\"float:left;width:120px;height:60px;\">\n",
    "        </td>\n",
    "        <td style=\"border: none;padding:0px;\">\n",
    "            **Lecture AT101-py3.3a - \"Cálculo Simples do Volume Molar e Pressão De Saturação a partir de uma Equação De Estado Cúbica.\",**\n",
    "        </td>\n",
    "    </tr>\n",
    "    <tr style=\"border: none;\">\n",
    "        <td style=\"border: none;padding:0px;\">\n",
    "            *This file is part of PyTherm - Educational ipython source code for applied thermodynamics.*\n",
    "        </td>\n",
    "    </tr>\n",
    "    <tr style=\"border: none;\">\n",
    "        <td style=\"border: none;padding:0px;\">\n",
    "            &lt; https://iurisegtovich.github.io/PyTherm-applied-thermodynamics/ &gt;\n",
    "        </td>\n",
    "    </tr>\n",
    "</table>"
   ]
  },
  {
   "cell_type": "markdown",
   "metadata": {},
   "source": [
    "# Aula: Cálculo Simples do Volume Molar e Pressão De Saturação a partir de uma Equação De Estado Cúbica\n",
    "**Objetivo: calcular e desenhar a curva de pressão de saturação...**\n",
    "* Para uma substância pura (e.g, hexano)\n",
    "* Usando uma *equação de estado* cúbica (e.g, van der Waals)"
   ]
  },
  {
   "cell_type": "markdown",
   "metadata": {},
   "source": [
    "## Formulação matemática do problema\n",
    "\n",
    "* Desenha um gráfico ${P}$ contra ${T}$\n",
    "* Em que para cada ${T}$,\n",
    "* Para uma substância pura pré definida \n",
    "  * A ${P}$ correspondente é a **pressão** de equilíbrio líquido-vapor dessa substância naquela **temperatura**: ${P}^\\mathrm{ sat}({T})$\n",
    "  \n",
    "  > **Análise de consistência do problema proposto: análise de graus de liberdade de acordo com a regra das fases de Gibbs**\n",
    "  >* $\\nu^{Gibbs} = {C}-{F}+2$\n",
    "  >* ...........  $= 1-2+2$\n",
    "  >* ...........  $= 1$\n",
    "  >\n",
    "  >**Conclusão:** Um único grau de liberdade: é possível rerpesentar ${P}^\\mathrm{ sat}$ como função de uma variável, no caso, ${T}$, o problema proposto é um problema *bem colocado*."
   ]
  },
  {
   "cell_type": "markdown",
   "metadata": {},
   "source": [
    "# Pressão de saturação\n",
    "  * ${P}^{\\mathrm{ sat}}$ é a pressão que resolve ${f}^{\\mathrm{ L}}({T},{P}) = {f}^{\\mathrm { V}}({T},{P})$.\n",
    "  * ${f}$ é a fugacidade, que para condição de líquido, é dada por ${f}^\\mathrm{ L}({T},{P})=\\phi({T},\\bar{V}^\\mathrm{ L}) \\times {P}$\n",
    "  * e, para condição de vapor, é dada por ${f}^\\mathrm{ V}$, analogamente.\n",
    "  * E $\\bar{V}^{\\mathrm{ L}}$ e $\\bar{V}^\\mathrm{ V}$ são o volume molar da substância em condição de líquido e de vapor, respectivamente, dados a partir da análise das raízes da solução da equação estado para ${V}$ em função de ${T}$ e ${P}$:\n",
    "  * $\\bar{V}$ são os volumes que resolvem ${P}\\bar{V}^3−({P}{b}+{R}{T})\\bar{V}^2+{a}\\bar{V}−{a}{b}={0}$\n",
    "    * Se 3 raízes no intervalo Real $\\left( b, \\infty \\right)$\n",
    "      * $\\bar{V}^\\mathrm{ L}$ é a menor e $\\bar{V}^\\mathrm{ V}$ é a maior delas.\n",
    "    * Se não\n",
    "      * Não há solução para ${P}^\\mathrm{ sat}$ na temperatura em questão."
   ]
  },
  {
   "cell_type": "markdown",
   "metadata": {},
   "source": [
    "# A equação de estado\n",
    "  * A equação de estado é, em sua forma explícita-em-pressão: ${P}=\\frac{{R}{T}}{{\\bar{V}}-{b}}-\\frac{{a}}{{\\bar{V}}^2}$\n",
    "  \n",
    "  * Em que$a$ e $b$ são parâmetros dependentes da substância, dados por\n",
    "    * ${a}=\\frac{27}{64}\\frac{{{Tc}^2}{{R}^2}}{Pc}$\n",
    "    * ${b}=\\frac{{R}{Tc}}{{8}{Pc}}$\n",
    "  * E ${R}$ é a constante dos gases, que em unidades SI possui o valor:\n",
    "    * ${R} = 8.3144598$ $\\mathrm{{J} {\\mathrm{ mol}^{−1}} {\\mathrm{ K}^{−1}}}$\n",
    "    "
   ]
  },
  {
   "cell_type": "markdown",
   "metadata": {},
   "source": [
    "# Propriedades conhecidas da substância\n",
    "* A equação de estado de van der Waals depende de algumas poucas propriedades da substância para fazer sua previsão do comportamento delas em condição de líquido ou vapor\n",
    "  * Temperatura do ponto crítico ${T_c}$\n",
    "    * ${T_c}^{hexano}= 507.50$ $\\mathrm{K}$\n",
    "  * Pressão do ponto crítico ${P_c}$\n",
    "    * ${P_c}^{hexano}= 3010000$ $\\mathrm{Pa}$\n",
    "  "
   ]
  },
  {
   "cell_type": "markdown",
   "metadata": {},
   "source": [
    "# Implementação em python\n",
    "* Fazer as rotinas mais básicas e com operação independente\n",
    "* Testar cada uma delas\n",
    "* Fazer as rotinas de nível mais alto, chamando as básicas (adaptar as básicas conforme necessário)"
   ]
  },
  {
   "cell_type": "markdown",
   "metadata": {},
   "source": [
    "# Constantes"
   ]
  },
  {
   "cell_type": "markdown",
   "metadata": {},
   "source": [
    "## Constante universal - define o sistema de unidades a ser usado no código"
   ]
  },
  {
   "cell_type": "code",
   "execution_count": 1,
   "metadata": {
    "collapsed": true
   },
   "outputs": [],
   "source": [
    "R = 8.3144598 #J.mol^−1.K^−1"
   ]
  },
  {
   "cell_type": "markdown",
   "metadata": {},
   "source": [
    "## Constantes dependentes dos componentes no sistema:"
   ]
  },
  {
   "cell_type": "code",
   "execution_count": 2,
   "metadata": {
    "collapsed": true
   },
   "outputs": [],
   "source": [
    "Tc = 507.50\n",
    "Pc = 3010000"
   ]
  },
  {
   "cell_type": "markdown",
   "metadata": {},
   "source": [
    "## Funções de constantes são novas constantes:"
   ]
  },
  {
   "cell_type": "code",
   "execution_count": 3,
   "metadata": {
    "collapsed": false
   },
   "outputs": [],
   "source": [
    "# atribui um valor à constante a de acordo com a equação\n",
    "a = 27/64*((Tc**2)*(R**2)/Pc)"
   ]
  },
  {
   "cell_type": "code",
   "execution_count": 4,
   "metadata": {
    "collapsed": false
   },
   "outputs": [
    {
     "name": "stdout",
     "output_type": "stream",
     "text": [
      "2.4954993637433445\n"
     ]
    }
   ],
   "source": [
    "# confere o valor calculado:\n",
    "print(a)"
   ]
  },
  {
   "cell_type": "code",
   "execution_count": 5,
   "metadata": {
    "collapsed": false
   },
   "outputs": [
    {
     "name": "stdout",
     "output_type": "stream",
     "text": [
      "0.0001752320742732558\n"
     ]
    }
   ],
   "source": [
    "# analogamente para b\n",
    "b = (R*Tc)/(8*Pc)\n",
    "print(b)"
   ]
  },
  {
   "cell_type": "markdown",
   "metadata": {},
   "source": [
    "# Função básica 1\n",
    "* EoS em representação ${P}({T},\\bar{V})$"
   ]
  },
  {
   "cell_type": "code",
   "execution_count": 6,
   "metadata": {
    "collapsed": false
   },
   "outputs": [],
   "source": [
    "# define função para calcular P para valores arbitrários de T e V\n",
    "def function_P(T,V):\n",
    "    # retorna valor da pressão de acordo com a equação:\n",
    "    return R*T/(V-b) - a/(V**2)"
   ]
  },
  {
   "cell_type": "code",
   "execution_count": 7,
   "metadata": {
    "collapsed": false
   },
   "outputs": [
    {
     "name": "stdout",
     "output_type": "stream",
     "text": [
      "106510.64263262381\n"
     ]
    }
   ],
   "source": [
    "# como teste, conferimos o resultado de pressão a T ambiente e V de gás ideal\n",
    "print(function_P(298,0.0224))\n",
    "# o resultado obtido é de 106510.64263262381 Pa, aproximadamente 1 atm, dentro da ordem de grandeza esperada para um hidrocarboneto leve"
   ]
  },
  {
   "cell_type": "markdown",
   "metadata": {},
   "source": [
    "# Função básica 2: Calculadora de volume\n",
    "* Calcular $\\bar{V}$ que resolve ${P}{\\bar{V}^3}−({P}{b}+{R}{T}){\\bar{V}^2}+{a}\\bar{V}−{a}{b}={0}$\n",
    "\n",
    "** $1^a$ raiz real: método de Newton-Raphson:**\n",
    "\n",
    "* ${Res}={c_3}\\bar{V}^3+{c_2}\\bar{V}^2+{c_1}\\bar{V}+{c_0}$\n",
    "* $\\frac{\\partial {Res}}{\\partial {V}}=3{c_3}\\bar{V}^2+2{c_2}\\bar{V}+{c_1}$\n",
    "* $\\bar{V}_1^{[{k}+1]}=\\bar{V}_1^{[{k}]}-\\frac{Res}{ {\\partial {Res}}/{\\partial \\bar{V}} }$\n",
    "\n",
    "** Estimativa inicial: gás ideal:**\n",
    "\n",
    "* $\\bar{V}_1^{[0]} = \\frac{{R}{T}}{P}$"
   ]
  },
  {
   "cell_type": "markdown",
   "metadata": {},
   "source": [
    "**Mais duas raízes: Método de redução de ordem de polinômio:**\n",
    "* ${c_3}\\bar{V}^3+{c_2}\\bar{V}^2+{c_1}\\bar{V}+c_0=(\\bar{V}-\\bar{V}_1)({c_4}\\bar{V}^2+{c_5}\\bar{V}+{c_6})$\n",
    "* ...............................................$={c_4}\\bar{V}^3+({c_5}-{c_4}\\bar{V}_1)\\bar{V}^2+({c_6}-{c_5}\\bar{V}_1)\\bar{V}+(-{c_6}\\bar{V}_1)$\n",
    "* ${c_4} = {c_3}$\n",
    "* ${c_5} = {c_2}+{c_4}\\bar{V}_1$\n",
    "* ${c_6} = {c_1}+{c_5}\\bar{V}_1$\n",
    "\n",
    "**Soluçãos das raizes de uma parábola:**\n",
    "* $\\bar{V}_2 = \\frac{-{c_5}+\\sqrt{{c_5}^2-4{c_4}{c_6}}}{2{c_4}}$\n",
    "* $\\bar{V}_3 = \\frac{-{c_5}-\\sqrt{{c_5}^2-4{c_4}{c_6}}}{2{c_4}}$"
   ]
  },
  {
   "cell_type": "markdown",
   "metadata": {},
   "source": [
    "## Importar o pacote NumPy para usar as funções *raiz quadrada*, *exponencial*, *logaritmo*, etc..."
   ]
  },
  {
   "cell_type": "code",
   "execution_count": 8,
   "metadata": {
    "collapsed": true
   },
   "outputs": [],
   "source": [
    "import numpy as np"
   ]
  },
  {
   "cell_type": "markdown",
   "metadata": {},
   "source": [
    "Definição da função calculadore de volume a partir de um par de valores T, P."
   ]
  },
  {
   "cell_type": "code",
   "execution_count": 9,
   "metadata": {
    "collapsed": false
   },
   "outputs": [],
   "source": [
    "def function_V(T,P):\n",
    "    \n",
    "    #definição dos termos da forma polinomial da equação de estado\n",
    "    c3 = P #coeficiente para v^3\n",
    "    c2 = -(P*b+R*T) #coeficiente para v^2\n",
    "    c1 = a  #ceficiente para v^1\n",
    "    c0 = -a*b  #coeficiente para v^0\n",
    "    \n",
    "    #variáveis de método numérico para busca da 1a raiz\n",
    "    RES=1 #resíduo do método\n",
    "    TOL=1e-9 #tolerância do resíduo\n",
    "    MAX=1000 #número máximo de iterações aceitável\n",
    "    \n",
    "    V1=R*T/P #estimativa inicial\n",
    "\n",
    "    i=0 #contador de iteraçõesm iniciado como zero, incrementado em 1 após cada iteração concluída\n",
    "    while(RES>TOL and i<MAX): #Em caso de problema em que o método iterativo crie um loop infinito\n",
    "                              #interromper o Kernel: Botão \"STOP\", ou Barra de ferramentas > Kernel > Interrupt\n",
    "        V1 -= (c3*V1**3+c2*V1**2+c1*V1+c0)/(3*c3*V1**2+2*c2*V1+c1) #atualização do valor de V por subtração do termo f/df a cada iteração\n",
    "        RES=np.abs(c3*V1**3+c2*V1**2+c1*V1+c0) #cálculo do resíduo com o novo valor de V\n",
    "        i += 1 #incremento no contador de iterações\n",
    "\n",
    "    # cálculo das demais raízes: V2 e V3\n",
    "    \n",
    "    #definição dos termos da forma polinomial da equação de estado reduzida ( dada uma de suas raízes )\n",
    "    c4=c3\n",
    "    c5=c2+c4*V1\n",
    "    c6=c1+c5*V1\n",
    "    \n",
    "    #resolução analítica de parábola\n",
    "    delta=(c5**2)-(4*c4*c6)\n",
    "    \n",
    "    if delta < 0: #caso o termo \"delta\" seja negativo, V2 e V3 são raízes complexas, logo só existe uma raiz real, o que fazer?\n",
    "        V_only = V1 #temos uma única raiz real\n",
    "        return [V_only] #retornamos ela como resultado da calculadora de volume\n",
    "        #obs: retorna o valor de volume envolta em colchetes,\n",
    "        #i.e. na forma de uma lista de um elemento,\n",
    "        #para q o codigo externo q faça uso dessa função possa\n",
    "        #descobrir o numero de raízes a partir da função `len`, veja no teste a seguir:`\n",
    "    \n",
    "    else: #caso contrário, existem mais duas raízes reais, a seguir:\n",
    "        V2=(-c5 + np.sqrt(delta))/(2*c4)\n",
    "        V3=(-c5 - np.sqrt(delta))/(2*c4)\n",
    "\n",
    "    # além do caso de raízes V2 e V3 complexas, é preciso eliminar valores menores q o parâmetro b da equação de estado, pois não representam soluções físicamente coerentes para o volume \n",
    "        # filtrar apenas V no intervalo (b,infnty)\n",
    "        nroots=0\n",
    "        if ((V1>b) and (V2>b) and (V3>b)): #sendo as tres fisicamente coerentes\n",
    "            #usando a função `sort` podemos criar uma lista que, nos casos de três raízes físicas, as apresenta em ordem crescente,\n",
    "            #logo, V_líquida, V_intermediária, V_vapor\n",
    "            [VL,Vi,VV]=np.sort([V1,V2,V3])\n",
    "            return [VL,Vi,VV]\n",
    "        else:\n",
    "            V_only = np.max([V1,V2,V3]) #temos uma única raiz no intervalo (b, infinito)\n",
    "            return [V_only] #retornamos ela como resultado da calculadora de volume\n"
   ]
  },
  {
   "cell_type": "code",
   "execution_count": 10,
   "metadata": {
    "collapsed": false
   },
   "outputs": [
    {
     "name": "stdout",
     "output_type": "stream",
     "text": [
      "3  raiz(es):\n",
      "liquid volume =  0.000225711777704\n",
      "vapor volume =  0.0239165476647\n",
      "1  raiz(es):\n",
      "unique volume =  0.04956024274063786\n"
     ]
    }
   ],
   "source": [
    "# testar o resultado da função\n",
    "\n",
    "test_T=298 #vamos testar quais os volumes calculados a T ambiente\n",
    "test_P=1e5 #e P atmosférica\n",
    "\n",
    "# atribui a variável de resposta `ans_V` o resultado do calculo de V nas condições (test_T,test_P)\n",
    "ans_V = function_V(test_T,test_P)\n",
    "\n",
    "# a função `len` retorna o tamanh da lista de volumes, i.e. o número de soluções de volume encontradas\n",
    "print(len(ans_V), \" raiz(es):\")\n",
    "\n",
    "#usando o deferenciador por índice: lista[indice], começando pelo zero, temos acesso ao valor de cada volume\n",
    "\n",
    "if (len(ans_V) == 3 ):\n",
    "    print(\"liquid volume = \", ans_V[0])\n",
    "    print(\"vapor volume = \", ans_V[2])\n",
    "else:\n",
    "    print(\"unique volume = \", ans_V)\n",
    "    \n",
    "test_T=600 #vamos testar quais os volumes calculados a T maor q Tc\n",
    "test_P=1e5 #e P atmosférica\n",
    "\n",
    "ans_V = function_V(test_T,test_P)\n",
    "\n",
    "print(len(ans_V), \" raiz(es):\")\n",
    "\n",
    "if (len(ans_V) == 3 ):\n",
    "    print(\"liquid volume = \", ans_V[0])\n",
    "    print(\"vapor volume = \", ans_V[2])\n",
    "else:\n",
    "    print(\"unique volume = \", ans_V[0])"
   ]
  },
  {
   "cell_type": "markdown",
   "metadata": {},
   "source": [
    "# Função básica 3\n",
    "* energia de Gibbs residual\n",
    "$${\\bar{G}^\\mathrm{ Res}} = {P}\\bar{V}-{R}{T}-\\frac{a}{\\bar{V}} -{R}{T} \\times ln \\left (\\frac{{P}(\\bar{V}-{b})}{{R}{T}} \\right )$$"
   ]
  },
  {
   "cell_type": "code",
   "execution_count": 11,
   "metadata": {
    "collapsed": true
   },
   "outputs": [],
   "source": [
    "#define função para energia de Gibbs residual de acordo com a equação\n",
    "def Residual_G(T,P,V):\n",
    "    return (P*V)-(R*T)-(a/V)-T*(R*np.log(P*(V-b)/(R*T)))"
   ]
  },
  {
   "cell_type": "code",
   "execution_count": 12,
   "metadata": {
    "collapsed": false
   },
   "outputs": [
    {
     "name": "stdout",
     "output_type": "stream",
     "text": [
      "[0.00018686631450534036, 0.0028154881548850706, 8.3116326776048819]\n",
      "-2978.36956768\n",
      "4979.68247208\n",
      "-0.282664348816\n"
     ]
    }
   ],
   "source": [
    "test_T=100\n",
    "test_P=100\n",
    "Vs=function_V(test_T,test_P)\n",
    "print(Vs)\n",
    "print(Residual_G(test_T,test_P,Vs[0]))\n",
    "print(Residual_G(test_T,test_P,Vs[1]))\n",
    "print(Residual_G(test_T,test_P,Vs[2]))"
   ]
  },
  {
   "cell_type": "markdown",
   "metadata": {},
   "source": [
    "# Método numérico\n",
    "* Cálculo de pressão de saturação de equilíbio líquido vapor de substancia pura baseado no algoritmo apresentado por [Sandler, 1999][Sandler, 3rd, 1999]\n",
    "[Sandler, 3rd, 1999]: https://books.google.com/books?isbn=0471182109"
   ]
  },
  {
   "cell_type": "markdown",
   "metadata": {},
   "source": [
    "**Substituição sucessiva** \n",
    "\n",
    "$ P^{[k+1]}= \\left[ P\\frac{\\phi^{\\mathrm{L}}(P)}{\\phi^{\\mathrm{V}}(P)} \\right]^{[k]}$"
   ]
  },
  {
   "cell_type": "code",
   "execution_count": 13,
   "metadata": {
    "collapsed": false
   },
   "outputs": [],
   "source": [
    "def calc_P_sat(T,iguess_P):\n",
    "    \n",
    "    #variáveis de método numérico\n",
    "    RES=1\n",
    "    TOL=1e-9\n",
    "    MAX=1000\n",
    "\n",
    "    #estimativa inicial\n",
    "    P=iguess_P\n",
    "    \n",
    "    #contagem de iterações\n",
    "    i=0\n",
    "    while(RES>TOL and i<MAX): #Kernel > Interrupt (console > Ctrl+C)\n",
    "        ans_V=function_V(T,P)\n",
    "        \n",
    "        if (len(ans_V) == 1): #caso so tenha sido encontrada uma raiz, não será possível calcular P_sat para essa temperatura por esse método\n",
    "            return #return sem variável pois não há solução, o código q chama essa função precisa saber lidar com esse resultado excepcional!\n",
    "        [V_L,_,V_V] = ans_V\n",
    "        phi_L=np.exp(Residual_G(T,P,V_L)/(R*T))\n",
    "        phi_V=np.exp(Residual_G(T,P,V_V)/(R*T))\n",
    "        P=P*(phi_L/phi_V)\n",
    "        RES=np.abs(phi_L/phi_V-1.)\n",
    "        i=i+1\n",
    "    return P"
   ]
  },
  {
   "cell_type": "code",
   "execution_count": 14,
   "metadata": {
    "collapsed": false
   },
   "outputs": [
    {
     "name": "stdout",
     "output_type": "stream",
     "text": [
      "Psat =  2.7815306137\n",
      "Psat =  84.091792973\n",
      "Psat =  811.77760325\n",
      "Psat =  13738.2253961\n"
     ]
    }
   ],
   "source": [
    "#testes da função calc_P_sat\n",
    "\n",
    "test_P = 100\n",
    "\n",
    "test_T = 100\n",
    "\n",
    "Psat=calc_P_sat(test_T,test_P)\n",
    "print(\"Psat = \",Psat)\n",
    "\n",
    "test_T = 125\n",
    "\n",
    "\n",
    "Psat=calc_P_sat(test_T,test_P)\n",
    "print(\"Psat = \",Psat)\n",
    "\n",
    "test_T = 150\n",
    "\n",
    "\n",
    "Psat=calc_P_sat(test_T,test_P)\n",
    "print(\"Psat = \",Psat)\n",
    "\n",
    "test_T = 200\n",
    "\n",
    "Psat=calc_P_sat(test_T,test_P)\n",
    "print(\"Psat = \",Psat)"
   ]
  },
  {
   "cell_type": "markdown",
   "metadata": {},
   "source": [
    "# Grid, Calc and Plot\n",
    "* Definiremos um grid de valores de temperatura sobre o qual queremos calcular a pressão de saturação\n",
    "* Realizaremos o cálculo para cada ponto do grid, recursivamente\n",
    "* Por fim, utilizaremos ferramentas gráficas do matplotlib para desenhar o gráfico de P_sat x T\n"
   ]
  },
  {
   "cell_type": "code",
   "execution_count": 15,
   "metadata": {
    "collapsed": false
   },
   "outputs": [],
   "source": [
    "#grid feito usando a função linspace, gera pontos igualmente espaçados em escala linear. No caso: 100 pontos, entre 100 e Tc, inclusive.\n",
    "grid_T=np.linspace(100,Tc,100)\n",
    "grid_P=np.zeros(100)\n",
    "\n",
    "#estimativa inicial para o primeiro cálculo\n",
    "guess_P=100\n",
    "\n",
    "#efetua primeiro calculo\n",
    "grid_P[0]=calc_P_sat(grid_T[0],guess_P) #primeiro ponto\n",
    "\n",
    "#efetua demais cálculos\n",
    "for i in range(1,100): #demais pontos\n",
    "    grid_P[i]=calc_P_sat(grid_T[i],grid_P[i-1])\n",
    "    #print(grid_P[i]) #habilitar essa linha - removendo o símbolo de comentário -- # -- - faz com que os resultados de cada iteração sejam exibidos na seção de impressão da célula"
   ]
  },
  {
   "cell_type": "code",
   "execution_count": 16,
   "metadata": {
    "collapsed": false
   },
   "outputs": [
    {
     "name": "stdout",
     "output_type": "stream",
     "text": [
      "2.7815306137\n",
      "278.173786459\n",
      "nan\n"
     ]
    }
   ],
   "source": [
    "#imprimindo apenas alguns dos resultados\n",
    "print(grid_P[0]) #primeiro ponto\n",
    "print(grid_P[9]) #décimo ponto\n",
    "print(grid_P[99])#último ponto: o calculo de psat não convergiu,\n",
    "#o `return` devido ao sem variável o valor da pressão na lista  grid_P mostra `nan`, que significa \"not a number\""
   ]
  },
  {
   "cell_type": "code",
   "execution_count": 17,
   "metadata": {
    "collapsed": true
   },
   "outputs": [],
   "source": [
    "#comparação com correlação de Antoine:\n",
    "def PAntoine_nist(T): #http://webbook.nist.gov/cgi/cbook.cgi?ID=C110543&Mask=4\n",
    "    if T < 177.70:\n",
    "        return 0 #no correlation available\n",
    "    elif T <= 264.93:\n",
    "        A=3.45604\n",
    "        B=1044.038\n",
    "        C=-53.893\n",
    "        return (10**( A - (B / (T + C)) )   )* 10**5\n",
    "    elif T < 286.18:\n",
    "        return 0 #no correlation available\n",
    "    elif T<=342.69:\n",
    "        A=4.00266\n",
    "        B=1171.53\n",
    "        C=-48.784\n",
    "        return (10**( A - (B / (T + C)) )   )* 10**5\n",
    "    else:\n",
    "        return 0 #no correlation available\n",
    "    \n",
    "def PAntoine_ddbst(T): #http://ddbonline.ddbst.com/AntoineCalculation/AntoineCalculationCGI.exe\n",
    "    A=7.01051\n",
    "    B=1246.33\n",
    "    C=232.988\n",
    "    return (10**( A - (B / (T - 273 + C)) )   )* 101325/760.0"
   ]
  },
  {
   "cell_type": "code",
   "execution_count": 18,
   "metadata": {
    "collapsed": false
   },
   "outputs": [
    {
     "data": {
      "image/png": "[encoded data removed]",
      "text/plain": [
       "<matplotlib.figure.Figure at 0x7f460808b8d0>"
      ]
     },
     "metadata": {},
     "output_type": "display_data"
    }
   ],
   "source": [
    "import matplotlib.pyplot as plt\n",
    "%matplotlib inline\n",
    "\n",
    "#ativar uma figura 1\n",
    "plt.figure(1)\n",
    "\n",
    "legend=[] #iniciador do objeto legenda\n",
    "\n",
    "plt.subplot(121) #activate a subplot\n",
    "plt.title('Pressão de saturação, hexano')\n",
    "\n",
    "#o grafico P x T calculado\n",
    "\n",
    "#filtrar not-a-number e zeros\n",
    "grid_P_real = ~np.isnan(grid_P)\n",
    "filtered_grid_T = grid_T[ np.where( grid_P_real ) ]\n",
    "filtered_grid_P = grid_P[ np.where( grid_P_real ) ]\n",
    "\n",
    "#traçar\n",
    "\n",
    "plt.plot(filtered_grid_T,filtered_grid_P, label='vdW') #label é a etiqueta que será usada na legenda\n",
    "\n",
    "#calcular correlações de Antoine\n",
    "\n",
    "## nist\n",
    "grid_TAntoine_nist_1 = np.linspace(177.7,264.93,100)\n",
    "grid_PAntoine_nist_1 = np.array([ PAntoine_nist(grid_TAntoine_nist_1[i]) for i in range(100) ])\n",
    "\n",
    "grid_TAntoine_nist_2 = np.linspace(286.18,342.69,100)\n",
    "grid_PAntoine_nist_2 = np.array([ PAntoine_nist(grid_TAntoine_nist_2[i]) for i in range(100) ])\n",
    "\n",
    "# traçar\n",
    "plt.plot(grid_TAntoine_nist_1,grid_PAntoine_nist_1, label='nist')\n",
    "plt.plot(grid_TAntoine_nist_2,grid_PAntoine_nist_2, label='nist')\n",
    "\n",
    "## ddbst\n",
    "grid_TAntoine_ddbst = np.linspace(100,Tc,100)\n",
    "grid_PAntoine_ddbst = np.array([ PAntoine_ddbst(grid_TAntoine_ddbst[i]) for i in range(100) ])\n",
    "\n",
    "# traçar\n",
    "\n",
    "plt.plot(grid_TAntoine_ddbst,grid_PAntoine_ddbst, label='ddbst')\n",
    "\n",
    "# opções adicionais do gráfico\n",
    "\n",
    "## limites no eixo x e y\n",
    "plt.xlabel('T (K)')\n",
    "plt.ylabel('P (Pa)')\n",
    "plt.xlim([100,Tc])\n",
    "plt.ylim([0,Pc])\n",
    "\n",
    "plt.legend(loc=0) #exibe legenda na localização \"0\", ver no gráfico:\n",
    "\n",
    "#ativar uma segunda figura\n",
    "plt.figure(1)\n",
    "plt.subplot(122) #activate a subplot\n",
    "\n",
    "plt.title('(escala log)')\n",
    "\n",
    "# mesmos plots em escala log\n",
    "plt.semilogy(filtered_grid_T,filtered_grid_P)\n",
    "plt.semilogy(grid_TAntoine_nist_1,grid_PAntoine_nist_1)\n",
    "plt.semilogy(grid_TAntoine_nist_2,grid_PAntoine_nist_2)\n",
    "plt.semilogy(grid_TAntoine_ddbst,grid_PAntoine_ddbst)\n",
    "plt.xlabel('T (K)')\n",
    "plt.xlim([100,Tc])\n",
    "plt.ylim([100,Pc])\n",
    "\n",
    "\n",
    "\n",
    "plt.show()"
   ]
  },
  {
   "cell_type": "markdown",
   "metadata": {},
   "source": [
    "## Conclusões\n",
    "Nesta aula, uma equação de estado cúbica simples foi utilizada para calcular volume, energia de Gibbs residual, coeficientes de fugacidade e a pressão de saturação de um fluido puro. Aqui, a pressão de saturação foi obtida buscando uma solução numérica para a pressão que leva a energia de Gibbs residual igual entre as duas fases. Para tal, essa aula introduziu conceitos de cálculo de equilíbrio de fases e formas simples de implementar os cálculos propostos na linguagem python, utilizando funções matemáticas e estruturas do pacote numpy. Após estudar essa aula, o aluno deve ser capaz de resolver problemas simples em equilibrio de fases e entender os pontos chave cruciais dos métodos numéricos envolvidos."
   ]
  },
  {
   "cell_type": "markdown",
   "metadata": {},
   "source": [
    "# Referências externas\n",
    "Notas de aula de Abreu C. R. A. (UFRJ > EQ > TPQB), não disponíveis online atualmente."
   ]
  },
  {
   "cell_type": "markdown",
   "metadata": {},
   "source": [
    "# Créditos\n",
    "* Baseado nas notas de aula de *Termodinâmica Aplicada* de Abreu C. R. A. (UFRJ > EQ > TPQB)\n",
    "* Implementado em ipynb com python 3.5 por Iuri Soter Viana Segtovich\n",
    "* Revisado por Fernando de Azevedo Medeiros"
   ]
  }
 ],
 "metadata": {
  "anaconda-cloud": {},
  "kernelspec": {
   "display_name": "Python 3",
   "language": "python",
   "name": "python3"
  },
  "language_info": {
   "codemirror_mode": {
    "name": "ipython",
    "version": 3
   },
   "file_extension": ".py",
   "mimetype": "text/x-python",
   "name": "python",
   "nbconvert_exporter": "python",
   "pygments_lexer": "ipython3",
   "version": "3.6.0"
  }
 },
 "nbformat": 4,
 "nbformat_minor": 0
}
