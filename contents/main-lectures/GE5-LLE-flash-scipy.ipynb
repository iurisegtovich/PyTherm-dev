{
 "cells": [
  {
   "cell_type": "markdown",
   "metadata": {},
   "source": [
    "<table style=\"border: none; float: left; font-family:courier; font-size: 10px;\">\n",
    "    <tr style=\"border: none;\">\n",
    "        <td rowspan=\"3\"; style=\"border: none;padding:0px;\">\n",
    "            <img src=\"../../index_files/pytherm-header-small.png\" style=\"float:left;width:120px;height:60px;\">\n",
    "        </td>\n",
    "        <td style=\"border: none;padding:0px;\">\n",
    "            **Lecture GE.5 - \"The Non Random Two Liquids (NRTL) model for *excess Gibbs energy* ($g^E$) in a case study of Liquid-Liquid equilibria of Ethyl acetate (1) + water (2) + ethanol (3) --  the  scipy verified numerical methods approach\",**\n",
    "        </td>\n",
    "    </tr>\n",
    "    <tr style=\"border: none;\">\n",
    "        <td style=\"border: none;padding:0px;\">\n",
    "            *This file is part of PyTherm - Educational ipython source code for applied thermodynamics.*\n",
    "        </td>\n",
    "    </tr>\n",
    "    <tr style=\"border: none;\">\n",
    "        <td style=\"border: none;padding:0px;\">\n",
    "            &lt; https://iurisegtovich.github.io/PyTherm-applied-thermodynamics/ &gt;\n",
    "        </td>\n",
    "    </tr>\n",
    "</table>"
   ]
  },
  {
   "cell_type": "markdown",
   "metadata": {
    "collapsed": false
   },
   "source": [
    "# The Non Random Two Liquids (NRTL) model for *excess Gibbs energy* ($g^E$) in a case study of Liquid-Liquid equilibria of Ethyl acetate (1) + water (2) + ethanol (3) --  the  scipy verified numerical methods approach"
   ]
  },
  {
   "cell_type": "markdown",
   "metadata": {
    "collapsed": true
   },
   "source": [
    "Having discussed Excess properties, the NRTL model specifically, and VLE,\n",
    "Having successfully discussed LLE\n",
    "A parentheses to discuss the verified scipy numerical methods approach"
   ]
  },
  {
   "cell_type": "markdown",
   "metadata": {},
   "source": [
    "# Requirements"
   ]
  },
  {
   "cell_type": "markdown",
   "metadata": {},
   "source": [
    "# The NumPy package\n",
    "for array structures and operations"
   ]
  },
  {
   "cell_type": "code",
   "execution_count": 1,
   "metadata": {
    "collapsed": true
   },
   "outputs": [],
   "source": [
    "import numpy as np"
   ]
  },
  {
   "cell_type": "code",
   "execution_count": 2,
   "metadata": {
    "collapsed": true
   },
   "outputs": [],
   "source": [
    "from matplotlib import pyplot as plt\n",
    "%matplotlib inline"
   ]
  },
  {
   "cell_type": "code",
   "execution_count": 42,
   "metadata": {
    "collapsed": false
   },
   "outputs": [
    {
     "name": "stdout",
     "output_type": "stream",
     "text": [
      "8.3144598\n"
     ]
    }
   ],
   "source": [
    "from scipy.constants import R\n",
    "print(R)"
   ]
  },
  {
   "cell_type": "markdown",
   "metadata": {},
   "source": [
    "# scipy optmization package"
   ]
  },
  {
   "cell_type": "code",
   "execution_count": 4,
   "metadata": {
    "collapsed": true
   },
   "outputs": [],
   "source": [
    "from scipy import optimize as opt"
   ]
  },
  {
   "cell_type": "markdown",
   "metadata": {},
   "source": [
    "# The NRTL model\n",
    "as presented in previous lecture"
   ]
  },
  {
   "cell_type": "markdown",
   "metadata": {},
   "source": [
    "reproduced below in minimalist numpy/numba format"
   ]
  },
  {
   "cell_type": "code",
   "execution_count": 5,
   "metadata": {
    "collapsed": true
   },
   "outputs": [],
   "source": [
    "from numba import jit\n",
    "@jit\n",
    "def Gamma(T,c_x,q_alpha, q_A):\n",
    "    q_tau     = q_A/T\n",
    "    q_G       = np.exp(-(q_alpha*q_tau))\n",
    "    l_D       = ((1/((q_G.T) @ c_x)).T)\n",
    "    q_E       = (q_tau*q_G) * l_D \n",
    "    gamma     = np.exp(((q_E+(q_E.T))-(((q_G * l_D) * (c_x.T)) @ (q_E.T))) @ c_x)\n",
    "    return gamma"
   ]
  },
  {
   "cell_type": "markdown",
   "metadata": {},
   "source": [
    "# fited parameters\n",
    " \n",
    " Renon and Prausnitz, 1969"
   ]
  },
  {
   "cell_type": "code",
   "execution_count": 6,
   "metadata": {
    "collapsed": false
   },
   "outputs": [],
   "source": [
    "# Ethyl acetate (1) + water (2) + ethanol (3)\n",
    "\n",
    "alpha12 = 0.4\n",
    "\n",
    "alpha23 = 0.3\n",
    "\n",
    "alpha13 = 0.3\n",
    "\n",
    "# 6 binary Aij parameters\n",
    "Dg12 = 1335 * 4.184 #J/K\n",
    "Dg21 = 2510 * 4.184 #J/K\n",
    "\n",
    "Dg23 = 976 * 4.184 #J/K\n",
    "Dg32 = 88 * 4.184 #J/K\n",
    "\n",
    "Dg13 = 301 * 4.184 #J/K\n",
    "Dg31 = 322 * 4.184 #J/K"
   ]
  },
  {
   "cell_type": "markdown",
   "metadata": {},
   "source": [
    "## Feeding the fitted parameters to the model in matrix structure:\n",
    "we will assemble the parameters in a matrix structure compatible with the current imlementation of the model"
   ]
  },
  {
   "cell_type": "code",
   "execution_count": 7,
   "metadata": {
    "collapsed": false
   },
   "outputs": [],
   "source": [
    "#assemble matrix with regressed parameters Dg_i,j, according to the model all diagonal terms are zero\n",
    "Dg = np.array([[0, Dg12, Dg13],\n",
    "             [Dg21, 0, Dg23],\n",
    "             [Dg31, Dg32, 0]])\n",
    "\n",
    "\n",
    "#assemble symmetric matrix alpha\n",
    "alpha = np.array([[0, alpha12, alpha13],\n",
    "                [alpha12, 0, alpha23],\n",
    "                [alpha13, alpha23, 0]])\n",
    "\n",
    "A= Dg/R"
   ]
  },
  {
   "cell_type": "code",
   "execution_count": 8,
   "metadata": {
    "collapsed": true
   },
   "outputs": [],
   "source": [
    "T = 273+70 #K"
   ]
  },
  {
   "cell_type": "markdown",
   "metadata": {
    "collapsed": true
   },
   "source": [
    "# Liq-Liq Equilibria Flash\n",
    "already discussed"
   ]
  },
  {
   "cell_type": "markdown",
   "metadata": {
    "collapsed": true
   },
   "source": [
    "# initial guess\n"
   ]
  },
  {
   "cell_type": "code",
   "execution_count": 35,
   "metadata": {
    "collapsed": false
   },
   "outputs": [],
   "source": [
    "#Estimativas Iniciais\n",
    "\n",
    "def iguess(Z,MODEL):\n",
    "    #print(Z)\n",
    "\n",
    "    gama0 = MODEL(Z/np.sum(Z))\n",
    "    \n",
    "    Xlin = 1/(gama0.T @ Z) * (gama0*Z)\n",
    "\n",
    "    gamalin = MODEL(Xlin/np.sum(Xlin))\n",
    "\n",
    "    Klin = (1./gamalin) * gama0\n",
    "\n",
    "    KlinMin = np.min(Klin)\n",
    "    KlinMax = np.max(Klin)\n",
    "\n",
    "    NT = (KlinMax - KlinMin)\n",
    "    \n",
    "    nI0 = (KlinMax - Klin) * Z\n",
    "\n",
    "    nII0 = (Klin-KlinMin) * Z\n",
    "    \n",
    "    beta0 = np.array([[ 1/(KlinMax-KlinMin) * np.sum(nII0) ]])\n",
    "    \n",
    "    ###\n",
    "    \n",
    "    XI0 = 1/(np.sum(nI0)) * nI0\n",
    "\n",
    "    gamaI0=MODEL(XI0/np.sum(XI0))\n",
    "\n",
    "    XII0 = 1/(np.sum(nII0)) * nII0\n",
    "\n",
    "    gamaII0=MODEL(XII0/np.sum(XII0))\n",
    "    \n",
    "    K0 = (gamaI0)/(gamaII0)\n",
    "    \n",
    "    #print(XI0, XII0, gamaI0, gamaII0, K0)\n",
    "    \n",
    "    return beta0, K0"
   ]
  },
  {
   "cell_type": "markdown",
   "metadata": {
    "collapsed": true
   },
   "source": [
    "# algorithm\n"
   ]
  },
  {
   "cell_type": "markdown",
   "metadata": {},
   "source": [
    "as before:\n",
    "* explict"
   ]
  },
  {
   "cell_type": "code",
   "execution_count": 36,
   "metadata": {
    "collapsed": false
   },
   "outputs": [],
   "source": [
    "def ELLflash_explicit(Z,beta0,K0,MODEL,qolog):\n",
    "    \n",
    "    #copy intial guesses to local variables\n",
    "    beta=beta0.copy()\n",
    "    K=K0.copy()\n",
    "\n",
    "    converged = 0 # flag indicating not converged yet\n",
    "    \n",
    "    if qolog:\n",
    "        itlogi=0\n",
    "        itlogv=np.ndarray(2,dtype=object)\n",
    "        itlogv[0]=np.zeros(100*100)\n",
    "        itlogv[1]=np.zeros([100*100,3])\n",
    "    \n",
    "    #initialize local arrays\n",
    "    a = np.zeros(3)\n",
    "    XI = np.zeros(3)\n",
    "    XII = np.zeros(3)\n",
    "    \n",
    "    looped2=0\n",
    "    looped3=0\n",
    "    \n",
    "    #managing loop for fixed point point algorithm\n",
    "    looping2 = 0\n",
    "    while ( (looping2 == 0) # means do at least once\n",
    "           or ((ResK)>0.0001 # convergence criteria\n",
    "               and looping2 < 100) ): # max number of iterations\n",
    "\n",
    "        prevK = K.copy()\n",
    "        \n",
    "        #print(np.may_share_memory(K,prevK))\n",
    "        \n",
    "        #Solve RachfordRice equation with a newton raphson loop\n",
    "        looping3 = 0\n",
    "        while ( (looping3 == 0) # means do at least once\n",
    "               or ((ResBeta)>0.0001 # convergence criteria\n",
    "                   and looping3 < 100) ): #max number of iterations\n",
    "            \n",
    "            prevbeta = beta.copy()\n",
    "\n",
    "            for i in range(3):\n",
    "                a[i] = ( (K[i]-1) / (1+beta*(K[i]-1)) )            \n",
    "                \n",
    "            R=0 #residue funtion (F)\n",
    "            for j in range(3):\n",
    "                R+=Z[j]*a[j]\n",
    "\n",
    "            J=0 #jacobian (Fprime)\n",
    "            for j in range(3):\n",
    "                J-=Z[j]*a[j]*a[j]\n",
    "                            \n",
    "            beta -= R/J #NR step            \n",
    "            \n",
    "            if beta[0,0]<0:\n",
    "                beta[0,0]=0\n",
    "                \n",
    "            if 1<beta[0,0]:\n",
    "                beta[0,0]=1\n",
    "            \n",
    "            ResBeta = abs(beta[0,0]-prevbeta[0,0])\n",
    "            \n",
    "            looping3 += 1        \n",
    "            \n",
    "            if qolog:\n",
    "                #print(looping3,beta0,prevbeta[0,0],beta[0,0],ResBeta)\n",
    "                itlogv[0][itlogi] = beta[0,0]\n",
    "                itlogv[1][itlogi,0:3] = K[0:3,0]\n",
    "                itlogi += 1\n",
    "            \n",
    "        looped3+= looping3\n",
    "\n",
    "        for i in range(3):\n",
    "            XI[i] = Z[i] * (1./(1+beta * (K[i]-1))) #Rachford-Rice composition updating scheme\n",
    "                \n",
    "        gamaI = MODEL(XI/np.sum(XI)) #enforce normalization in the MODEL call\n",
    "        \n",
    "        for i in range(3):\n",
    "            XII[i] = K[i]*XI[i]\n",
    "\n",
    "        gamaII = MODEL(XII/np.sum(XII)) #enforce normalization in the MODEL call\n",
    "        \n",
    "        for i in range(3):\n",
    "            K[i] = (gamaI[i])/(gamaII[i]) #definition of K\n",
    "        \n",
    "        ResK=0\n",
    "        for i in range(3):\n",
    "            ResK += np.sqrt((prevK[i]-K[i])**2)\n",
    "        looping2 += 1\n",
    "    \n",
    "    looped2 += looping2\n",
    "        \n",
    "    #print('Calculation has ended')\n",
    "    if (looping2 < 100 and looping3 < 100 and (0.<=beta[0,0]<=1.) ):\n",
    "        converged = 1\n",
    "    \n",
    "    if qolog:\n",
    "        return XI, XII, beta, converged, looped2, looped3, itlogv\n",
    "    else:\n",
    "        return XI, XII, beta, converged, looping2, looped3"
   ]
  },
  {
   "cell_type": "markdown",
   "metadata": {
    "collapsed": false
   },
   "source": [
    "* linalg version"
   ]
  },
  {
   "cell_type": "code",
   "execution_count": 37,
   "metadata": {
    "collapsed": false
   },
   "outputs": [],
   "source": [
    "def ELLflash_linalg(Z,beta0,K0,MODEL): #ELLflash_linalg\n",
    "    \n",
    "    beta=beta0.copy()\n",
    "    K=K0.copy()\n",
    "    \n",
    "    converged = 0\n",
    "    \n",
    "    looped2 = 0\n",
    "    looped3 = 0\n",
    "    \n",
    "    looping2 = 0\n",
    "    while ( (looping2 == 0) # means do at least once\n",
    "           or ((ResK)>0.0001 # convergence criteria\n",
    "               and looping2 < 100) ): # max number of iterations\n",
    "\n",
    "        prevK = K.copy()        \n",
    "        \n",
    "        looping3 = 0\n",
    "        while ( (looping3 == 0)\n",
    "               or (ResBeta>0.0001 # convergence criteria\n",
    "                   and looping3 < 100) ): #max number of iterations\n",
    "            \n",
    "            prevbeta = beta.copy()\n",
    "            \n",
    "            a = (1/(1+beta*(K-1))) * (K-1)\n",
    "            beta = beta+(1/((Z.T*a.T) @ a)) @ (Z.T @ a)\n",
    "\n",
    "            if beta[0,0]<0:\n",
    "                beta[0,0]=0\n",
    "                \n",
    "            if 1<beta[0,0]:\n",
    "                beta[0,0]=1\n",
    "            \n",
    "            ResBeta = beta[0,0]-prevbeta[0,0]\n",
    "\n",
    "            looping3 += 1\n",
    "            \n",
    "        looped3 += looping3\n",
    "\n",
    "        XI = (1./(1+beta * (K-1))) * Z\n",
    "\n",
    "        gamaI = MODEL(XI/np.sum(XI))\n",
    "        \n",
    "        XII = K*XI\n",
    "\n",
    "        gamaII = MODEL(XII/np.sum(XII))\n",
    "        \n",
    "        K = (gamaI)/(gamaII)\n",
    "        \n",
    "        ResK = np.linalg.norm(K-prevK)\n",
    "        \n",
    "        looping2 += 1 \n",
    "        \n",
    "    looped2 += looping2\n",
    "\n",
    "    #print('Calculation has ended')\n",
    "    if (looping2 < 100 and looping3 < 100  and ( 0. <= beta[0,0] <= 1.)  ):\n",
    "        converged = 1\n",
    "    \n",
    "    return XI, XII, beta, converged, looped2, looped3"
   ]
  },
  {
   "cell_type": "markdown",
   "metadata": {},
   "source": [
    "* new here: a jit version"
   ]
  },
  {
   "cell_type": "code",
   "execution_count": 38,
   "metadata": {
    "collapsed": false
   },
   "outputs": [],
   "source": [
    "@jit(nopython=True)\n",
    "def ELLflash_fast(Z,beta0,K0,T,alpha,A):\n",
    "    beta=beta0.copy()\n",
    "    prevbeta=beta.copy()\n",
    "    K=K0.copy()\n",
    "    prevK=K.copy()\n",
    "    XI=Z.copy()\n",
    "    XII=Z.copy()\n",
    "    looping2=0\n",
    "    looping3=0\n",
    "    converged = 0\n",
    "    looped2 = 0\n",
    "    looped3 = 0\n",
    "    ResK=1\n",
    "    ResBeta=1\n",
    "    \n",
    "    looping2 = 0\n",
    "    while ( (looping2 == 0) # means do at least once\n",
    "           or ((ResK)>0.0001 # convergence criteria\n",
    "               and looping2 < 100) ): # max number of iterations\n",
    "\n",
    "        prevK = K.copy()        \n",
    "        \n",
    "        looping3 = 0\n",
    "        while ( (looping3 == 0)\n",
    "               or (ResBeta>0.0001 # convergence criteria\n",
    "                   and looping3 < 100) ): #max number of iterations\n",
    "            \n",
    "            prevbeta = beta.copy()\n",
    "            \n",
    "            a = (1/(1+beta*(K-1))) * (K-1)\n",
    "            beta = beta+(1/((Z.T*a.T) @ a)) @ (Z.T @ a)\n",
    "\n",
    "            if beta[0,0]<0:\n",
    "                beta[0,0]=0\n",
    "                \n",
    "            if 1<beta[0,0]:\n",
    "                beta[0,0]=1\n",
    "            \n",
    "            ResBeta = np.abs(beta[0,0]-prevbeta[0,0])\n",
    "\n",
    "            looping3 += 1\n",
    "            \n",
    "        looped3 += looping3\n",
    "\n",
    "\n",
    "        XI = (1./(1+beta * (K-1))) * Z\n",
    "\n",
    "        gamaI = Gamma(T,XI/np.sum(XI),alpha,A)\n",
    "        \n",
    "        XII = K*XI\n",
    "\n",
    "        gamaII = Gamma(T,XII/np.sum(XII),alpha,A)\n",
    "        \n",
    "        K = (gamaI)/(gamaII)\n",
    "        \n",
    "        ResK = np.linalg.norm(K-prevK)\n",
    "        \n",
    "        looping2 += 1    \n",
    "    \n",
    "    looped2 += looping2\n",
    "    #print('Calculation has ended')\n",
    "    if (looping2 < 100 and looping3 < 100  and ( 0. <= beta[0,0] <= 1.)  ):\n",
    "        converged = 1\n",
    "    \n",
    "    return XI, XII, beta, converged, looped2, looped3"
   ]
  },
  {
   "cell_type": "markdown",
   "metadata": {},
   "source": [
    "* new here: a scipy based version"
   ]
  },
  {
   "cell_type": "code",
   "execution_count": 52,
   "metadata": {
    "collapsed": false
   },
   "outputs": [],
   "source": [
    "def ELLflash_sci(Z,beta0,K0,MODEL):\n",
    "    #prepare FP input\n",
    "    def fix(kxixiibeta): \n",
    "        #local varaibles translation\n",
    "        K=np.array([kxixiibeta[0:3]]).T\n",
    "        beta0 = np.array([[kxixiibeta[9]]])\n",
    "        #prepare NR input\n",
    "        F = lambda beta, K=K, Z=Z: (Z.T @ ((1/(1+beta*(K-1))) * (K-1)))\n",
    "        J = lambda beta, K=K, Z=Z: -(((Z.T*((1/(1+beta*(K-1))) * (K-1)).T) @ ((1/(1+beta*(K-1))) * (K-1))))\n",
    "        #run NR\n",
    "        beta = opt.newton(func=F,x0=beta0,fprime=J,tol=1e-4, maxiter=100)\n",
    "        #run XI, gammaI, XII, gammaII\n",
    "        XI = (1./(1+beta * (K-1))) * Z\n",
    "        gamaI = MODEL(XI/np.sum(XI))\n",
    "        XII = K*XI\n",
    "        gamaII = MODEL(XII/np.sum(XII))\n",
    "        #prepare return-format solution\n",
    "        return np.concatenate( ( ((gamaI)/(gamaII))[0:,0], XI[0:,0], XII[0:,0], beta[0:,0] ), axis=0 )\n",
    "    #prepare FP input\n",
    "    point0 = np.concatenate( ( K0[0:,0], np.zeros(3), np.zeros(3), beta0[0:,0] ), axis=0 )\n",
    "    #sanity check\n",
    "    if np.isnan(point0).any() or np.isinf(point0).any():\n",
    "        print('nans or infs here')\n",
    "        raise ValueError\n",
    "    #run FP    \n",
    "    point = opt.fixed_point(func = fix, x0 = point0, xtol=1e-04, maxiter=100,method='iteration')\n",
    "    #prepare return-format solution\n",
    "    K = np.array([point[0:3]]).T\n",
    "    XI = np.array([point[3:6]]).T\n",
    "    XII = np.array([point[6:9]]).T\n",
    "    beta = np.array([point[9:10]]).T\n",
    "    converged=1\n",
    "    return XI, XII, beta, converged"
   ]
  },
  {
   "cell_type": "code",
   "execution_count": 50,
   "metadata": {
    "collapsed": false
   },
   "outputs": [],
   "source": [
    "#test\n",
    "\n",
    "#exact ad-hoc NRTL solution\n",
    "#Ztest = np.array([[ 0.10526316,  0.84210526,  0.05263158]]).T\n",
    "#XItest = np.array([[ 0.02616646,  0.93009914,  0.0437344 ]]).T\n",
    "#XIItest = np.array([[ 0.51520944,  0.38604626,  0.0987443 ]]).T\n",
    "#BETAtest = np.array([[ 0.16173772]])\n",
    "\n",
    "#appproximate\n",
    "Ztest = np.array([[ 0.1,  0.85,  0.05]]).T\n",
    "XItest = np.array([[ 0.025,  0.93,  0.045 ]]).T\n",
    "XIItest = np.array([[ 0.5,  0.39,  0.11 ]]).T\n",
    "BETAtest = np.array([[ 0.16]])\n",
    "\n",
    "\n",
    "Ktest=1/(XItest/XIItest)\n",
    "\n",
    "#beta0=BETAtest\n",
    "#k0=Ktest\n",
    "Z=Ztest\n",
    "\n",
    "MODEL = lambda x: Gamma(T,x,alpha,A)\n",
    "\n",
    "beta0, k0 = iguess(Z,MODEL)"
   ]
  },
  {
   "cell_type": "code",
   "execution_count": 54,
   "metadata": {
    "collapsed": false
   },
   "outputs": [
    {
     "name": "stdout",
     "output_type": "stream",
     "text": [
      "at T 343 Z [[ 0.1   0.85  0.05]]\n",
      "with ig of k0 [[ 53.51704507   0.08210211   1.89504205]] beta0 [[ 0.10903288]]\n",
      "solution is\n",
      "xi [ 0.02558676  0.93241488  0.04199836]\n",
      "xii [ 0.52333357  0.38114549  0.09552094]\n",
      "beta [[ 0.14950019]]\n",
      "converged? 1 -- 1 means yes\n",
      "at T 343 Z [[ 0.1   0.85  0.05]]\n",
      "with ig of k0 [[ 53.51704507   0.08210211   1.89504205]] beta0 [[ 0.10903288]]\n",
      "solution is\n",
      "xi [[ 0.02558676  0.93241488  0.04199837]]\n",
      "xii [[ 0.52333358  0.38114547  0.09552094]]\n",
      "beta [[ 0.14950018]]\n",
      "converged? 1 -- 1 means yes\n",
      "at T 343 Z [[ 0.1   0.85  0.05]]\n",
      "with ig of k0 [[ 53.51704507   0.08210211   1.89504205]] beta0 [[ 0.10903288]]\n",
      "solution is\n",
      "xi [[ 0.02558676  0.93241488  0.04199836]]\n",
      "xii [[ 0.52333357  0.38114549  0.09552094]]\n",
      "beta [[ 0.14950019]]\n",
      "converged? 1 -- 1 means yes\n",
      "at T 343 Z [[ 0.1   0.85  0.05]]\n",
      "with ig of k0 [[ 53.51704507   0.08210211   1.89504205]] beta0 [[ 0.10903288]]\n",
      "solution is\n",
      "xi [[ 0.02558847  0.93240983  0.0420017 ]]\n",
      "xii [[ 0.52354738  0.38092664  0.09552599]]\n",
      "beta [[ 0.14943308]]\n",
      "converged? 1 -- 1 means yes\n"
     ]
    }
   ],
   "source": [
    "ans=ELLflash_explicit(Z,beta0,k0,MODEL,False)\n",
    "\n",
    "print('at T', T, 'Z', Z.T)\n",
    "print('with ig of k0', k0.T,'beta0', beta0)\n",
    "print('solution is')\n",
    "print('xi',ans[0].T)\n",
    "print('xii',ans[1].T)\n",
    "print('beta',ans[2])\n",
    "print('converged?',ans[3], '-- 1 means yes')\n",
    "\n",
    "ans=ELLflash_linalg(Z,beta0,k0,MODEL)\n",
    "\n",
    "print('at T', T, 'Z', Z.T)\n",
    "print('with ig of k0', k0.T,'beta0', beta0)\n",
    "print('solution is')\n",
    "print('xi',ans[0].T)\n",
    "print('xii',ans[1].T)\n",
    "print('beta',ans[2])\n",
    "print('converged?',ans[3], '-- 1 means yes')\n",
    "\n",
    "ans=ELLflash_fast(Z,beta0,k0,T,alpha,A)\n",
    "\n",
    "print('at T', T, 'Z', Z.T)\n",
    "print('with ig of k0', k0.T,'beta0', beta0)\n",
    "print('solution is')\n",
    "print('xi',ans[0].T)\n",
    "print('xii',ans[1].T)\n",
    "print('beta',ans[2])\n",
    "print('converged?',ans[3], '-- 1 means yes')\n",
    "\n",
    "ans=ELLflash_sci(Z,beta0,k0,MODEL)\n",
    "\n",
    "print('at T', T, 'Z', Z.T)\n",
    "print('with ig of k0', k0.T,'beta0', beta0)\n",
    "print('solution is')\n",
    "print('xi',ans[0].T)\n",
    "print('xii',ans[1].T)\n",
    "print('beta',ans[2])\n",
    "print('converged?',ans[3], '-- 1 means yes')"
   ]
  },
  {
   "cell_type": "code",
   "execution_count": 55,
   "metadata": {
    "collapsed": false,
    "scrolled": true
   },
   "outputs": [
    {
     "name": "stdout",
     "output_type": "stream",
     "text": [
      "10 loops, best of 3: 20.6 ms per loop\n",
      "1 [[ 0.14950019]]\n",
      "100 loops, best of 3: 12.1 ms per loop\n",
      "1 [[ 0.14950018]]\n",
      "1000 loops, best of 3: 751 µs per loop\n",
      "1 [[ 0.14950019]]\n",
      "100 loops, best of 3: 19.4 ms per loop\n",
      "1 [[ 0.14943308]]\n",
      " \n"
     ]
    }
   ],
   "source": [
    "#all , with objective initial guess\n",
    "\n",
    "# explicit\n",
    "%timeit ELLflash_explicit(Z,beta0,k0,MODEL,False)\n",
    "ans=ELLflash_explicit(Z,beta0,k0,MODEL,False)\n",
    "print(ans[3],ans[2])\n",
    "\n",
    "# linalg\n",
    "%timeit ELLflash_linalg(Z,beta0,k0,MODEL)\n",
    "ans=ELLflash_linalg(Z,beta0,k0,MODEL)\n",
    "print(ans[3],ans[2])\n",
    "\n",
    "# fast\n",
    "%timeit ELLflash_fast(Z,beta0,k0,T,alpha,A)\n",
    "ans=ELLflash_fast(Z,beta0,k0,T,alpha,A)\n",
    "print(ans[3],ans[2])\n",
    "\n",
    "\n",
    "# sci\n",
    "%timeit ELLflash_sci(Z,beta0,k0,MODEL)\n",
    "ans=ELLflash_sci(Z,beta0,k0,MODEL)\n",
    "print(ans[3],ans[2])\n",
    "\n",
    "#my results:\n",
    "'''\n",
    "The slowest run took 12.71 times longer than the fastest. This could mean that an intermediate result is being cached.\n",
    "100 loops, best of 3: 1.37 ms per loop\n",
    "6 [[ 0.22367347]]\n",
    "1000 loops, best of 3: 769 µs per loop\n",
    "6 [[ 0.22367347]]\n",
    "10000 loops, best of 3: 61 µs per loop\n",
    "6 [[ 0.22367347]]\n",
    "100 loops, best of 3: 2.36 ms per loop\n",
    "1 [[ 0.22367347]]\n",
    "'''\n",
    "\n",
    "'''\n",
    "The slowest run took 4.01 times longer than the fastest. This could mean that an intermediate result is being cached.\n",
    "100 loops, best of 3: 1.4 ms per loop\n",
    "6 [[ 0.22367347]]\n",
    "1000 loops, best of 3: 770 µs per loop\n",
    "6 [[ 0.22367347]]\n",
    "10000 loops, best of 3: 60.7 µs per loop\n",
    "6 [[ 0.22367347]]\n",
    "100 loops, best of 3: 2.36 ms per loop\n",
    "1 [[ 0.22367347]]\n",
    "'''\n",
    "# a 2x speedup using linalg, another 10x speedup using numba/jit, a 30% slowdown using scipy\n",
    "\n",
    "'''10 loops, best of 3: 18.9 ms per loop\n",
    "1 [[ 0.19194152]]\n",
    "100 loops, best of 3: 9.65 ms per loop\n",
    "1 [[ 0.19194152]]\n",
    "1000 loops, best of 3: 649 µs per loop\n",
    "1 [[ 0.19194152]]\n",
    "100 loops, best of 3: 8.24 ms per loop\n",
    "1 [[ 0.19194782]]\n",
    " \n",
    "'''\n",
    "\n",
    "'''10 loops, best of 3: 20.6 ms per loop\n",
    "1 [[ 0.14950019]]\n",
    "100 loops, best of 3: 12.1 ms per loop\n",
    "1 [[ 0.14950018]]\n",
    "1000 loops, best of 3: 751 µs per loop\n",
    "1 [[ 0.14950019]]\n",
    "100 loops, best of 3: 19.4 ms per loop\n",
    "1 [[ 0.14943308]]\n",
    " '''\n",
    "\n",
    "print(' ')"
   ]
  },
  {
   "cell_type": "markdown",
   "metadata": {},
   "source": [
    "# grid calc plot"
   ]
  },
  {
   "cell_type": "code",
   "execution_count": 56,
   "metadata": {
    "collapsed": false
   },
   "outputs": [
    {
     "name": "stdout",
     "output_type": "stream",
     "text": [
      "210\n",
      "done 34\n"
     ]
    }
   ],
   "source": [
    "nspace = 20\n",
    "\n",
    "Z2 = np.linspace(0,1,nspace)\n",
    "Z3 = np.linspace(0,1,nspace)\n",
    "\n",
    "Z2[0]=1e-9\n",
    "Z3[0]=1e-9\n",
    "\n",
    "\n",
    "Z2[-1]=1-1e-9\n",
    "Z3[-1]=1-1e-9\n",
    "\n",
    "\n",
    "rawZs = np.ndarray((nspace,nspace), dtype=object)\n",
    "\n",
    "flags = np.zeros((nspace,nspace))\n",
    "\n",
    "for i in range(nspace):\n",
    "    for j in range(nspace):\n",
    "        rawZs[i,j]=np.array([1-Z2[i]-Z3[j],Z2[i],Z3[j]])\n",
    "        if ( Z2[i] + Z3[j] <= 1 ):\n",
    "            flags[i,j] = 1\n",
    "        \n",
    "\n",
    "            \n",
    "Zs = rawZs[np.where(flags==1)]\n",
    "\n",
    "npts = Zs.shape[0]\n",
    "print(npts)\n",
    "\n",
    "Resultados_beta = np.zeros([npts])\n",
    "Resultados_conv = np.zeros([npts])\n",
    "Resultados_Z = np.zeros([npts,3])\n",
    "Resultados_XI = np.zeros([npts,3])\n",
    "Resultados_XII = np.zeros([npts,3])\n",
    "\n",
    "MODEL = lambda x: Gamma(T,x,alpha,A)\n",
    "\n",
    "l=0\n",
    "for k in range(npts):\n",
    "    beta0, K0 = iguess(np.array([Zs[k]]).T,MODEL)\n",
    "    #print(beta0,K0)\n",
    "    #print(Zs[k],beta0,K0)\n",
    "    try:\n",
    "        ans = ELLflash_sci(np.array([Zs[k]]).T,beta0,K0,MODEL)\n",
    "\n",
    "        #succeeds:\n",
    "\n",
    "        if (0<ans[2] and 1>ans[2] and ans[3]!=0):\n",
    "            #print(ans[0][0][0],ans[0][1][0],ans[0][2][0])\n",
    "            #print(ans[0][0:3,0])\n",
    "            Resultados_XI[l,:] = ans[0][0:3,0]#np.array([ans[0][0][0],ans[0][1][0],ans[0][2][0]])\n",
    "            Resultados_XII[l,:] = ans[1][0:3,0] #np.array([ans[1][0][0],ans[1][1][0],ans[1][2][0]])\n",
    "            Resultados_beta[l] = ans[2]\n",
    "            Resultados_conv[l] = ans[3]\n",
    "\n",
    "            Resultados_Z[l,:] = Zs[k]\n",
    "            \n",
    "            #print('l++')\n",
    "            l+=1\n",
    "\n",
    "    except RuntimeError:\n",
    "        #print('no converge here')\n",
    "        pass\n",
    "    except ValueError:\n",
    "        #print('no converge here')\n",
    "        pass\n",
    "    finally:\n",
    "        #print('k++')\n",
    "        pass\n",
    "    \n",
    "        \n",
    "print('done',l)\n",
    "ndone=l\n",
    "    \n",
    "\n",
    "\n",
    "\n",
    "\n"
   ]
  },
  {
   "cell_type": "markdown",
   "metadata": {},
   "source": [
    "* of a grid with 210 points we foundo solutions for 28 points\n",
    "* lets soon see wether we tried calculations at conditions that do not have solution, or at conds that had solutions but our algorithms missed\n",
    "\n",
    "# note we have 34 convergences here with scipy, before we had 33 convergences,\n",
    "\n",
    "# we can tweak scipy options and use better methods provided by scipy"
   ]
  },
  {
   "cell_type": "code",
   "execution_count": 63,
   "metadata": {
    "collapsed": false
   },
   "outputs": [],
   "source": [
    "fResultados_XI = Resultados_XI[:][np.where(Resultados_conv!=0)]\n",
    "fResultados_XII = Resultados_XII[:][np.where(Resultados_conv!=0)]\n",
    "fResultados_beta = Resultados_beta[np.where(Resultados_conv!=0)]\n",
    "fResultados_Z = Resultados_Z[:][np.where(Resultados_conv!=0)]"
   ]
  },
  {
   "cell_type": "code",
   "execution_count": 64,
   "metadata": {
    "collapsed": false
   },
   "outputs": [],
   "source": [
    "# barycentric coords: (a,b,c)\n",
    "a=fResultados_XI[:,0]\n",
    "b=fResultados_XI[:,1]\n",
    "c=fResultados_XI[:,2]\n",
    "\n",
    "d=fResultados_XII[:,0]\n",
    "e=fResultados_XII[:,1]\n",
    "f=fResultados_XII[:,2]\n",
    "\n",
    "g=fResultados_Z[:,0]\n",
    "h=fResultados_Z[:,1]\n",
    "ii=fResultados_Z[:,2]\n",
    "\n"
   ]
  },
  {
   "cell_type": "code",
   "execution_count": 69,
   "metadata": {
    "collapsed": false,
    "scrolled": false
   },
   "outputs": [
    {
     "data": {
      "image/png": "[encoded data removed]",
      "text/plain": [
       "<matplotlib.figure.Figure at 0x7f1f3502c160>"
      ]
     },
     "metadata": {},
     "output_type": "display_data"
    }
   ],
   "source": [
    "plt.axis([0,1,0,1])\n",
    "    \n",
    "plt.scatter(a,c)    \n",
    "plt.scatter(d,f)    \n",
    "\n",
    "ZS=np.zeros([npts,3])\n",
    "for i in range(npts):\n",
    "    ZS[i,:]=Zs[i]\n",
    "\n",
    "plt.scatter(ZS[:,0],ZS[:,2],marker='o',s=80, facecolors='none', edgecolors='r')    \n",
    "    \n",
    "plt.scatter(g,ii,marker='*')\n",
    "\n",
    "#UNCOMMENT THIS LINE TO PLOT THE FAILED POINT\n",
    "#failedpoint= [0.42105263 , 0.52631579 , 0.05263158]\n",
    "#plt.scatter(bug[0],bug[2],marker='d')\n",
    "\n",
    "plt.show()"
   ]
  },
  {
   "cell_type": "markdown",
   "metadata": {},
   "source": [
    "# scipy missed the same points with solution than before\n",
    "# note however in the plots below tha scipy' algorithm was able to converge 1 calculation closer to the critical point than before!"
   ]
  },
  {
   "cell_type": "code",
   "execution_count": 66,
   "metadata": {
    "collapsed": false
   },
   "outputs": [],
   "source": [
    "# x crit = 0.2 aprox\n",
    "\n",
    "\n",
    "#refiltrar a e b LEFT and RIGHT of the crit point\n",
    "\n",
    "crit=.2\n",
    "\n",
    "al=a[np.where(a<=crit)]\n",
    "ar=a[np.where(a>crit)]\n",
    "dl=d[np.where(d<=crit)]\n",
    "dr=d[np.where(d>crit)]\n",
    "\n",
    "bl=b[np.where(a<=crit)]\n",
    "br=b[np.where(a>crit)]\n",
    "el=e[np.where(d<=crit)]\n",
    "er=e[np.where(d>crit)]\n",
    "\n",
    "cl=c[np.where(a<=crit)]\n",
    "cr=c[np.where(a>crit)]\n",
    "fl=f[np.where(d<=crit)]\n",
    "fr=f[np.where(d>crit)]"
   ]
  },
  {
   "cell_type": "code",
   "execution_count": 67,
   "metadata": {
    "collapsed": false
   },
   "outputs": [
    {
     "name": "stdout",
     "output_type": "stream",
     "text": [
      "(34,) (34,) (34,) (34,)\n",
      "(23,) (23,) (11,) (11,)\n",
      "(11,) (11,) (23,) (23,)\n",
      "(34,) (34,) (34,) (34,)\n"
     ]
    }
   ],
   "source": [
    "Ly = np.concatenate((al,dl),axis=0)\n",
    "Lx = np.concatenate((cl,fl),axis=0)\n",
    "\n",
    "Ry = np.concatenate((ar,dr),axis=0)\n",
    "Rx = np.concatenate((cr,fr),axis=0)\n",
    "\n",
    "sLy=np.sort(Ly)\n",
    "sLx=np.sort(Lx)\n",
    "sRy=np.sort(Ry)\n",
    "sRx=-np.sort(-Rx)\n",
    "\n",
    "print(a.shape,b.shape,d.shape,e.shape)\n",
    "print(al.shape,bl.shape,dl.shape,el.shape)\n",
    "print(ar.shape,br.shape,dr.shape,er.shape)\n",
    "print(Ly.shape,Ry.shape,Lx.shape,Rx.shape)\n"
   ]
  },
  {
   "cell_type": "code",
   "execution_count": 68,
   "metadata": {
    "collapsed": false
   },
   "outputs": [
    {
     "data": {
      "image/png": "[encoded data removed]",
      "text/plain": [
       "<matplotlib.figure.Figure at 0x7f1f34dcf390>"
      ]
     },
     "metadata": {},
     "output_type": "display_data"
    }
   ],
   "source": [
    "plt.axis([0,1,0,1])\n",
    "    \n",
    "plt.scatter(Ly,Lx)    \n",
    "plt.scatter(Ry,Rx)    \n",
    "\n",
    "plt.plot(sLy,sLx)\n",
    "plt.plot(sRy,sRx)\n",
    "\n",
    "\n",
    "for i in range(0,ndone):\n",
    "    plt.plot([a[i],d[i]],[c[i],f[i]])\n",
    "\n",
    "\n",
    "plt.scatter(g,ii, marker='*')\n",
    "\n",
    "plt.xlabel('mol. frac. water')\n",
    "plt.ylabel('mol. frac. ethanol')\n",
    "plt.title('LLE at '+str(T-273)+'degC')    \n",
    "    \n",
    "plt.show()\n"
   ]
  },
  {
   "cell_type": "code",
   "execution_count": null,
   "metadata": {
    "collapsed": true
   },
   "outputs": [],
   "source": []
  },
  {
   "cell_type": "code",
   "execution_count": null,
   "metadata": {
    "collapsed": true
   },
   "outputs": [],
   "source": []
  },
  {
   "cell_type": "code",
   "execution_count": null,
   "metadata": {
    "collapsed": true
   },
   "outputs": [],
   "source": []
  },
  {
   "cell_type": "code",
   "execution_count": null,
   "metadata": {
    "collapsed": true
   },
   "outputs": [],
   "source": []
  },
  {
   "cell_type": "code",
   "execution_count": null,
   "metadata": {
    "collapsed": true
   },
   "outputs": [],
   "source": []
  }
 ],
 "metadata": {
  "anaconda-cloud": {},
  "kernelspec": {
   "display_name": "Python 3",
   "language": "python",
   "name": "python3"
  },
  "language_info": {
   "codemirror_mode": {
    "name": "ipython",
    "version": 3
   },
   "file_extension": ".py",
   "mimetype": "text/x-python",
   "name": "python",
   "nbconvert_exporter": "python",
   "pygments_lexer": "ipython3",
   "version": "3.6.0"
  }
 },
 "nbformat": 4,
 "nbformat_minor": 1
}
