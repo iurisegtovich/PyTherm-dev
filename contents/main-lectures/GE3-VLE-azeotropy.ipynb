{
 "cells": [
  {
   "cell_type": "markdown",
   "metadata": {},
   "source": [
    "<table style=\"border: none; float: left; font-family:courier; font-size: 10px;\">\n",
    "    <tr style=\"border: none;\">\n",
    "        <td rowspan=\"3\"; style=\"border: none;padding:0px;\">\n",
    "            <img src=\"../../index_files/pytherm-header-small.png\" style=\"float:left;width:120px;height:60px;\">\n",
    "        </td>\n",
    "        <td style=\"border: none;padding:0px;\">\n",
    "            **Lecture GE.3 - \"The Non Random Two Liquids (NRTL) model for *excess Gibbs energy* ($g^E$) and a case study of the Liquid-Liquid equilibria of water+acetone.\",**\n",
    "        </td>\n",
    "    </tr>\n",
    "    <tr style=\"border: none;\">\n",
    "        <td style=\"border: none;padding:0px;\">\n",
    "            *This file is part of PyTherm - Educational ipython source code for applied thermodynamics.*\n",
    "        </td>\n",
    "    </tr>\n",
    "    <tr style=\"border: none;\">\n",
    "        <td style=\"border: none;padding:0px;\">\n",
    "            &lt; https://iurisegtovich.github.io/PyTherm-applied-thermodynamics/ &gt;\n",
    "        </td>\n",
    "    </tr>\n",
    "</table>"
   ]
  },
  {
   "cell_type": "markdown",
   "metadata": {
    "collapsed": false
   },
   "source": [
    "# The Non Random Two Liquids (NRTL) model for *excess Gibbs energy* ($g^E$) and a case study of the Liquid-Liquid equilibria of water+acetone."
   ]
  },
  {
   "cell_type": "code",
   "execution_count": 110,
   "metadata": {
    "collapsed": true
   },
   "outputs": [],
   "source": [
    "import numpy as np\n",
    "from matplotlib import pyplot as plt\n",
    "%matplotlib inline\n",
    "from scipy.constants import R"
   ]
  },
  {
   "cell_type": "code",
   "execution_count": 111,
   "metadata": {
    "collapsed": true
   },
   "outputs": [],
   "source": [
    "# Ethyl acetate (1) + water (2) + ethanol (3)\n",
    "\n",
    "# some identification variables\n",
    "# which integer index shall correspond to which component here\n",
    "i_EA = 0\n",
    "i_W = 1\n",
    "i_E = 2\n",
    "\n",
    "# name of the components of the system in a format suitable for labeling of the plots\n",
    "compNames = ['ethyl acetate', 'water', 'ethanol']\n"
   ]
  },
  {
   "cell_type": "markdown",
   "metadata": {},
   "source": [
    "## Fitted parameters"
   ]
  },
  {
   "cell_type": "code",
   "execution_count": 112,
   "metadata": {
    "collapsed": true
   },
   "outputs": [],
   "source": [
    "# 3 binary aĺpha parameters\n",
    "\n",
    "alpha12 = 0.4\n",
    "\n",
    "alpha23 = 0.3\n",
    "\n",
    "alpha13 = 0.3\n",
    "\n",
    "# 6 binary Dgij parameters\n",
    "Dg12 = 1335 * 4.184 #J/K\n",
    "Dg21 = 2510 * 4.184 #J/K\n",
    "\n",
    "Dg23 = 976 * 4.184 #J/K\n",
    "Dg32 = 88 * 4.184 #J/K\n",
    "\n",
    "Dg13 = 301 * 4.184 #J/K\n",
    "Dg31 = 322 * 4.184 #J/K"
   ]
  },
  {
   "cell_type": "markdown",
   "metadata": {
    "collapsed": true
   },
   "source": [
    "## Feeding the fitted parameters to the model in matrix structure:\n",
    "we will assemble the parameters in a matrix structure so that we can access each parameter by its index, as in\n",
    "`A[0,0]` and `A[0,1]`rather than as `A11` and `A12`, so we can loop trough all of them using an iterator, see below:"
   ]
  },
  {
   "cell_type": "code",
   "execution_count": 113,
   "metadata": {
    "collapsed": false
   },
   "outputs": [],
   "source": [
    "#assemble matrix with regressed parameters Dg_i,j, according to the model all diagonal terms are zero\n",
    "Dg3 = np.array([[0, Dg12, Dg13],\n",
    "             [Dg21, 0, Dg23],\n",
    "             [Dg31, Dg32, 0]])\n",
    "\n",
    "\n",
    "#assemble symmetric matrix alpha\n",
    "alpha3 = np.array([[0, alpha12, alpha13],\n",
    "                [alpha12, 0, alpha23],\n",
    "                [alpha13, alpha23, 0]])\n",
    "\n",
    "A3= Dg3/R"
   ]
  },
  {
   "cell_type": "code",
   "execution_count": 120,
   "metadata": {
    "collapsed": false
   },
   "outputs": [
    {
     "name": "stdout",
     "output_type": "stream",
     "text": [
      "[[ 0.   0.4  0.3]\n",
      " [ 0.4  0.   0.3]\n",
      " [ 0.3  0.3  0. ]]\n",
      "[[ 0.   0.3]\n",
      " [ 0.3  0. ]]\n",
      "[[    0.           671.79830492   151.46913092]\n",
      " [ 1263.0814572      0.           491.14243117]\n",
      " [  162.03674471    44.28333396     0.        ]]\n",
      "[[   0.          491.14243117]\n",
      " [  44.28333396    0.        ]]\n"
     ]
    }
   ],
   "source": [
    "#consider the binary W, E\n",
    "A = A3[np.array([1,2]),:][:,np.array([1,2])]\n",
    "alpha = alpha3[np.array([1,2]),:][:,np.array([1,2])]\n",
    "print(alpha3)\n",
    "print(alpha)\n",
    "print(A3)\n",
    "print(A)"
   ]
  },
  {
   "cell_type": "code",
   "execution_count": 121,
   "metadata": {
    "collapsed": false
   },
   "outputs": [],
   "source": [
    "from numba import jit\n",
    "@jit\n",
    "def Gamma(T,c_x,q_alpha, q_A):\n",
    "    #note that we used many lines for didatics\n",
    "    #we can do it in few lines:\n",
    "    #note that some expression occur more than once below\n",
    "    #so it may be useful define it as a intermediary recurrent term here\n",
    "    #and calculate it once to use it then several times\n",
    "    q_tau     = q_A/T\n",
    "    q_G       = np.exp(-(q_alpha*q_tau))\n",
    "    l_D       = ((1/((q_G.T) @ c_x)).T)\n",
    "    q_E       = (q_tau*q_G) * l_D \n",
    "    gamma     = np.exp(((q_E+(q_E.T))-(((q_G * l_D) * (c_x.T)) @ (q_E.T))) @ c_x)\n",
    "    return gamma"
   ]
  },
  {
   "cell_type": "code",
   "execution_count": 122,
   "metadata": {
    "collapsed": false
   },
   "outputs": [
    {
     "name": "stdout",
     "output_type": "stream",
     "text": [
      "[[ 1.62910219]\n",
      " [ 1.16193319]]\n"
     ]
    }
   ],
   "source": [
    "#test it to see that the results are the same\n",
    "T=78.4+273.15 #https://en.wikipedia.org/wiki/Azeotrope_tables\n",
    "x=np.array([.4,.6]) #normalized\n",
    "x_as_column = np.array([x]).T\n",
    "print(Gamma(T,x_as_column,alpha,A)) #test using those trial input"
   ]
  },
  {
   "cell_type": "code",
   "execution_count": 123,
   "metadata": {
    "collapsed": false
   },
   "outputs": [
    {
     "name": "stdout",
     "output_type": "stream",
     "text": [
      "351.54999999999995\n",
      "44733.1064386\n",
      "100741.097448\n"
     ]
    }
   ],
   "source": [
    "#Calculo de Psat com a Equação de Antoine\n",
    "#Pressões de saturação para entrar em yi.Pbol = xi*Gammai*P_sati\n",
    "print(T)\n",
    "def PantoineW(T):\n",
    "    Aw = 16.3872\n",
    "    Bw = 3885.70\n",
    "    Cw = 230.170\n",
    "    return (np.exp(Aw - Bw/(T-273 + Cw)))*1000\n",
    "PsatAw = PantoineW(T)\n",
    "print (PsatAw)\n",
    "\n",
    "def PantoineA(T): #E #http://webbook.nist.gov/cgi/cbook.cgi?ID=C64175&Mask=4&Type=ANTOINE&Plot=on\n",
    "    Aa = 5.24677\n",
    "    Ba = 1598.673\n",
    "    Ca = -46.424\n",
    "    return (np.exp(Aa - Ba/(T + Ca)))*1e5\n",
    "PsatAa = PantoineA(T)\n",
    "print (PsatAa)"
   ]
  },
  {
   "cell_type": "code",
   "execution_count": 124,
   "metadata": {
    "collapsed": true
   },
   "outputs": [],
   "source": [
    "def Pbol(x,T):\n",
    "    y_out = np.zeros(2)\n",
    "    gammas = Gamma(T,x,alpha,A)\n",
    "    Psati = ([PsatAw,PsatAa])\n",
    "    Pbol_=0\n",
    "    for i in range(0,2):\n",
    "#        print(i,Pbol_)\n",
    "        Pbol_ += x[i]*gammas[i]*Psati[i]\n",
    "    \n",
    "    #calculo das composicoes do vapor\n",
    "    for i in range(0,2):\n",
    "        y_out[i] = x[i]*gammas[i]*Psati[i]/Pbol_\n",
    "        \n",
    "        \n",
    "#    print(y_out, Gamma, x, Psati, Pbol_)\n",
    "    return [y_out, Pbol_]\n",
    "\n",
    "def Pbol_MisturaIDEAL(x,T):\n",
    "    y_out = np.zeros(2)\n",
    "    gammas = [1,1]\n",
    "    Psati = ([PsatAw,PsatAa])\n",
    "    Pbol_=0\n",
    "    for i in range(0,2):\n",
    "#        print(i,Pbol_)\n",
    "        Pbol_ += x[i]*gammas[i]*Psati[i]\n",
    "    \n",
    "    #calculo das composicoes do vapor\n",
    "    for i in range(0,2):\n",
    "        y_out[i] = x[i]*gammas[i]*Psati[i]/Pbol_\n",
    "        \n",
    "        \n",
    "#    print(y_out, Gamma, x, Psati, Pbol_)\n",
    "    return [y_out, Pbol_]\n",
    "\n"
   ]
  },
  {
   "cell_type": "code",
   "execution_count": 134,
   "metadata": {
    "collapsed": false
   },
   "outputs": [
    {
     "data": {
      "image/png": "[encoded data removed]",
      "text/plain": [
       "<matplotlib.figure.Figure at 0xa574cf8>"
      ]
     },
     "metadata": {},
     "output_type": "display_data"
    }
   ],
   "source": [
    "xwaxis = np.linspace (0,1,100)\n",
    "P_axis = np.zeros(100)\n",
    "ywaxis = np.zeros(100)\n",
    "for i in range (0,100):\n",
    "    xa = 1-xwaxis[i]\n",
    "    x_ = np.array([[xwaxis[i],xa]]).T\n",
    "    y_, P_axis[i] = Pbol(x_,T)\n",
    "    ywaxis[i] = y_[0]\n",
    "\n",
    "plt.figure(1)\n",
    "plt.plot(xwaxis,P_axis)\n",
    "plt.plot(ywaxis,P_axis)\n",
    "\n",
    "pmax = np.max(P_axis)\n",
    "\n",
    "xwaxis = np.linspace (0,1,100)\n",
    "P_axis = np.zeros(100)\n",
    "ywaxis = np.zeros(100)\n",
    "for i in range (0,100):\n",
    "    xa = 1-xwaxis[i]\n",
    "    x_ = [xwaxis[i],xa]\n",
    "    y_, P_axis[i] = Pbol_MisturaIDEAL(x_,T)\n",
    "    ywaxis[i] = y_[0]\n",
    "\n",
    "plt.plot(xwaxis,P_axis)\n",
    "plt.plot(ywaxis,P_axis)\n",
    "\n",
    "labels = [r'$P_{bub}(x_W)$', r'$P_{dew}(y_W),$,',r'$P^{ideal}_{bub}(x_W)$', r'$P^{ideal}_{dew}(y_W),$']\n",
    "plt.legend(labels, loc=0)\n",
    "\n",
    "plt.ylabel(r'$Pressure$')\n",
    "plt.xlabel(r'$mole fraction$')\n",
    "\n",
    "plt.scatter([0],[PsatAa])\n",
    "plt.scatter([1],[PsatAw])\n",
    "\n",
    "plt.xlim(0,1)\n",
    "plt.ylim(PsatAw,1.01*pmax)\n",
    "\n",
    "plt.show()\n",
    "\n",
    "#min em T aqui: http://www.ddbst.com/en/EED/VLE/VLE%20Acetone%3BWater.php\n",
    "\n"
   ]
  },
  {
   "cell_type": "code",
   "execution_count": 265,
   "metadata": {
    "collapsed": false,
    "scrolled": true
   },
   "outputs": [
    {
     "name": "stderr",
     "output_type": "stream",
     "text": [
      "C:\\Users\\iuri\\Anaconda3\\lib\\site-packages\\matplotlib\\figure.py:397: UserWarning: matplotlib is currently using a non-GUI backend, so cannot show the figure\n",
      "  \"matplotlib is currently using a non-GUI backend, \"\n"
     ]
    },
    {
     "data": {
      "image/png": "[encoded data removed]",
      "text/plain": [
       "<matplotlib.figure.Figure at 0xa79d550>"
      ]
     },
     "metadata": {},
     "output_type": "display_data"
    }
   ],
   "source": [
    "# GRAPHICAL ABSTRACT\n",
    "%matplotlib inline\n",
    "from matplotlib import rcParams as rc\n",
    "\n",
    "fig_width = 9 / 2.54 #in inches\n",
    "fig_height = 9 / 2.54 #in inches\n",
    "fig_size =  [fig_width,fig_height]\n",
    "\n",
    "#FONTS & TICKS\\n\",\n",
    "params = {'backend': 'ps',\n",
    "'axes.labelsize': 12,  #in pts\n",
    "'font.size': 8, #in pts\n",
    "'legend.fontsize': 8, #in pts\n",
    "'xtick.labelsize': 10, #in pts\n",
    "'ytick.labelsize': 10, #in pts\n",
    "'text.usetex': False,\n",
    "'figure.figsize': fig_size}\n",
    "rc.update(params)\n",
    "\n",
    "GAfig, GAax1 = plt.subplots(1,1)\n",
    "xwaxis = np.linspace (0,1,100)\n",
    "P_axis = np.zeros(100)\n",
    "ywaxis = np.zeros(100)\n",
    "for i in range (0,100):\n",
    "    xa = 1-xwaxis[i]\n",
    "    x_ = np.array([[xwaxis[i],xa]]).T\n",
    "    y_, P_axis[i] = Pbol(x_,T)\n",
    "    ywaxis[i] = y_[0]\n",
    "\n",
    "GAax1.plot(xwaxis,P_axis)\n",
    "GAax1.plot(ywaxis,P_axis)\n",
    "\n",
    "pmax = np.max(P_axis)\n",
    "\n",
    "xwaxis = np.linspace (0,1,100)\n",
    "P_axis = np.zeros(100)\n",
    "ywaxis = np.zeros(100)\n",
    "for i in range (0,100):\n",
    "    xa = 1-xwaxis[i]\n",
    "    x_ = np.array([[xwaxis[i],xa]]).T\n",
    "    y_, P_axis[i] = Pbol_MisturaIDEAL(x_,T)\n",
    "    ywaxis[i] = y_[0]\n",
    "\n",
    "GAax1.plot(xwaxis,P_axis, ls='--')\n",
    "GAax1.plot(ywaxis,P_axis, ls='--')\n",
    "\n",
    "\n",
    "#GAax1.plot([0,.2],[PsatAa,PsatAa],color='k',ls=':')\n",
    "#GAax1.plot([0,.2],[pmax+.1*(pmax-PsatAa),pmax+.1*(pmax-PsatAa)],color='k',ls=':')\n",
    "#GAax1.plot([.0,.0],[PsatAa,pmax+.1*(pmax-PsatAa)],color='k',ls=':')\n",
    "#GAax1.plot([.2,.2],[PsatAa,pmax+.1*(pmax-PsatAa)],color='k',ls=':')\n",
    "\n",
    "GAax1.plot([0,1],[PsatAa,PsatAa],color='k',ls=':',alpha=.5)\n",
    "GAax1.plot([0,1],[pmax+.05*(pmax-PsatAa),pmax+.05*(pmax-PsatAa)],color='k',ls=':',alpha=.5)\n",
    "GAax1.plot([.05,.05],[0,2*pmax],color='k',ls=':',alpha=.5)\n",
    "GAax1.plot([.2,.2],[0,2*pmax],color='k',ls=':',alpha=.5)\n",
    "\n",
    "'''\n",
    "import matplotlib.patches as patches\n",
    "GAax1.add_patch(\n",
    "    patches.Rectangle(\n",
    "        (0, PsatAa),   # (x,y)\n",
    "        0.2,          # width\n",
    "        pmax+.1*(pmax-PsatAa) - PsatAa, # height\n",
    "        alpha=0.25,\n",
    "        edgecolor=\"none\",\n",
    "        facecolor=\"#000000\"\n",
    "    ))\n",
    "'''\n",
    "\n",
    "\n",
    "labels = [r'$P_{bub}(x_W)$', r'$P_{dew}(y_W),$,',r'$P^{ideal}_{bub}(x_W)$', r'$P^{ideal}_{dew}(y_W),$']\n",
    "\n",
    "plt.legend(labels, loc=1)\n",
    "\n",
    "GAax1.set_title('[water; ethanol] \\n LVE at ' + '351.55' + ' K')\n",
    "\n",
    "GAax1.set_ylabel(r'$P(\\mathrm{Pa})$')\n",
    "GAax1.set_xlabel(r'$\\mathrm{mol. frac. water}$')\n",
    "\n",
    "GAax1.scatter([0],[PsatAa])\n",
    "GAax1.scatter([1],[PsatAw])\n",
    "\n",
    "GAax1.set_xlim(0,1)\n",
    "GAax1.set_ylim(PsatAw,1.01*pmax)\n",
    "\n",
    "GAfig.subplots_adjust(left=0.17, right=0.9, top=0.9, bottom=0.14)\n",
    "\n",
    "\n",
    "###\n",
    "\n",
    "left, bottom, width, height = [0.18, 0.15, 0.25, 0.25]\n",
    "ax2 = GAfig.add_axes([left, bottom, width, height])\n",
    "\n",
    "xwaxis = np.linspace (0,1,100)\n",
    "P_axis = np.zeros(100)\n",
    "ywaxis = np.zeros(100)\n",
    "for i in range (0,100):\n",
    "    xa = 1-xwaxis[i]\n",
    "    x_ = np.array([[xwaxis[i],xa]]).T\n",
    "    y_, P_axis[i] = Pbol(x_,T)\n",
    "    ywaxis[i] = y_[0]\n",
    "\n",
    "ax2.plot(xwaxis,P_axis)\n",
    "ax2.plot(ywaxis,P_axis)\n",
    "ax2.set_ylim((PsatAa+pmax)/2,pmax+.05*(pmax-PsatAa))\n",
    "ax2.set_xlim(0.05,.2)\n",
    "\n",
    "ax2.set_title('max.-in-P \\n azeotropy')\n",
    "ax2.tick_params(\n",
    "    axis='x',          # changes apply to the x-axis\n",
    "    which='both',      # both major and minor ticks are affected\n",
    "    top='off',         # ticks along the top edge are off\n",
    "    labelbottom='off') # labels along the bottom edge are off\n",
    "\n",
    "ax2.tick_params(\n",
    "    axis='y',          # changes apply to the x-axis\n",
    "    which='both',      # both major and minor ticks are affected\n",
    "    right='off',         # ticks along the top edge are off\n",
    "    labelleft='off') # labels along the bottom edge are off\n",
    "\n",
    "plt.setp(ax2.get_yaxis().get_offset_text(), visible=False)\n",
    "\n",
    "\n",
    "###\n",
    "\n",
    "\n",
    "GAax1.ticklabel_format(style = 'sci', axis='y', scilimits=(0,0))\n",
    "\n",
    "GAfig.savefig('fig2.png', dpi=1000)\n",
    "\n",
    "GAfig.show()\n",
    "\n",
    "#min em T aqui: http://www.ddbst.com/en/EED/VLE/VLE%20Acetone%3BWater.php\n",
    "\n"
   ]
  },
  {
   "cell_type": "code",
   "execution_count": null,
   "metadata": {
    "collapsed": true
   },
   "outputs": [],
   "source": []
  },
  {
   "cell_type": "code",
   "execution_count": null,
   "metadata": {
    "collapsed": true
   },
   "outputs": [],
   "source": []
  },
  {
   "cell_type": "code",
   "execution_count": null,
   "metadata": {
    "collapsed": true
   },
   "outputs": [],
   "source": []
  }
 ],
 "metadata": {
  "anaconda-cloud": {},
  "kernelspec": {
   "display_name": "Python 3",
   "language": "python",
   "name": "python3"
  },
  "language_info": {
   "codemirror_mode": {
    "name": "ipython",
    "version": 3
   },
   "file_extension": ".py",
   "mimetype": "text/x-python",
   "name": "python",
   "nbconvert_exporter": "python",
   "pygments_lexer": "ipython3",
   "version": "3.6.0"
  }
 },
 "nbformat": 4,
 "nbformat_minor": 1
}
