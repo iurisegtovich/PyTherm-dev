{
 "cells": [
  {
   "cell_type": "markdown",
   "metadata": {},
   "source": [
    "![pytherm-header](../../index_files/pytherm-header-thin.png)\n",
    "\n",
    "**Lecture GE.4 - \"The Non Random Two Liquids (NRTL) model for *excess Gibbs energy* ($g^E$) and a case study of Liquid-Liquid equilibria of Ethyl acetate (1) + water (2) + ethanol (3)\"**\n",
    "\n",
    "*This file is part of PyTherm - Educational ipython source code for applied thermodynamics.*\n",
    "\n",
    "[https://iurisegtovich.github.io/PyTherm-applied-thermodynamics](https://iurisegtovich.github.io/PyTherm-applied-thermodynamics)\n",
    "\n",
    "---"
   ]
  },
  {
   "cell_type": "markdown",
   "metadata": {
    "collapsed": false
   },
   "source": [
    "# The Non Random Two Liquids (NRTL) model for *excess Gibbs energy* ($g^E$) and a case study of Liquid-Liquid equilibria of Ethyl acetate (1) + water (2) + ethanol (3)"
   ]
  },
  {
   "cell_type": "markdown",
   "metadata": {},
   "source": [
    "Having previously discussed *Excess thermodynamic properties*, excess Gibbs energy *models*, the NRTL model specifically, and VLE, we now proceed to study LLE."
   ]
  },
  {
   "cell_type": "markdown",
   "metadata": {},
   "source": [
    "# Requiremens\n",
    "As usually we start by gathering in the initial cells any packages what we shall use in the current notebook."
   ]
  },
  {
   "cell_type": "markdown",
   "metadata": {},
   "source": [
    "## The NumPy package\n",
    "for array structures and operations"
   ]
  },
  {
   "cell_type": "code",
   "execution_count": 1,
   "metadata": {
    "collapsed": true
   },
   "outputs": [],
   "source": [
    "import numpy as np"
   ]
  },
  {
   "cell_type": "markdown",
   "metadata": {},
   "source": [
    "## The pyplot interface from the matplotlib package\n",
    "for generating plots"
   ]
  },
  {
   "cell_type": "code",
   "execution_count": 2,
   "metadata": {
    "collapsed": true
   },
   "outputs": [],
   "source": [
    "from matplotlib import pyplot as plt\n",
    "%matplotlib inline"
   ]
  },
  {
   "cell_type": "markdown",
   "metadata": {},
   "source": [
    "## physical constants in the international system of units from the scipy package"
   ]
  },
  {
   "cell_type": "code",
   "execution_count": 3,
   "metadata": {
    "collapsed": false,
    "scrolled": true
   },
   "outputs": [
    {
     "name": "stdout",
     "output_type": "stream",
     "text": [
      "R =  8.3144598 J.mol⁻1.K⁻1\n"
     ]
    }
   ],
   "source": [
    "from scipy.constants import R\n",
    "\n",
    "# print it to check its value\n",
    "print('R = ',R,'J.mol⁻1.K⁻1')"
   ]
  },
  {
   "cell_type": "markdown",
   "metadata": {},
   "source": [
    "# The NRTL model\n",
    "as presented in previous lecture, is reproduced below in a minimalist numpy/numba format"
   ]
  },
  {
   "cell_type": "code",
   "execution_count": 4,
   "metadata": {
    "collapsed": false
   },
   "outputs": [],
   "source": [
    "from numba import jit\n",
    "@jit\n",
    "def Gamma(T,c_x,q_alpha, q_A):\n",
    "    q_tau     = q_A/T\n",
    "    q_G       = np.exp(-(q_alpha*q_tau))\n",
    "    l_D       = ((1/((q_G.T) @ c_x)).T)\n",
    "    q_E       = (q_tau*q_G) * l_D \n",
    "    gamma     = np.exp(((q_E+(q_E.T))-(((q_G * l_D) * (c_x.T)) @ (q_E.T))) @ c_x)\n",
    "    return gamma"
   ]
  },
  {
   "cell_type": "markdown",
   "metadata": {},
   "source": [
    "# System target of this case study\n",
    "Ethyl acetate (1) + water (2) + ethanol (3)\n"
   ]
  },
  {
   "cell_type": "code",
   "execution_count": 5,
   "metadata": {
    "collapsed": true
   },
   "outputs": [],
   "source": [
    "# Ethyl acetate (1) + water (2) + ethanol (3)\n",
    "\n",
    "# some identification variables\n",
    "# which integer index shall correspond to which component here\n",
    "i_EA = 0\n",
    "i_W = 1\n",
    "i_E = 2\n",
    "\n",
    "# name of the components of the system in a format suitable for labeling of the plots\n",
    "compNames = ['ethyl acetate', 'water', 'ethanol']\n"
   ]
  },
  {
   "cell_type": "markdown",
   "metadata": {},
   "source": [
    "# Fitted parameters\n",
    "from Renon and Prausnitz, 1969."
   ]
  },
  {
   "cell_type": "code",
   "execution_count": 6,
   "metadata": {
    "collapsed": true
   },
   "outputs": [],
   "source": [
    "# 3 binary aĺpha parameters\n",
    "\n",
    "alpha12 = 0.4\n",
    "\n",
    "alpha23 = 0.3\n",
    "\n",
    "alpha13 = 0.3\n",
    "\n",
    "# 6 binary Dgij parameters\n",
    "Dg12 = 1335 * 4.184 #J/K\n",
    "Dg21 = 2510 * 4.184 #J/K\n",
    "\n",
    "Dg23 = 976 * 4.184 #J/K\n",
    "Dg32 = 88 * 4.184 #J/K\n",
    "\n",
    "Dg13 = 301 * 4.184 #J/K\n",
    "Dg31 = 322 * 4.184 #J/K"
   ]
  },
  {
   "cell_type": "markdown",
   "metadata": {
    "collapsed": true
   },
   "source": [
    "## Feeding the fitted parameters to the model in matrix structure:\n",
    "we will assemble the parameters in a matrix structure compatible with the current imlementation of the model"
   ]
  },
  {
   "cell_type": "code",
   "execution_count": 7,
   "metadata": {
    "collapsed": false
   },
   "outputs": [],
   "source": [
    "#assemble matrix with regressed parameters Dg_i,j, according to the model all diagonal terms are zero\n",
    "Dg = np.array([[0, Dg12, Dg13],\n",
    "             [Dg21, 0, Dg23],\n",
    "             [Dg31, Dg32, 0]])\n",
    "\n",
    "\n",
    "#assemble symmetric matrix alpha\n",
    "alpha = np.array([[0, alpha12, alpha13],\n",
    "                [alpha12, 0, alpha23],\n",
    "                [alpha13, alpha23, 0]])\n",
    "\n",
    "A= Dg/R"
   ]
  },
  {
   "cell_type": "markdown",
   "metadata": {},
   "source": [
    "## Thermodynamic condition for the system target of the case study\n",
    "* ELL equilibria at constant temperature of 70 °C and constant atmospheric pressure\n",
    "* Varying in phases composition, overall composition and relative amount of phases"
   ]
  },
  {
   "cell_type": "code",
   "execution_count": 8,
   "metadata": {
    "collapsed": true
   },
   "outputs": [],
   "source": [
    "T = 273+70 #K"
   ]
  },
  {
   "cell_type": "markdown",
   "metadata": {
    "collapsed": true
   },
   "source": [
    "# Liq-Liq Equilibria Flash\n",
    "Now we start discussing the Liq-Liq equilibria flash calculation\n",
    "\n",
    "it works as follows:\n",
    "\n",
    "The degrees of Freedom for a flash calculation are temperature - T, pressure - P and global composition - z\n",
    "\n",
    "<img src=support-files/algorithms.png width=500>\n",
    "\n",
    "**Equilibriuma criteria**\n",
    "\n",
    "$$\\mu_{i}^{\\rm {L1}}=\\mu_{i}^{\\rm {L2}}, \\forall i$$\n",
    "\n",
    "**derived criteria after analytical simplification of repeated contributions:**\n",
    "\n",
    "$$x_{i}^{\\rm {L1}} \\gamma_{i}^{\\rm {L1}}= x_{i}^{\\rm {L2}} \\gamma_{i}^{\\rm {L2}}, \\forall i$$\n",
    "\n",
    "**Devised algorithm**\n",
    "\n",
    "based on Rachford and Rice\n",
    "successive substitution (fixed point search) of K,XI,XII,beta meeting the following criteria\n",
    "\n",
    "|*variables* | number |\n",
    "| :-: | :-: |\n",
    "| $K$ | (C) |\n",
    "| $\\gamma^{I}, \\gamma^{II}$ | (2C) |\n",
    "| $x^{I}, x^{II}$ | (2C) |\n",
    "| $\\beta$ | (1) |\n",
    "| **total** | **(5C+1)** |\n",
    "\n",
    "| - - - - - - - - - - - - - - - - *equations* - - - - - - - - - - - - - - - - | number |\n",
    "| :-: | :-: |\n",
    "| $K(\\gamma^{I},\\gamma^{II})=\\gamma^I/\\gamma^{II}$ | (C) |\n",
    "| $\\gamma=f^{\\gamma}(x)$ | (2C) |\n",
    "| $x^I(\\beta,K)=$ | (C) |\n",
    "| $x^{II}(K,x^I)=Kx^I$ | (C) |\n",
    "| $F(\\beta ,K)= \\sum_i \\left[ \\frac{z_i(K_i-1)} {1+ \\beta (K_i-1)} \\right]=0$ | (1) |\n",
    "| **total** | **(5C+1)** |"
   ]
  },
  {
   "cell_type": "markdown",
   "metadata": {},
   "source": [
    "## A closure for the model\n",
    "\n",
    "Noticing how the recursive use of the model is to be performed:\n",
    "* the model is a function of T, x, alpha and A\n",
    "* T is constant throughout all calculations of interest in this notebook\n",
    "* the parameters matrix alpha and A depend on the components present in the system and a indexing order specified, however not on specific composition\n",
    "---\n",
    "* we could use with convenience a model implementation tha provides gamma as a function of x at constant pre-specified T alpha and A\n",
    "\n",
    "we will use th lambda function to create that convenient interface implementation form the previously implemented model."
   ]
  },
  {
   "cell_type": "code",
   "execution_count": 9,
   "metadata": {
    "collapsed": true
   },
   "outputs": [],
   "source": [
    "#using the lambda function, create a closure defining the model NRTL with constant T and paramters for the algorithm to work with.\n",
    "MODEL = lambda x: Gamma(T,x,alpha,A)"
   ]
  },
  {
   "cell_type": "markdown",
   "metadata": {
    "collapsed": true
   },
   "source": [
    "# The algorithm\n",
    "based on Rachford and Rice (1952) approach to LV equilibrium\n",
    "\n",
    "\n",
    "Ref: Rachford HH, Rice JD, Petroleum Trans AIME 1952;195:327-328"
   ]
  },
  {
   "cell_type": "markdown",
   "metadata": {},
   "source": [
    "## explicit implementation\n",
    "first we provide an explicit (regarding the loops through the lists of comps and phases) implementation\n",
    "\n",
    "* note how the 4th argument is MODEL, which shall match a function of one variable, correspondig to the model for gamma as a function of x under study."
   ]
  },
  {
   "cell_type": "code",
   "execution_count": 10,
   "metadata": {
    "collapsed": false
   },
   "outputs": [],
   "source": [
    "def ELLflash_explicit(Z,beta0,K0,MODEL,qolog):\n",
    "    \n",
    "    #copy intial guesses to local variables\n",
    "    beta=beta0.copy() #we use the '.copy()' function to enforce the creation of *copies* and not *views*,\n",
    "    # so the local variables initially assume the same values of the initial guesse but tehn vary independently\n",
    "    K=K0.copy()\n",
    "\n",
    "    converged = 0 # flag indicating convergence, 0 means not converged yet\n",
    "    \n",
    "    if qolog: #consider a logical variable to enable or disable the logging of every intermediate step values and reporting it\n",
    "        itlogi=0\n",
    "        itlogv=np.ndarray(2,dtype=object)\n",
    "        itlogv[0]=np.zeros(100*100)\n",
    "        itlogv[1]=np.zeros([100*100,3])\n",
    "    \n",
    "    #initialize local arrays for intemediate values and for results\n",
    "    a = np.zeros(3)\n",
    "    XI = np.zeros(3)\n",
    "    XII = np.zeros(3)\n",
    "    \n",
    "    #initialize counters of total number of iterations\n",
    "    looped2=0\n",
    "    looped3=0\n",
    "    \n",
    "    #managing loop for fixed point point algorithm\n",
    "    looping2 = 0\n",
    "    while ( (looping2 == 0) # means do at least once\n",
    "           or ((ResK)>1e-5 # convergence criteria\n",
    "               and looping2 < 100) ): # max number of iterations\n",
    "\n",
    "        # copy k from previous iteration\n",
    "        prevK = K.copy()\n",
    "        \n",
    "        #Solve RachfordRice equation for beta with a newton raphson loop\n",
    "        looping3 = 0\n",
    "        while ( (looping3 == 0) # means do at least once\n",
    "               or ((ResBeta)>1e-5 # convergence criteria\n",
    "                   and looping3 < 100) ): #max number of iterations\n",
    "            \n",
    "            prevbeta = beta.copy()\n",
    "\n",
    "            for i in range(3):\n",
    "                a[i] = ( (K[i]-1) / (1+beta*(K[i]-1)) )            \n",
    "                \n",
    "            R=0 #residue funtion (F)\n",
    "            for j in range(3):\n",
    "                R+=Z[j]*a[j]\n",
    "\n",
    "            J=0 #jacobian (Fprime)\n",
    "            for j in range(3):\n",
    "                J-=Z[j]*a[j]*a[j]\n",
    "                            \n",
    "            beta -= R/J #NR step            \n",
    "            \n",
    "            if beta[0,0]<0:\n",
    "                beta[0,0]=0\n",
    "                \n",
    "            if 1<beta[0,0]:\n",
    "                beta[0,0]=1\n",
    "            \n",
    "            ResBeta = abs(beta[0,0]-prevbeta[0,0])\n",
    "            \n",
    "            looping3 += 1        \n",
    "            \n",
    "            if qolog:\n",
    "                itlogv[0][itlogi] = beta[0,0]\n",
    "                itlogv[1][itlogi,0:3] = K[0:3,0]\n",
    "                itlogi += 1\n",
    "            \n",
    "        looped3 += looping3\n",
    "\n",
    "        for i in range(3):\n",
    "            XI[i] = Z[i] * (1./(1+beta * (K[i]-1))) #Rachford-Rice composition updating scheme\n",
    "                \n",
    "        gamaI = MODEL(XI/np.sum(XI)) #enforce normalization in the MODEL call\n",
    "        \n",
    "        for i in range(3):\n",
    "            XII[i] = K[i]*XI[i]\n",
    "\n",
    "        gamaII = MODEL(XII/np.sum(XII)) #enforce normalization in the MODEL call\n",
    "        \n",
    "        for i in range(3):\n",
    "            K[i] = (gamaI[i])/(gamaII[i]) #definition of K\n",
    "        \n",
    "        ResK=0\n",
    "        for i in range(3):\n",
    "            ResK += np.sqrt((prevK[i]-K[i])**2)\n",
    "            \n",
    "        looping2 += 1\n",
    "    \n",
    "    looped2 += looping2\n",
    "        \n",
    "    #print('Calculation has ended')\n",
    "    if (looping2 < 100 and looping3 < 100 and (0.<beta[0,0]<1.) ):\n",
    "        converged = 1\n",
    "    \n",
    "    if qolog: #return results and also iteration log, if asked for\n",
    "        return XI, XII, beta, converged, looped2, looped3, itlogv\n",
    "    \n",
    "    else:\n",
    "        return XI, XII, beta, converged, looping2, looped3"
   ]
  },
  {
   "cell_type": "markdown",
   "metadata": {},
   "source": [
    "### using an aproximation of a known solution as initial guess as an easy test for the algorithm\n",
    "As a intial guess for the solution we can use either \n",
    "* a experimentally know values fr the variables in a equilibrium point\n",
    "* an ad-hoc solution of the model/algorithm"
   ]
  },
  {
   "cell_type": "code",
   "execution_count": 11,
   "metadata": {
    "collapsed": false
   },
   "outputs": [
    {
     "name": "stdout",
     "output_type": "stream",
     "text": [
      "at T 343 Z [[ 0.42  0.52  0.06]]\n",
      "with ig of k0 [[ 0.03448276  2.71428571  0.42857143]] beta0 [[ 0.29]]\n",
      "solution is\n",
      "xi [ 0.58176023  0.34614498  0.07209479]\n",
      "xii [ 0.02191961  0.9478448   0.03023559]\n",
      "beta [[ 0.28893979]]\n",
      "converged? 1 -- 1 means yes\n"
     ]
    }
   ],
   "source": [
    "#in our first test we are using the following\n",
    "#exact ad-hoc NRTL solution\n",
    "'''at T 343 Z [[ 0.42  0.52  0.06]]\n",
    "with ig of k0 [[ 0.19681576  7.55695835  1.03698841]] beta0 [[ 0.63972591]]\n",
    "solution is\n",
    "xi [ 0.5817747   0.34612964  0.07209566]\n",
    "xii [ 0.02191985  0.94784403  0.03023612]\n",
    "beta [[ 0.28895829]]'''\n",
    "\n",
    "#appproximate solution by truncation\n",
    "Z_test = np.array([[ 0.42,  0.52,  0.06]]).T\n",
    "XI_test = np.array([[ 0.58 ,  0.35 , 0.07]]).T\n",
    "XII_test = np.array([[ 0.02 , 0.95,  0.03]]).T\n",
    "BETA_test = np.array([[ 0.29]])\n",
    "\n",
    "# approximate K\n",
    "K_test=1/(XI_test/XII_test)\n",
    "\n",
    "#run the algorithm\n",
    "beta0=BETA_test\n",
    "k0=K_test\n",
    "Z=Z_test\n",
    "ans=ELLflash_explicit(Z,beta0,k0,MODEL,True)\n",
    "\n",
    "print('at T', T, 'Z', Z_test.T)\n",
    "print('with ig of k0', K_test.T,'beta0', BETA_test)\n",
    "print('solution is')\n",
    "print('xi',ans[0].T)\n",
    "print('xii',ans[1].T)\n",
    "print('beta',ans[2])\n",
    "print('converged?',ans[3], '-- 1 means yes')"
   ]
  },
  {
   "cell_type": "markdown",
   "metadata": {},
   "source": [
    "# NOTICE THE SIMMETRY\n",
    "\n",
    "IF WE SWITCH THE INDEX OF THE PHASES L1 (I) <->L2 (II)\n",
    "* Then the new beta is 1-beta\n",
    "* the new x1 is x2 and the new x2 is x1,\n",
    "* then the new k=x2/x1 is old x1/x2, therefore new_K is the old_K^-1\n"
   ]
  },
  {
   "cell_type": "code",
   "execution_count": 12,
   "metadata": {
    "collapsed": false,
    "scrolled": true
   },
   "outputs": [
    {
     "name": "stdout",
     "output_type": "stream",
     "text": [
      "at T 343 Z [[ 0.42  0.52  0.06]]\n",
      "with ig of k0 [[ 29.           0.36842105   2.33333333]] beta0 [[ 0.71]]\n",
      "solution is\n",
      "xi [ 0.02191969  0.94784455  0.03023576]\n",
      "xii [ 0.58176493  0.34614     0.07209507]\n",
      "beta [[ 0.71105421]]\n",
      "converged? 1 -- 1 means yes\n"
     ]
    }
   ],
   "source": [
    "beta0=1-BETA_test\n",
    "k0=K_test**-1\n",
    "Z=Z_test\n",
    "\n",
    "ans=ELLflash_explicit(Z,beta0,k0,MODEL,True)\n",
    "\n",
    "print('at T', T, 'Z', Z.T)\n",
    "print('with ig of k0', k0.T,'beta0', beta0)\n",
    "print('solution is')\n",
    "print('xi',ans[0].T)\n",
    "print('xii',ans[1].T)\n",
    "print('beta',ans[2])\n",
    "print('converged?',ans[3], '-- 1 means yes')"
   ]
  },
  {
   "cell_type": "markdown",
   "metadata": {},
   "source": [
    "* isn't\n",
    "\n",
    ">- at T 343 Z [[ 0.42  0.52  0.06]]\n",
    ">- with ig of k0 [[ 0.03448276  2.71428571  0.42857143]] beta0 [[ 0.29]]\n",
    ">- solution is\n",
    ">- xi [ 0.58176023  0.34614498  0.07209479]\n",
    ">- xii [ 0.02191961  0.9478448   0.03023559]\n",
    ">- beta [[ 0.28893979]]\n",
    ">- converged? 1 -- 1 means yes\n",
    "\n",
    "\n",
    "\n",
    "* the same solution as\n",
    "\n",
    ">- at T 343 Z [[ 0.42  0.52  0.06]]\n",
    ">- with ig of k0 [[ 5.08089396  0.13232837  0.96433093]] beta0 [[ 0.36027409]]\n",
    ">- solution is\n",
    ">- xi [ 0.02191977  0.94784429  0.03023594]\n",
    ">- xii [ 0.58176983  0.3461348   0.07209537]\n",
    ">- beta [[ 0.71104794]]\n",
    ">- converged? 1 -- 1 means yes\n",
    "\n",
    "\n"
   ]
  },
  {
   "cell_type": "markdown",
   "metadata": {},
   "source": [
    "# the mathematical posed system has 2 equivalent solutions, convergence to one or another depends on the initial guess\n",
    "\n",
    "# the mathematical posed system has also a inifinity of trivial solutions, convergence to that is dependent on initial guess too, when x1==x2==z exactly , k->[1,1,1] exactly, while beta could assume any value and it would not alter the value of our residue functions for there is a K-1 in the numerator"
   ]
  },
  {
   "cell_type": "markdown",
   "metadata": {
    "collapsed": true
   },
   "source": [
    "# with one set of initial guesses the problem converges"
   ]
  },
  {
   "cell_type": "code",
   "execution_count": 15,
   "metadata": {
    "collapsed": false,
    "scrolled": true
   },
   "outputs": [
    {
     "name": "stdout",
     "output_type": "stream",
     "text": [
      "at T 343 Z [[ 0.42  0.52  0.06]]\n",
      "with ig of k0 [[  0.1   1.   10. ]] beta0 [[ 0.5]]\n",
      "solution is\n",
      "xi [ 0.58175966  0.34614558  0.07209475]\n",
      "xii [ 0.0219196   0.94784483  0.03023557]\n",
      "beta [[ 0.28893906]]\n",
      "converged? 1 -- 1 means yes\n"
     ]
    }
   ],
   "source": [
    "#we picked an ad-hoc known problematic point here \n",
    "\n",
    "beta0=np.array([[.5]])\n",
    "k0=np.array([[0.1 , 1 , 10]]).T \n",
    "Z=Z_test\n",
    "\n",
    "ans=ELLflash_explicit(Z,beta0,k0,MODEL,True)\n",
    "\n",
    "print('at T', T, 'Z', Z.T)\n",
    "print('with ig of k0', k0.T,'beta0', beta0)\n",
    "print('solution is')\n",
    "print('xi',ans[0].T)\n",
    "print('xii',ans[1].T)\n",
    "print('beta',ans[2])\n",
    "print('converged?',ans[3], '-- 1 means yes')"
   ]
  },
  {
   "cell_type": "markdown",
   "metadata": {},
   "source": [
    "## see the it log"
   ]
  },
  {
   "cell_type": "code",
   "execution_count": 16,
   "metadata": {
    "collapsed": false
   },
   "outputs": [
    {
     "data": {
      "image/png": "[encoded data removed]",
      "text/plain": [
       "<matplotlib.figure.Figure at 0x9a34390>"
      ]
     },
     "metadata": {},
     "output_type": "display_data"
    }
   ],
   "source": [
    "fig1, ax1 = plt.subplots(1,1)\n",
    "ax1b = ax1.twinx()\n",
    "\n",
    "xiz=np.arange(ans[5])\n",
    "\n",
    "ax1.plot(xiz[0:ans[5]-2],(ans[6][0][0:ans[5]-2]))\n",
    "\n",
    "ax1b.semilogy(xiz[0+2:ans[5]],(ans[6][1][0+2:ans[5],0]))\n",
    "ax1b.semilogy(xiz[0+2:ans[5]],(ans[6][1][0+2:ans[5],1]))\n",
    "ax1b.semilogy(xiz[0+2:ans[5]],(ans[6][1][0+2:ans[5],2]))\n",
    "\n",
    "\n",
    "ax1.set_xlim(0,ans[5])\n",
    "ax1.set_ylim(0,1)\n",
    "plt.show()"
   ]
  },
  {
   "cell_type": "markdown",
   "metadata": {
    "collapsed": true
   },
   "source": [
    "# however with a dfferent one it does not"
   ]
  },
  {
   "cell_type": "code",
   "execution_count": 45,
   "metadata": {
    "collapsed": false
   },
   "outputs": [
    {
     "name": "stdout",
     "output_type": "stream",
     "text": [
      "at T 343 Z [[ 0.42  0.52  0.06]]\n",
      "with ig of k0 [[ 0.9  1.   1.1]] beta0 [[ 0.5]]\n",
      "solution is\n",
      "xi [ 0.42  0.52  0.06]\n",
      "xii [ 0.41973892  0.52026554  0.05999553]\n",
      "beta [[ 0.]]\n",
      "converged? 0 -- 1 means yes\n"
     ]
    }
   ],
   "source": [
    "beta0=np.array([[.5]])\n",
    "k0=np.array([[.9 , 1 , 1.1]]).T \n",
    "Z=Z_test\n",
    "\n",
    "ans=ELLflash_explicit(Z,beta0,k0,MODEL,True)\n",
    "\n",
    "print('at T', T, 'Z', Z.T)\n",
    "print('with ig of k0', k0.T,'beta0', beta0)\n",
    "print('solution is')\n",
    "print('xi',ans[0].T)\n",
    "print('xii',ans[1].T)\n",
    "print('beta',ans[2])\n",
    "print('converged?',ans[3], '-- 1 means yes')"
   ]
  },
  {
   "cell_type": "markdown",
   "metadata": {},
   "source": [
    "# However note,\n",
    "\n",
    "don't \n",
    "\n",
    ">- xi [ 0.42  0.52  0.06]\n",
    "\n",
    "and\n",
    "\n",
    ">- xii [ 0.41973892  0.52026554  0.05999553]\n",
    "\n",
    " in the solution found\n",
    " \n",
    " represent the same phase?"
   ]
  },
  {
   "cell_type": "markdown",
   "metadata": {},
   "source": [
    "## see the it log"
   ]
  },
  {
   "cell_type": "code",
   "execution_count": 46,
   "metadata": {
    "collapsed": false
   },
   "outputs": [
    {
     "data": {
      "image/png": "[encoded data removed]",
      "text/plain": [
       "<matplotlib.figure.Figure at 0x5b9b6d8>"
      ]
     },
     "metadata": {},
     "output_type": "display_data"
    }
   ],
   "source": [
    "fig1, ax1 = plt.subplots(1,1)\n",
    "ax1b = ax1.twinx()\n",
    "\n",
    "xiz=np.arange(ans[5])\n",
    "\n",
    "ax1.plot(xiz[0:ans[5]-2],(ans[6][0][0:ans[5]-2]))\n",
    "\n",
    "ax1b.semilogy(xiz[0+2:ans[5]],(ans[6][1][0+2:ans[5],0]))\n",
    "ax1b.semilogy(xiz[0+2:ans[5]],(ans[6][1][0+2:ans[5],1]))\n",
    "ax1b.semilogy(xiz[0+2:ans[5]],(ans[6][1][0+2:ans[5],2]))\n",
    "\n",
    "\n",
    "ax1.set_xlim(0,ans[5])\n",
    "\n",
    "ax1.set_ylim(0,1)\n",
    "ax1b.set_ylim(.9,1.1)\n",
    "\n",
    "plt.show()"
   ]
  },
  {
   "cell_type": "markdown",
   "metadata": {
    "collapsed": false
   },
   "source": [
    "# note how the K values converged to 1 instead ofg out from 1"
   ]
  },
  {
   "cell_type": "markdown",
   "metadata": {},
   "source": [
    "# using linear algebra"
   ]
  },
  {
   "cell_type": "code",
   "execution_count": 47,
   "metadata": {
    "collapsed": false
   },
   "outputs": [],
   "source": [
    "def ELLflash(Z,beta0,K0,MODEL): #ELLflash_linalg\n",
    "    \n",
    "    beta=beta0.copy()\n",
    "    K=K0.copy()\n",
    "    \n",
    "    converged = 0\n",
    "    \n",
    "    looped2 = 0\n",
    "    looped3 = 0\n",
    "    \n",
    "    looping2 = 0\n",
    "    while ( (looping2 == 0) # means do at least once\n",
    "           or ((ResK)>0.0001 # convergence criteria\n",
    "               and looping2 < 100) ): # max number of iterations\n",
    "\n",
    "        prevK = K.copy()        \n",
    "        \n",
    "        looping3 = 0\n",
    "        while ( (looping3 == 0)\n",
    "               or (ResBeta>0.0001 # convergence criteria\n",
    "                   and looping3 < 100) ): #max number of iterations\n",
    "            \n",
    "            prevbeta = beta.copy()\n",
    "            \n",
    "            a = (1/(1+beta*(K-1))) * (K-1)\n",
    "            beta = beta+(1/((Z.T*a.T) @ a)) @ (Z.T @ a)\n",
    "\n",
    "            if beta[0,0]<0:\n",
    "                beta[0,0]=0\n",
    "                \n",
    "            if 1<beta[0,0]:\n",
    "                beta[0,0]=1\n",
    "            \n",
    "            ResBeta = beta[0,0]-prevbeta[0,0]\n",
    "\n",
    "            looping3 += 1\n",
    "            \n",
    "        looped3 += looping3\n",
    "\n",
    "        XI = (1./(1+beta * (K-1))) * Z\n",
    "\n",
    "        gamaI = MODEL(XI/np.sum(XI))\n",
    "        \n",
    "        XII = K*XI\n",
    "\n",
    "        gamaII = MODEL(XII/np.sum(XII))\n",
    "        \n",
    "        K = (gamaI)/(gamaII)\n",
    "        \n",
    "        ResK = np.linalg.norm(K-prevK)\n",
    "        \n",
    "        looping2 += 1 \n",
    "        \n",
    "    looped2 += looping2\n",
    "\n",
    "    #print('Calculation has ended')\n",
    "    if (looping2 < 100 and looping3 < 100  and ( 0. < beta[0,0] < 1.)  ):\n",
    "        converged = 1\n",
    "    \n",
    "    return XI, XII, beta, converged, looped2, looped3"
   ]
  },
  {
   "cell_type": "markdown",
   "metadata": {
    "collapsed": true
   },
   "source": [
    "# objective methodology for providing 'good' initial guesses\n",
    "\n",
    "\n",
    "presented by Abreu, C. R. A., 2010 - COBEQ\n",
    "as \n",
    "\"a mdified version of Ohanomah e Thompson (1984)\""
   ]
  },
  {
   "cell_type": "code",
   "execution_count": 48,
   "metadata": {
    "collapsed": false
   },
   "outputs": [],
   "source": [
    "def iguess(Z,MODEL):\n",
    "    #print(Z)\n",
    "\n",
    "    gama0 = MODEL(Z/np.sum(Z))\n",
    "    \n",
    "    Xlin = 1/(gama0.T @ Z) * (gama0*Z)\n",
    "\n",
    "    gamalin = MODEL(Xlin/np.sum(Xlin))\n",
    "\n",
    "    Klin = (1./gamalin) * gama0\n",
    "\n",
    "    KlinMin = np.min(Klin)\n",
    "    KlinMax = np.max(Klin)\n",
    "  \n",
    "    nI0 = (KlinMax - Klin) * Z\n",
    "\n",
    "    nII0 = (Klin-KlinMin) * Z\n",
    "    \n",
    "    beta0 = np.array([[ 1/(KlinMax-KlinMin) * np.sum(nII0) ]])\n",
    "    \n",
    "    ###\n",
    "    \n",
    "    XI0 = 1/(np.sum(nI0)) * nI0\n",
    "\n",
    "    gamaI0=MODEL(XI0/np.sum(XI0))\n",
    "\n",
    "    XII0 = 1/(np.sum(nII0)) * nII0\n",
    "\n",
    "    gamaII0=MODEL(XII0/np.sum(XII0))\n",
    "    \n",
    "    K0 = (gamaI0)/(gamaII0)\n",
    "    \n",
    "    return beta0, K0"
   ]
  },
  {
   "cell_type": "markdown",
   "metadata": {},
   "source": [
    "# see the iteration log when using these initial guesses"
   ]
  },
  {
   "cell_type": "code",
   "execution_count": 49,
   "metadata": {
    "collapsed": false
   },
   "outputs": [
    {
     "name": "stdout",
     "output_type": "stream",
     "text": [
      "at T 343 Z [[ 0.42  0.52  0.06]]\n",
      "with ig of k0 [[ 0.19681576  7.55695835  1.03698841]] beta0 [[ 0.63972591]]\n",
      "solution is\n",
      "xi [ 0.5817747   0.34612964  0.07209566]\n",
      "xii [ 0.02191985  0.94784403  0.03023612]\n",
      "beta [[ 0.28895829]]\n",
      "converged? 1 -- 1 means yes\n"
     ]
    }
   ],
   "source": [
    "#exact ad-hoc NRTL solution\n",
    "'''at T 343 Z [[ 0.42  0.52  0.06]]\n",
    "with ig of k0 [[ 0.19681576  7.55695835  1.03698841]] beta0 [[ 0.63972591]]\n",
    "solution is\n",
    "xi [ 0.5817747   0.34612964  0.07209566]\n",
    "xii [ 0.02191985  0.94784403  0.03023612]\n",
    "beta [[ 0.28895829]]'''\n",
    "\n",
    "#appproximate\n",
    "Ztest = np.array([[0.42 , 0.52 , 0.06]]).T \n",
    "\n",
    "#objective initial guesses\n",
    "igtest = iguess(Ztest,MODEL)\n",
    "\n",
    "BETAtest = igtest[0]\n",
    "\n",
    "Ktest=igtest[1]\n",
    "\n",
    "beta0=BETAtest\n",
    "k0=Ktest\n",
    "Z=Ztest\n",
    "\n",
    "ans=ELLflash_explicit(Z,beta0,k0,MODEL,True)\n",
    "\n",
    "print('at T', T, 'Z', Z.T)\n",
    "print('with ig of k0', k0.T,'beta0', beta0)\n",
    "print('solution is')\n",
    "print('xi',ans[0].T)\n",
    "print('xii',ans[1].T)\n",
    "print('beta',ans[2])\n",
    "print('converged?',ans[3], '-- 1 means yes')"
   ]
  },
  {
   "cell_type": "code",
   "execution_count": 22,
   "metadata": {
    "collapsed": false
   },
   "outputs": [
    {
     "data": {
      "image/png": "[encoded data removed]",
      "text/plain": [
       "<matplotlib.figure.Figure at 0xa6afe80>"
      ]
     },
     "metadata": {},
     "output_type": "display_data"
    }
   ],
   "source": [
    "#create a figure\n",
    "fig1, ax1 = plt.subplots(1,1)\n",
    "\n",
    "# we create a plot with a secondary y axis using the twinx fnction\n",
    "ax1b = ax1.twinx()\n",
    "\n",
    "#create a common x axis representing the iterations\n",
    "xiz=np.arange(ans[5])\n",
    "\n",
    "#plot itlog for beta (dont plot last 2 point to create visual cue that beta belongs to left axis)\n",
    "ax1.plot(xiz[0:ans[5]-2],(ans[6][0][0:ans[5]-2]))\n",
    "\n",
    "#plot itlog for Ks (dont plot first 2 point to create visual cue that K belongs to 2nd axis)\n",
    "ax1b.semilogy(xiz[0+2:ans[5]],(ans[6][1][0+2:ans[5],0]))\n",
    "ax1b.semilogy(xiz[0+2:ans[5]],(ans[6][1][0+2:ans[5],1]))\n",
    "ax1b.semilogy(xiz[0+2:ans[5]],(ans[6][1][0+2:ans[5],2]))\n",
    "\n",
    "\n",
    "ax1.set_xlim(0,ans[5]-1)\n",
    "ax1.set_ylim(0,1)\n",
    "\n",
    "\n",
    "plt.show()"
   ]
  },
  {
   "cell_type": "markdown",
   "metadata": {},
   "source": [
    "# As in Lecture GE1, did linear algebra make a difference here?"
   ]
  },
  {
   "cell_type": "code",
   "execution_count": 50,
   "metadata": {
    "collapsed": false
   },
   "outputs": [
    {
     "name": "stdout",
     "output_type": "stream",
     "text": [
      "100 loops, best of 3: 19 ms per loop\n",
      "converged? 1 -- 1 means yes. to beta =  [[ 0.28895829]]\n",
      "100 loops, best of 3: 5.08 ms per loop\n",
      "converged? 1 -- 1 means yes. to beta =  [[ 0.28904542]]\n"
     ]
    }
   ],
   "source": [
    "ig = iguess(Z,MODEL)\n",
    "beta0=ig[0]\n",
    "k0=ig[1]\n",
    "# no linalg, close to solution\n",
    "%timeit ELLflash_explicit(Z,beta0,k0,MODEL,False)\n",
    "ans=ELLflash_explicit(Z,beta0,k0,MODEL,False)\n",
    "print('converged?',ans[3],'-- 1 means yes.','to beta = ',ans[2])\n",
    "\n",
    "# linalg, close to solution\n",
    "%timeit ELLflash(Z,beta0,k0,MODEL)\n",
    "ans=ELLflash(Z,beta0,k0,MODEL)\n",
    "print('converged?',ans[3],'-- 1 means yes.','to beta = ',ans[2])\n",
    "#approximately 1/3 ~ 1/4 the time here"
   ]
  },
  {
   "cell_type": "markdown",
   "metadata": {},
   "source": [
    "# grid calc plot\n",
    "as a simple idea to vary the independent variables of the system under study -- that is the overall composition\n",
    "and calculate the equilibrium condition for each we propose the following grid:"
   ]
  },
  {
   "cell_type": "code",
   "execution_count": 106,
   "metadata": {
    "collapsed": false,
    "scrolled": false
   },
   "outputs": [
    {
     "name": "stdout",
     "output_type": "stream",
     "text": [
      "attempnt calculation for 196\n",
      "done 22\n"
     ]
    }
   ],
   "source": [
    "nspace = 20\n",
    "\n",
    "Z1 = np.linspace(0,1,nspace) # a linear grid in Z1\n",
    "Z2 = np.linspace(0,1,nspace) # a linear grid in Z2\n",
    "\n",
    "Z1[0]=1e-9\n",
    "Z2[0]=1e-9\n",
    "\n",
    "\n",
    "Z1[-1]=1-2e-9\n",
    "Z2[-1]=1-2e-9\n",
    "\n",
    "#linear space for z1,z2 inside [0,1]x[0,1]\n",
    "rawZs = np.ndarray((nspace,nspace), dtype=object)\n",
    "\n",
    "flags = np.zeros((nspace,nspace))\n",
    "\n",
    "for i in range(nspace):\n",
    "    for j in range(nspace):\n",
    "        rawZs[i,j]=np.array([Z1[i],Z2[j],1-Z1[i]-Z2[j]]) #calculate the 3rd molar fraction, which is dependent on the previous 2\n",
    "        if ( Z1[i] + Z2[j] < 1 ): # filter all points in the cartesina Z1,Z2 that meet the requirements of non-negative and summing 1 molar fractions\n",
    "            flags[i,j] = 1 #auxiliar flags array help with thais fltering\n",
    "\n",
    "Zs = rawZs[np.where(flags==1)] #valid zs - the simplex where z1+z2<=1 and z3=1-z1-z2 (conseq z1+z2+Z3=1 forall z1,z2,z3 in [0,1])\n",
    "\n",
    "npts = Zs.shape[0] #number of valid pts\n",
    "\n",
    "print('attempnt calculation for',npts)\n",
    "\n",
    "Results_beta = np.zeros([npts])\n",
    "Results_conv = np.zeros([npts])\n",
    "Results_Z = np.zeros([npts,3])\n",
    "Results_XI = np.zeros([npts,3])\n",
    "Results_XII = np.zeros([npts,3])\n",
    "Results_K0 = np.ndarray(npts, dtype = object)\n",
    "Results_K = np.ndarray(npts, dtype = object)\n",
    "Results_beta0 = np.zeros([npts])\n",
    "\n",
    "l=0\n",
    "for k in range(npts):\n",
    "        \n",
    "    # for each point in the grid,\n",
    "    \n",
    "    # calculate the initial guess\n",
    "    beta0, K0 = iguess(np.array([Zs[k]]).T,MODEL)\n",
    "    \n",
    "    #then calculate the flash\n",
    "    ans = ELLflash(np.array([Zs[k]]).T,beta0,K0,MODEL)\n",
    "    \n",
    "    if (0<ans[2] and 1>ans[2] and ans[3]!=0):\n",
    "\n",
    "        Results_XI[l,:] = ans[0][0:3,0]\n",
    "        Results_XII[l,:] = ans[1][0:3,0]\n",
    "        Results_beta[l] = ans[2]\n",
    "        Results_conv[l] = ans[3]\n",
    "\n",
    "        Results_Z[l,:] = Zs[k]\n",
    "        \n",
    "        Results_beta0[l] = beta0[0,0]\n",
    "        Results_K0[l] = K0\n",
    "        \n",
    "        Results_K[l] = Results_XII[l,:]/Results_XI[l,:]\n",
    "        \n",
    "        l+=1\n",
    "            \n",
    "print('done',l)\n",
    "    \n",
    "ndone=l-1"
   ]
  },
  {
   "cell_type": "markdown",
   "metadata": {},
   "source": [
    "* of a grid with 196 points we foundo solutions for 22 points\n",
    "* lets soon see wether we tried calculations at conditions that do not have solution, or at conds that had solutions but our algorithms missed"
   ]
  },
  {
   "cell_type": "markdown",
   "metadata": {},
   "source": [
    "# filter only the converged results"
   ]
  },
  {
   "cell_type": "code",
   "execution_count": 107,
   "metadata": {
    "collapsed": false
   },
   "outputs": [],
   "source": [
    "fResults_XI = Results_XI[:][np.where(Results_conv!=0)]\n",
    "fResults_XII = Results_XII[:][np.where(Results_conv!=0)]\n",
    "fResults_beta = Results_beta[np.where(Results_conv!=0)]\n",
    "fResults_Z = Results_Z[:][np.where(Results_conv!=0)]"
   ]
  },
  {
   "cell_type": "code",
   "execution_count": 108,
   "metadata": {
    "collapsed": false
   },
   "outputs": [],
   "source": [
    "# identify the results for analysis and plotting\n",
    "XI_EA=fResults_XI[:,0]\n",
    "XI_W=fResults_XI[:,1]\n",
    "XI_E=fResults_XI[:,2]\n",
    "\n",
    "XII_EA=fResults_XII[:,0]\n",
    "XII_W=fResults_XII[:,1]\n",
    "XII_E=fResults_XII[:,2]\n",
    "\n",
    "Z_EA=fResults_Z[:,0]\n",
    "Z_W=fResults_Z[:,1]\n",
    "Z_E=fResults_Z[:,2]"
   ]
  },
  {
   "cell_type": "code",
   "execution_count": 109,
   "metadata": {
    "collapsed": true
   },
   "outputs": [],
   "source": [
    "# plot mole fractions results in axis of E vs EA plot(dataEA,dataE)"
   ]
  },
  {
   "cell_type": "code",
   "execution_count": 110,
   "metadata": {
    "collapsed": false,
    "scrolled": true
   },
   "outputs": [
    {
     "data": {
      "image/png": "[encoded data removed]",
      "text/plain": [
       "<matplotlib.figure.Figure at 0xa6b9860>"
      ]
     },
     "metadata": {},
     "output_type": "display_data"
    }
   ],
   "source": [
    "fig, ax = plt.subplots(1,1)\n",
    "\n",
    "plt.axis([0,1,0,1])\n",
    "    \n",
    "plt.scatter(XI_EA,XI_E)    \n",
    "plt.scatter(XII_EA,XII_E)    \n",
    "\n",
    "ZS=np.zeros([npts,3])\n",
    "for i in range(npts):\n",
    "    ZS[i,:]=Zs[i]\n",
    "\n",
    "plt.scatter(ZS[:,0],ZS[:,2],marker='o',s=80, facecolors='none', edgecolors='r')    \n",
    "    \n",
    "plt.scatter(Z_EA,Z_E,marker='*')\n",
    "\n",
    "plt.xlabel('mol. frac.' + compNames[i_EA])\n",
    "plt.ylabel('mol. frac.' + compNames[i_E])    \n",
    "\n",
    "#UNCOMMENT THIS LINE TO PLOT THE FAILED POINT\n",
    "#failedpoint= [0.42105263 , 0.52631579 , 0.05263158]\n",
    "#plt.scatter(failedpoint[0],failedpoint[2],marker='d')\n",
    "\n",
    "plt.plot([0,1],[1,0],color='k')\n",
    "\n",
    "ax.spines['right'].set_visible(False)\n",
    "ax.spines['top'].set_visible(False)\n",
    "ax.yaxis.set_ticks_position('left')\n",
    "ax.xaxis.set_ticks_position('bottom')\n",
    "\n",
    "plt.show()"
   ]
  },
  {
   "cell_type": "markdown",
   "metadata": {},
   "source": [
    "# note that we tried flash at every open circle, but converged only at asteriscs\n",
    "# outside the visible phase diagram, we sholud not have convergence because there is indeed no soltuiotn foe LLE\n",
    "# however inside the phase envelope there is solution but our algorithm failed\n",
    "# see discussions on that on notebook GE6"
   ]
  },
  {
   "cell_type": "code",
   "execution_count": 111,
   "metadata": {
    "collapsed": false
   },
   "outputs": [],
   "source": [
    "#sort mole fraction LEFT and RIGHT of the crit point, so we can connect the dots\n",
    "# sort points arbitrariyl identified by the algorith as XI and XII into XIl XIr XIIL XIIr\n",
    "\n",
    "X_EA_crit=.2 #approximately\n",
    "\n",
    "XI_EAl=XI_EA[np.where(XI_EA<=X_EA_crit)]\n",
    "XI_EAr=XI_EA[np.where(XI_EA>X_EA_crit)]\n",
    "XII_EAl=XII_EA[np.where(XII_EA<=X_EA_crit)]\n",
    "XII_EAr=XII_EA[np.where(XII_EA>X_EA_crit)]\n",
    "\n",
    "XI_Wl=XI_W[np.where(XI_EA<=X_EA_crit)]\n",
    "XI_Wr=XI_W[np.where(XI_EA>X_EA_crit)]\n",
    "XII_Wl=XII_W[np.where(XII_EA<=X_EA_crit)]\n",
    "XII_Wr=XII_W[np.where(XII_EA>X_EA_crit)]\n",
    "\n",
    "XI_El=XI_E[np.where(XI_EA<=X_EA_crit)]\n",
    "XI_Er=XI_E[np.where(XI_EA>X_EA_crit)]\n",
    "XII_El=XII_E[np.where(XII_EA<=X_EA_crit)]\n",
    "XII_Er=XII_E[np.where(XII_EA>X_EA_crit)]"
   ]
  },
  {
   "cell_type": "code",
   "execution_count": 112,
   "metadata": {
    "collapsed": false,
    "scrolled": false
   },
   "outputs": [],
   "source": [
    "#cooncatenate points from arbitrary XI and XII into L and R arrays,\n",
    "#which actually defines the two different phases I and II\n",
    "\n",
    "Lx = np.concatenate((XI_EAl,XII_EAl),axis=0)\n",
    "Ly = np.concatenate((XI_El,XII_El),axis=0)\n",
    "\n",
    "Rx = np.concatenate((XI_EAr,XII_EAr),axis=0)\n",
    "Ry = np.concatenate((XI_Er,XII_Er),axis=0)\n",
    "\n",
    "sLy=np.sort(Ly)\n",
    "sLx=np.sort(Lx)\n",
    "sRy=np.sort(Ry)\n",
    "sRx=-np.sort(-Rx)\n"
   ]
  },
  {
   "cell_type": "code",
   "execution_count": 113,
   "metadata": {
    "collapsed": false
   },
   "outputs": [
    {
     "data": {
      "image/png": "[encoded data removed]",
      "text/plain": [
       "<matplotlib.figure.Figure at 0xa858ac8>"
      ]
     },
     "metadata": {},
     "output_type": "display_data"
    }
   ],
   "source": [
    "plt.axis([0,1,0,1])\n",
    "    \n",
    "plt.scatter(Lx,Ly)    \n",
    "plt.scatter(Rx,Ry)    \n",
    "\n",
    "plt.plot(sLx,sLy)\n",
    "plt.plot(sRx,sRy)\n",
    "\n",
    "# plot every calculated tieline\n",
    "for i in range(0,ndone):\n",
    "    plt.plot([XI_EA[i],XII_EA[i]],[XI_E[i],XII_E[i]])\n",
    "    \n",
    "plt.xlabel('mol. frac.' + compNames[i_EA])\n",
    "plt.ylabel('mol. frac.' + compNames[i_E])    \n",
    "\n",
    "plt.title('LLE at '+str(T-273)+'°C')    \n",
    "\n",
    "plt.show()"
   ]
  },
  {
   "cell_type": "code",
   "execution_count": 114,
   "metadata": {
    "collapsed": false
   },
   "outputs": [
    {
     "data": {
      "image/png": "[encoded data removed]",
      "text/plain": [
       "<matplotlib.figure.Figure at 0xa829828>"
      ]
     },
     "metadata": {},
     "output_type": "display_data"
    }
   ],
   "source": [
    "plt.axis([0,.8,0,.2])\n",
    "    \n",
    "plt.scatter(Lx,Ly)    \n",
    "plt.scatter(Rx,Ry)    \n",
    "\n",
    "plt.plot(sLx,sLy)\n",
    "plt.plot(sRx,sRy)\n",
    "\n",
    "\n",
    "# plot every calculated tieline\n",
    "for i in range(0,ndone):\n",
    "    plt.plot([XI_EA[i],XII_EA[i]],[XI_E[i],XII_E[i]])\n",
    "\n",
    "plt.xlabel('mol. frac.' + compNames[i_EA])\n",
    "plt.ylabel('mol. frac.' + compNames[i_E])    \n",
    "    \n",
    "plt.title('LLE at '+str(T-273)+'°C')    \n",
    "    \n",
    "plt.show()\n"
   ]
  },
  {
   "cell_type": "code",
   "execution_count": 115,
   "metadata": {
    "collapsed": false
   },
   "outputs": [
    {
     "name": "stdout",
     "output_type": "stream",
     "text": [
      "(array([[  1.43020513e-02],\n",
      "       [  9.85697948e-01],\n",
      "       [  5.47056472e-10]]), array([[  7.65267420e-01],\n",
      "       [  2.34732578e-01],\n",
      "       [  1.42895098e-09]]), array([[ 0.51360284]]), 1, 65, 102)\n"
     ]
    }
   ],
   "source": [
    "# Warm restart GCP\n",
    "MODEL = lambda x: Gamma(T,x,alpha,A)\n",
    "\n",
    "nspace = 400\n",
    "\n",
    "#Z0 = np.array([0.1  , 0.85 , 0.05]).T\n",
    "Z0 = np.array([[0.4  , 0.6-1e-9 , 1e-9]]).T\n",
    "\n",
    "ig = iguess(Z0,MODEL)\n",
    "\n",
    "ans = ELLflash(Z0,ig[0],ig[1],MODEL)\n",
    "print (ans)"
   ]
  },
  {
   "cell_type": "markdown",
   "metadata": {},
   "source": [
    "# having noticed the algorithm converges on ost of the points in the first proposed grid, and being able to calculate beta, XI and XII for (theoretically) any Z\n",
    "# we now proceed to a secondary objective, create a grid that will generate a figure with tielines more evenly spcaced, we dont care now for pronting values of beta, but rather only plot XI and xII to assemble the LLE envelope in the phase diagram.\n",
    "\n",
    "* we start with a equilibrium point close to the binary line\n",
    "* we proceed with variations of Z that we expect will yeld tie lines evenly spaced coming from the almost binary calculation up to close to the LLE crit point\n",
    "  * the next Z shall be the middle point of the tileine from the previous Z plus a small vector in the direction perepndicular to the tieline\n",
    "* we use the initial guess functionfor the frist flash\n",
    "* but noticign the sequential calculations, we use a warm restart methodology, the solution of each flash is the initial guess for the next"
   ]
  },
  {
   "cell_type": "code",
   "execution_count": 116,
   "metadata": {
    "collapsed": false,
    "scrolled": true
   },
   "outputs": [
    {
     "name": "stdout",
     "output_type": "stream",
     "text": [
      "done 17\n"
     ]
    }
   ],
   "source": [
    "nspace = 100\n",
    " \n",
    "Z0 = np.array([0.4  , 0.6-3e-9 , 3e-9]) #first calculation point, aprox. binary of EA and W: Z_E = 1e-9\n",
    "\n",
    "Zs = np.ndarray((nspace), dtype=object)\n",
    "\n",
    "flags = np.zeros((nspace))\n",
    "\n",
    "npts = nspace\n",
    "\n",
    "Results_beta = np.zeros([npts])\n",
    "Results_conv = np.zeros([npts])\n",
    "Results_Z = np.zeros([npts,3])\n",
    "Results_XI = np.zeros([npts,3])\n",
    "Results_XII = np.zeros([npts,3])\n",
    "\n",
    "Zs[0]=Z0\n",
    "\n",
    "beta0, K0 = iguess(np.array([Zs[0]]).T,MODEL)\n",
    "\n",
    "l=0\n",
    "\n",
    "for k in range(nspace-1):\n",
    "\n",
    "    try:\n",
    "    \n",
    "        ans = ELLflash(np.array([Zs[k]]).T,beta0,K0,MODEL)\n",
    "        #succeeds:\n",
    "\n",
    "        if (0<ans[2][0,0] and 1>ans[2][0,0] and ans[3]!=0):\n",
    "\n",
    "            Results_XI[l,:] = ans[0][0:3,0]#np.array([ans[0][0][0],ans[0][1][0],ans[0][2][0]])\n",
    "            Results_XII[l,:] = ans[1][0:3,0] #np.array([ans[1][0][0],ans[1][1][0],ans[1][2][0]])\n",
    "            Results_beta[l] = ans[2]\n",
    "            Results_conv[l] = ans[3]\n",
    "\n",
    "            Results_Z[l,:] = Zs[k]\n",
    "\n",
    "            x=Zs[k][2]\n",
    "            y=Zs[k][1]            \n",
    "\n",
    "           \n",
    "            Results_XI[l,:] = ans[0][0:3,0]\n",
    "\n",
    "            \n",
    "            vec = Results_XII[l,:] - Results_XI[l,:]\n",
    "            \n",
    "            vm = 0.5*(Results_XII[l,:] + Results_XI[l,:])\n",
    "\n",
    "           \n",
    "            ww1=1\n",
    "            ww2 = vec[2]*ww1/vec[1]\n",
    "\n",
    "            w1 = ww1/(np.sqrt(ww1**2+ww2**2))\n",
    "            w2 = ww2/(np.sqrt(ww1**2+ww2**2))\n",
    "            \n",
    "            xm=vm[2]\n",
    "            ym=vm[1]\n",
    "            d=0.01\n",
    "            x=xm+w1*d\n",
    "            y=ym+w2*d\n",
    "            z=1-y-x\n",
    "            Zs[k+1]=[z,y,x]\n",
    "\n",
    "           \n",
    "            beta0=ans[2].copy()\n",
    "            K0=ans[1]/ans[0]\n",
    "\n",
    "            l+=1\n",
    "            \n",
    "        #else:\n",
    "            #raise ValueError\n",
    "\n",
    "    except:\n",
    "        break # after first non cinvergence, break the grid\n",
    "\n",
    "print('done',l)\n",
    "ndone=l\n",
    "\n",
    "\n",
    "\n",
    "\n",
    "\n"
   ]
  },
  {
   "cell_type": "markdown",
   "metadata": {},
   "source": [
    "# filter only the converged results"
   ]
  },
  {
   "cell_type": "code",
   "execution_count": 117,
   "metadata": {
    "collapsed": false
   },
   "outputs": [],
   "source": [
    "fResults_XI = Results_XI[:][np.where(Results_conv!=0)]\n",
    "fResults_XII = Results_XII[:][np.where(Results_conv!=0)]\n",
    "fResults_beta = Results_beta[np.where(Results_conv!=0)]\n",
    "fResults_Z = Results_Z[:][np.where(Results_conv!=0)]"
   ]
  },
  {
   "cell_type": "code",
   "execution_count": 118,
   "metadata": {
    "collapsed": false
   },
   "outputs": [],
   "source": [
    "# identify the results for analysis and plotting\n",
    "XI_EA=fResults_XI[:,0]\n",
    "XI_W=fResults_XI[:,1]\n",
    "XI_E=fResults_XI[:,2]\n",
    "\n",
    "XII_EA=fResults_XII[:,0]\n",
    "XII_W=fResults_XII[:,1]\n",
    "XII_E=fResults_XII[:,2]\n",
    "\n",
    "Z_EA=fResults_Z[:,0]\n",
    "Z_W=fResults_Z[:,1]\n",
    "Z_E=fResults_Z[:,2]"
   ]
  },
  {
   "cell_type": "code",
   "execution_count": 119,
   "metadata": {
    "collapsed": true
   },
   "outputs": [],
   "source": [
    "# plot mole fractions results in axis of E vs EA plot(dataEA,dataE)"
   ]
  },
  {
   "cell_type": "code",
   "execution_count": 120,
   "metadata": {
    "collapsed": false,
    "scrolled": true
   },
   "outputs": [
    {
     "data": {
      "image/png": "[encoded data removed]",
      "text/plain": [
       "<matplotlib.figure.Figure at 0x9abe518>"
      ]
     },
     "metadata": {},
     "output_type": "display_data"
    }
   ],
   "source": [
    "plt.axis([0,1,0,1])\n",
    "    \n",
    "plt.scatter(XI_EA,XI_E)    \n",
    "plt.scatter(XII_EA,XII_E)    \n",
    "\n",
    "ZS=np.zeros([npts,3])\n",
    "for i in range(npts):\n",
    "    ZS[i,:]=Zs[i]\n",
    "\n",
    "plt.scatter(ZS[:,0],ZS[:,2],marker='o',s=80, facecolors='none', edgecolors='r')    \n",
    "    \n",
    "plt.scatter(Z_EA,Z_E,marker='*')\n",
    "\n",
    "plt.xlabel('mol. frac.' + compNames[i_EA])\n",
    "plt.ylabel('mol. frac.' + compNames[i_E])    \n",
    "\n",
    "#UNCOMMENT THIS LINE TO PLOT THE FAILED POINT\n",
    "#failedpoint= [0.42105263 , 0.52631579 , 0.05263158]\n",
    "#plt.scatter(failedpoint[0],failedpoint[2],marker='d')\n",
    "\n",
    "plt.show()"
   ]
  },
  {
   "cell_type": "markdown",
   "metadata": {},
   "source": [
    "# note that we tried flash at every open circle, but converged only at asteriscs\n",
    "# outside the visible phase diagram, we sholud not have convergence because there is indeed no soltuiotn foe LLE\n",
    "# however inside the phase envelope there is solution but our algorithm failed\n",
    "# see discussions on that on notebook GE6"
   ]
  },
  {
   "cell_type": "code",
   "execution_count": 121,
   "metadata": {
    "collapsed": false
   },
   "outputs": [],
   "source": [
    "#sort mole fraction LEFT and RIGHT of the crit point, so we can connect the dots\n",
    "# sort points arbitrariyl identified by the algorith as XI and XII into XIl XIr XIIL XIIr\n",
    "\n",
    "X_EA_crit=.2 #approximately\n",
    "\n",
    "XI_EAl=XI_EA[np.where(XI_EA<=X_EA_crit)]\n",
    "XI_EAr=XI_EA[np.where(XI_EA>X_EA_crit)]\n",
    "XII_EAl=XII_EA[np.where(XII_EA<=X_EA_crit)]\n",
    "XII_EAr=XII_EA[np.where(XII_EA>X_EA_crit)]\n",
    "\n",
    "XI_Wl=XI_W[np.where(XI_EA<=X_EA_crit)]\n",
    "XI_Wr=XI_W[np.where(XI_EA>X_EA_crit)]\n",
    "XII_Wl=XII_W[np.where(XII_EA<=X_EA_crit)]\n",
    "XII_Wr=XII_W[np.where(XII_EA>X_EA_crit)]\n",
    "\n",
    "XI_El=XI_E[np.where(XI_EA<=X_EA_crit)]\n",
    "XI_Er=XI_E[np.where(XI_EA>X_EA_crit)]\n",
    "XII_El=XII_E[np.where(XII_EA<=X_EA_crit)]\n",
    "XII_Er=XII_E[np.where(XII_EA>X_EA_crit)]"
   ]
  },
  {
   "cell_type": "code",
   "execution_count": 122,
   "metadata": {
    "collapsed": false,
    "scrolled": false
   },
   "outputs": [],
   "source": [
    "#cooncatenate points from arbitrary XI and XII into L and R arrays,\n",
    "#which actually defines the two different phases I and II\n",
    "\n",
    "Lx = np.concatenate((XI_EAl,XII_EAl),axis=0)\n",
    "Ly = np.concatenate((XI_El,XII_El),axis=0)\n",
    "\n",
    "Rx = np.concatenate((XI_EAr,XII_EAr),axis=0)\n",
    "Ry = np.concatenate((XI_Er,XII_Er),axis=0)\n",
    "\n",
    "sLy=np.sort(Ly)\n",
    "sLx=np.sort(Lx)\n",
    "sRy=np.sort(Ry)\n",
    "sRx=-np.sort(-Rx)\n"
   ]
  },
  {
   "cell_type": "code",
   "execution_count": 145,
   "metadata": {
    "collapsed": false
   },
   "outputs": [
    {
     "data": {
      "image/png": "[encoded data removed]",
      "text/plain": [
       "<matplotlib.figure.Figure at 0xb973198>"
      ]
     },
     "metadata": {},
     "output_type": "display_data"
    }
   ],
   "source": [
    "plt.axis([0,1,0,1])\n",
    "    \n",
    "plt.scatter(Lx,Ly)    \n",
    "plt.scatter(Rx,Ry)    \n",
    "\n",
    "plt.plot(sLx,sLy)\n",
    "plt.plot(sRx,sRy)\n",
    "\n",
    "# plot every calculated tieline\n",
    "for i in range(0,ndone):\n",
    "    plt.plot([XI_EA[i],XII_EA[i]],[XI_E[i],XII_E[i]])\n",
    "    \n",
    "plt.xlabel('mol. frac. ' + compNames[i_EA])\n",
    "plt.ylabel('mol. frac. ' + compNames[i_E])    \n",
    "\n",
    "plt.title('LLE at '+str(T-273)+'°C')    \n",
    "\n",
    "plt.show()"
   ]
  },
  {
   "cell_type": "code",
   "execution_count": 148,
   "metadata": {
    "collapsed": false
   },
   "outputs": [
    {
     "data": {
      "image/png": "[encoded data removed]",
      "text/plain": [
       "<matplotlib.figure.Figure at 0xbbfc240>"
      ]
     },
     "metadata": {},
     "output_type": "display_data"
    }
   ],
   "source": [
    "plt.axis([0,.8,0,.2])\n",
    "    \n",
    "plt.scatter(Lx,Ly)    \n",
    "plt.scatter(Rx,Ry)    \n",
    "\n",
    "plt.plot(sLx,sLy)\n",
    "plt.plot(sRx,sRy)\n",
    "\n",
    "\n",
    "# plot every calculated tieline\n",
    "for i in range(0,ndone):\n",
    "    plt.plot([XI_EA[i],XII_EA[i]],[XI_E[i],XII_E[i]])\n",
    "\n",
    "plt.xlabel('mol. frac. ' + compNames[i_EA])\n",
    "plt.ylabel('mol. frac. ' + compNames[i_E])    \n",
    "    \n",
    "plt.title('LLE at '+str(T-273)+'°C')    \n",
    "    \n",
    "plt.show()\n"
   ]
  },
  {
   "cell_type": "markdown",
   "metadata": {
    "collapsed": true
   },
   "source": [
    "# publication ready format for our graphical abstract"
   ]
  },
  {
   "cell_type": "code",
   "execution_count": 154,
   "metadata": {
    "collapsed": false
   },
   "outputs": [
    {
     "data": {
      "image/png": "[encoded data removed]",
      "text/plain": [
       "<matplotlib.figure.Figure at 0xa9062b0>"
      ]
     },
     "metadata": {},
     "output_type": "display_data"
    }
   ],
   "source": [
    "#bonus: some drafts for saving the fig in publication quality format\n",
    "\n",
    "from matplotlib import rcParams as rc\n",
    "\n",
    "fig_width = 9 / 2.54 #in inches\n",
    "fig_height = 9 / 2.54 #in inches\n",
    "fig_size =  [fig_width,fig_height]\n",
    "\n",
    "#FONTS & TICKS\\n\",\n",
    "params = {'backend': 'ps',\n",
    "'axes.labelsize': 12,  #in pts\n",
    "'font.size': 8, #in pts\n",
    "'legend.fontsize': 8, #in pts\n",
    "'xtick.labelsize': 10, #in pts\n",
    "'ytick.labelsize': 10, #in pts\n",
    "'text.usetex': False,\n",
    "'figure.figsize': fig_size}\n",
    "rc.update(params)\n",
    "\n",
    "GAfig, GAax1 = plt.subplots(1,1)\n",
    "\n",
    "plt.axis([0,1,0,1])\n",
    "    \n",
    "#plt.scatter(Lx,Ly)    \n",
    "#plt.scatter(Rx,Ry)    \n",
    "\n",
    "plt.plot(sLx,sLy,color='k')\n",
    "plt.plot(sRx,sRy,color='k')\n",
    "\n",
    "\n",
    "# plot every calculated tieline\n",
    "for i in range(0,ndone,2):\n",
    "    plt.plot([XI_EA[i],XII_EA[i]],[XI_E[i],XII_E[i]])\n",
    "\n",
    "plt.xlabel('mol. frac. ' + compNames[i_EA])\n",
    "plt.ylabel('mol. frac. ' + compNames[i_E])    \n",
    "    \n",
    "plt.title('[ethyl acetate; water; ethanol] \\n LLE at '+str(T)+' K')    \n",
    "\n",
    "#plt.legend()    \n",
    "\n",
    "plt.plot([0,1],[1,0],color='k')\n",
    "\n",
    "GAax1.spines['right'].set_visible(False)\n",
    "GAax1.spines['top'].set_visible(False)\n",
    "GAax1.yaxis.set_ticks_position('left')\n",
    "GAax1.xaxis.set_ticks_position('bottom')\n",
    "\n",
    "\n",
    "plt.tight_layout()\n",
    "\n",
    "GAfig.savefig('fig3.png', dpi=1000)\n",
    "        \n",
    "plt.show() #finally show the plot. It shows in the output section of the cell if the magic command %matplotlib inline was used in the beginning of the notebook"
   ]
  },
  {
   "cell_type": "code",
   "execution_count": null,
   "metadata": {
    "collapsed": true
   },
   "outputs": [],
   "source": []
  },
  {
   "cell_type": "code",
   "execution_count": null,
   "metadata": {
    "collapsed": true
   },
   "outputs": [],
   "source": []
  },
  {
   "cell_type": "code",
   "execution_count": null,
   "metadata": {
    "collapsed": true
   },
   "outputs": [],
   "source": []
  },
  {
   "cell_type": "code",
   "execution_count": null,
   "metadata": {
    "collapsed": true
   },
   "outputs": [],
   "source": []
  }
 ],
 "metadata": {
  "anaconda-cloud": {},
  "kernelspec": {
   "display_name": "Python 3",
   "language": "python",
   "name": "python3"
  },
  "language_info": {
   "codemirror_mode": {
    "name": "ipython",
    "version": 3
   },
   "file_extension": ".py",
   "mimetype": "text/x-python",
   "name": "python",
   "nbconvert_exporter": "python",
   "pygments_lexer": "ipython3",
   "version": "3.6.0"
  }
 },
 "nbformat": 4,
 "nbformat_minor": 1
}
