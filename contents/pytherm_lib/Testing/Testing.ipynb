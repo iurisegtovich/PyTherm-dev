{
 "cells": [
  {
   "cell_type": "markdown",
   "metadata": {},
   "source": [
    "# Testing"
   ]
  },
  {
   "cell_type": "code",
   "execution_count": 3,
   "metadata": {
    "collapsed": false
   },
   "outputs": [
    {
     "name": "stdout",
     "output_type": "stream",
     "text": [
      "['/home/segtovichisv']\n"
     ]
    }
   ],
   "source": [
    "homepath=!echo ~\n",
    "print(homepath)"
   ]
  },
  {
   "cell_type": "code",
   "execution_count": 6,
   "metadata": {
    "collapsed": false
   },
   "outputs": [
    {
     "name": "stdout",
     "output_type": "stream",
     "text": [
      "['/home/segtovichisv/Storage/github-clones/fortranLAB', '', '/home/segtovichisv/anaconda3/lib/python36.zip', '/home/segtovichisv/anaconda3/lib/python3.6', '/home/segtovichisv/anaconda3/lib/python3.6/lib-dynload', '/home/segtovichisv/anaconda3/lib/python3.6/site-packages', '/home/segtovichisv/anaconda3/lib/python3.6/site-packages/Sphinx-1.5.1-py3.6.egg', '/home/segtovichisv/anaconda3/lib/python3.6/site-packages/setuptools-27.2.0-py3.6.egg', '/home/segtovichisv/anaconda3/lib/python3.6/site-packages/IPython/extensions', '/home/segtovichisv/.ipython']\n",
      "['/home/segtovichisv/Storage/github-clones/pytherm-applied-thermodynamics/contents/', '/home/segtovichisv/Storage/github-clones/fortranLAB', '', '/home/segtovichisv/anaconda3/lib/python36.zip', '/home/segtovichisv/anaconda3/lib/python3.6', '/home/segtovichisv/anaconda3/lib/python3.6/lib-dynload', '/home/segtovichisv/anaconda3/lib/python3.6/site-packages', '/home/segtovichisv/anaconda3/lib/python3.6/site-packages/Sphinx-1.5.1-py3.6.egg', '/home/segtovichisv/anaconda3/lib/python3.6/site-packages/setuptools-27.2.0-py3.6.egg', '/home/segtovichisv/anaconda3/lib/python3.6/site-packages/IPython/extensions', '/home/segtovichisv/.ipython']\n"
     ]
    }
   ],
   "source": [
    "import sys\n",
    "print(sys.path)\n",
    "\n",
    "sys.path.insert(0, homepath[0]+\"/Storage/github-clones/pytherm-applied-thermodynamics/contents/\")\n",
    "print(sys.path)"
   ]
  },
  {
   "cell_type": "code",
   "execution_count": 9,
   "metadata": {
    "collapsed": false,
    "scrolled": true
   },
   "outputs": [
    {
     "name": "stdout",
     "output_type": "stream",
     "text": [
      "Help on module pytherm_lib.m_vEoS in pytherm_lib:\n",
      "\n",
      "NAME\n",
      "    pytherm_lib.m_vEoS\n",
      "\n",
      "DESCRIPTION\n",
      "    #import\n",
      "    from project_lnslib import m_vEoS\n",
      "    #need help?\n",
      "    help(m_vEoS)\n",
      "    #if reloading needed\n",
      "    import importlib\n",
      "    importlib.reload(m_vEoS)\n",
      "    #instance and call methods\n",
      "    vEoS_obj=m_vEoS.c_vEoS(ncomp,Tc,Pc,acentric,k)\n",
      "    P=vEoS_obj.Pressure(T,V,x)\n",
      "    V=vEoS_obj.Volume(T,P,x)\n",
      "    f=vEoS_obj.fugacity_coeff(T,V,x))\n",
      "    Hr=vEoS_objf_H_res(T,V,x)\n",
      "    Sr=vEoS_obj.f_S_res(T,V,x)\n",
      "    #base case test\n",
      "    m_vEoS.test()\n",
      "\n",
      "CLASSES\n",
      "    builtins.object\n",
      "        c_vEoS\n",
      "    \n",
      "    class c_vEoS(builtins.object)\n",
      "     |  #objetivo - código simples, sem polimorfismo, implementação de uma única EoS, toma Peng e Robinson como base, inclui modificações, fazer consistency checks nessa rotina (tipos e valores)\n",
      "     |  \n",
      "     |  Methods defined here:\n",
      "     |  \n",
      "     |  Pressure(self, T, V, x)\n",
      "     |  \n",
      "     |  Volume(self, T, P, x)\n",
      "     |  \n",
      "     |  __init__(self, ncomp, Tc, Pc, acentric, k)\n",
      "     |      Initialize self.  See help(type(self)) for accurate signature.\n",
      "     |  \n",
      "     |  f_H_res(self, T, V, x)\n",
      "     |      #other spec flashes\n",
      "     |  \n",
      "     |  f_S_res(self, T, V, x)\n",
      "     |  \n",
      "     |  fugacity_coeff(self, T, V, x)\n",
      "     |      #phase equilibrium common\n",
      "     |  \n",
      "     |  ----------------------------------------------------------------------\n",
      "     |  Data descriptors defined here:\n",
      "     |  \n",
      "     |  __dict__\n",
      "     |      dictionary for instance variables (if defined)\n",
      "     |  \n",
      "     |  __weakref__\n",
      "     |      list of weak references to the object (if defined)\n",
      "\n",
      "FUNCTIONS\n",
      "    test()\n",
      "\n",
      "DATA\n",
      "    bash_command = 'readlink -f '\n",
      "    modification_time = '\"29/11/17 18:09:49\"'\n",
      "    phys_file_path_str = '/home/segtovichisv/Storage/github-clones/pytherm...\n",
      "\n",
      "FILE\n",
      "    /home/segtovichisv/Storage/github-clones/pytherm-applied-thermodynamics/contents/pytherm_lib/m_vEoS.py\n",
      "\n",
      "\n"
     ]
    }
   ],
   "source": [
    "from pytherm_lib import m_vEoS\n",
    "#    |                 |\n",
    "     #package          |\n",
    "                        #module\n",
    "help(m_vEoS)"
   ]
  },
  {
   "cell_type": "code",
   "execution_count": 10,
   "metadata": {
    "collapsed": false
   },
   "outputs": [
    {
     "name": "stdout",
     "output_type": "stream",
     "text": [
      "@ input/system\n",
      "ncomp : 5\n",
      "cnames : ['co2' 'benzene' 'ethane' 'ethanol' 'methane']\n",
      "Tc : [ 304.1    562.     305.3    513.9    190.555]\n",
      "Pc : [ 7380000.  4890000.  4871400.  6140000.  4595000.]\n",
      "acentric : [ 0.239  0.212  0.099  0.644  0.008]\n",
      "k : [[ 0.  0.  0.  0.  0.]\n",
      " [ 0.  0.  0.  0.  0.]\n",
      " [ 0.  0.  0.  0.  0.]\n",
      " [ 0.  0.  0.  0.  0.]\n",
      " [ 0.  0.  0.  0.  0.]]\n",
      "@ input/condition\n",
      "T : 283.0\n",
      "P : 4000000.0\n",
      "x : [ 0.93  0.01  0.03  0.02  0.01]\n",
      "@ output\n",
      "VL : 5.17677492135e-05\n",
      "VV : 0.000363132304686\n",
      "PL = PV : 4000000.0 = 4000000.0\n",
      "fL : [  8.04568526e-01   3.41738856e-03   5.99811479e-01   3.72531141e-03\n",
      "   3.59476984e+00]\n",
      "fV : [ 0.75659237  0.19034674  0.64484996  0.22536026  0.9991886 ]\n",
      "HrL : -12658.8816721\n",
      "HrV : -2862.76922251\n",
      "SrL : -41.626345027\n",
      "SrV : -7.46376290917\n"
     ]
    }
   ],
   "source": [
    "m_vEoS.test()"
   ]
  }
 ],
 "metadata": {
  "kernelspec": {
   "display_name": "Python 3",
   "language": "python",
   "name": "python3"
  },
  "language_info": {
   "codemirror_mode": {
    "name": "ipython",
    "version": 3
   },
   "file_extension": ".py",
   "mimetype": "text/x-python",
   "name": "python",
   "nbconvert_exporter": "python",
   "pygments_lexer": "ipython3",
   "version": "3.6.0"
  }
 },
 "nbformat": 4,
 "nbformat_minor": 2
}
