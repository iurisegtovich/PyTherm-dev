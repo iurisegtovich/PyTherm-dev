{
 "cells": [
  {
   "cell_type": "code",
   "execution_count": 34,
   "metadata": {
    "collapsed": true
   },
   "outputs": [],
   "source": [
    "import numpy as np\n",
    "from matplotlib import pyplot as plt\n",
    "%matplotlib inline\n"
   ]
  },
  {
   "cell_type": "code",
   "execution_count": 263,
   "metadata": {
    "collapsed": true
   },
   "outputs": [],
   "source": [
    "#Figura 7.1 para binários\n",
    "\n",
    "#Exemplo, Substância A e Substância B\n",
    "\n",
    "#Correlações para pressão de saturação\n",
    "\n",
    "def calc_Psat(T):\n",
    "    Psat0 = 10**( 4.02291 - 1452.711/(T-42.619)) #P in bar T in K\n",
    "    Psat1 = 10**( 3.01722 - 1312.472/(T-51.119))\n",
    "    return Psat0, Psat1\n",
    "\n",
    "#Margules de dois sufixos\n",
    "def calc_gamma(x):\n",
    "    a12 = 1.235\n",
    "    a21 = 0.518\n",
    "    \n",
    "    gamma0 = np.exp((a12 + 2*(a21-a12)*(x[0]))*(x[1]**2))\n",
    "    gamma1 = np.exp((a21 + 2*(a12-a21)*(x[1]))*(x[0]**2))\n",
    "    return gamma0, gamma1"
   ]
  },
  {
   "cell_type": "code",
   "execution_count": 264,
   "metadata": {
    "collapsed": false
   },
   "outputs": [],
   "source": [
    "#Figura 7.1a\n",
    "\n",
    "def P_bol(T,x):\n",
    "\n",
    "    #Etapa 1 - Estimativa Inicial de Pressão de bolha\n",
    "    Psat = calc_Psat(T)\n",
    "    gamma = calc_gamma(x)\n",
    "    \n",
    "    P=0\n",
    "    for i in range(len(x)):\n",
    "        P += x[i]*Psat[i]*gamma[i]\n",
    "        \n",
    "    #Etapa 2 - Cálculo de y\n",
    "    y = np.zeros(len(x))\n",
    "    y[:] = x[:]*Psat[:]*gamma[:]/P\n",
    "\n",
    "    return P, y"
   ]
  },
  {
   "cell_type": "code",
   "execution_count": 272,
   "metadata": {
    "collapsed": false
   },
   "outputs": [
    {
     "data": {
      "image/png": "[encoded data removed]",
      "text/plain": [
       "<matplotlib.figure.Figure at 0x7f14c87a8e10>"
      ]
     },
     "metadata": {},
     "output_type": "display_data"
    }
   ],
   "source": [
    "#Gráfico P contra z a T constante\n",
    "import numpy as np\n",
    "\n",
    "\n",
    "T = 300#K\n",
    "\n",
    "x_ = np.linspace(0,1,100)\n",
    "x__ = 1 - x_\n",
    "\n",
    "xf_ = np.concatenate((np.array([x_]).T,np.array([x__]).T),axis=1)\n",
    "\n",
    "P_axis1 = np.zeros(100)\n",
    "y_axis1 = np.zeros([100,2])\n",
    "\n",
    "for i in range(0,100):\n",
    "     P_axis1[i], y_axis1[i] = P_bol(T, xf_[i,:])\n",
    "\n",
    "plt.plot(x_,P_axis1)\n",
    "plt.plot(y_axis1[:,0],P_axis1)\n",
    "plt.xlim(0,1)\n",
    "Psat_lim = calc_Psat(T)\n",
    "plt.ylim(min(Psat_lim),max(Psat_lim))\n",
    "\n",
    "plt.show()"
   ]
  }
 ],
 "metadata": {
  "kernelspec": {
   "display_name": "Python 3",
   "language": "python",
   "name": "python3"
  },
  "language_info": {
   "codemirror_mode": {
    "name": "ipython",
    "version": 3
   },
   "file_extension": ".py",
   "mimetype": "text/x-python",
   "name": "python",
   "nbconvert_exporter": "python",
   "pygments_lexer": "ipython3",
   "version": "3.6.0"
  }
 },
 "nbformat": 4,
 "nbformat_minor": 2
}
