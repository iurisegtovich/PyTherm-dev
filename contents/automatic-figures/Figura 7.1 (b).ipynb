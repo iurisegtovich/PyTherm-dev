{
 "cells": [
  {
   "cell_type": "code",
   "execution_count": 1,
   "metadata": {
    "collapsed": true
   },
   "outputs": [],
   "source": [
    "import numpy as np\n",
    "from matplotlib import pyplot as plt\n",
    "from scipy import optimize as opt\n",
    "\n",
    "%matplotlib inline"
   ]
  },
  {
   "cell_type": "code",
   "execution_count": 2,
   "metadata": {
    "collapsed": true
   },
   "outputs": [],
   "source": [
    "#Figura 7.1 para binários\n",
    "\n",
    "#Exemplo, Substância A e Substância B\n",
    "\n",
    "#Correlações para pressão de saturação\n",
    "\n",
    "def calc_Psat(T):\n",
    "    Psat0 = 10**( 4.02291 - 1452.711/(T-42.619)) #P in bar T in K from http://webbook.nist.gov/cgi/cbook.cgi?ID=C56235&Mask=4\n",
    "    Psat1 = 10**( 3.01722 - 1312.472/(T-51.119))\n",
    "    return Psat0, Psat1\n",
    "\n",
    "def calc_TELV(P):\n",
    "    T_ELV0 = (1452.711/(4.02291-np.log10(P)))+42.619 #P in bar T in K from http://webbook.nist.gov/cgi/cbook.cgi?ID=C56235&Mask=4\n",
    "    T_ELV1 = (1312.472/(3.01722-np.log10(P)))+51.119\n",
    "    return T_ELV0, T_ELV1\n",
    "\n",
    "#Margules de dois sufixos\n",
    "def calc_gamma(x):\n",
    "    a12 = 1.235\n",
    "    a21 = 0.518\n",
    "    \n",
    "    gamma0 = np.exp((a12 + 2*(a21-a12)*(x[0]))*(x[1]**2))\n",
    "    gamma1 = np.exp((a21 + 2*(a12-a21)*(x[1]))*(x[0]**2))\n",
    "    return gamma0, gamma1"
   ]
  },
  {
   "cell_type": "code",
   "execution_count": 22,
   "metadata": {
    "collapsed": true
   },
   "outputs": [],
   "source": [
    "def T_bol(P,x):\n",
    "    \n",
    "    #Etapa 1 - Definição da Função resíduo e uso do método de Newton para achar T\n",
    "    def Residual(T,P,x):\n",
    "        Psat = calc_Psat(T)\n",
    "        gamma = calc_gamma(x)\n",
    "        sum_=0\n",
    "        for i in range(len(x)):\n",
    "            sum_ += x[i]*gamma[i]*Psat[i]\n",
    "        \n",
    "        Res = P - sum_\n",
    "        return(Res)\n",
    "    \n",
    "    #Figura 7.2 - Método de Newton-Raphson para busca de raízes\n",
    "    T_ELV = calc_TELV(P)\n",
    "    \n",
    "    T_guess = 0\n",
    "    for i in range(len(x)):\n",
    "        T_guess += x[i]*T_ELV[i]\n",
    "    \n",
    "    T=opt.newton(lambda T: Residual(T,P,x), x0=T_guess, fprime=None, args=(), tol=1.e-8, maxiter=100, fprime2=None)\n",
    "    \n",
    "    #Etapa 2 - Cálculo de y\n",
    "    Psat = calc_Psat(T)\n",
    "    gamma = calc_gamma(x)\n",
    "    y = np.zeros(len(x))\n",
    "    y[:] = x[:]*Psat[:]*gamma[:]/P\n",
    "\n",
    "    return T, y"
   ]
  },
  {
   "cell_type": "code",
   "execution_count": 24,
   "metadata": {
    "collapsed": false
   },
   "outputs": [
    {
     "data": {
      "image/png": "[encoded data removed]",
      "text/plain": [
       "<matplotlib.figure.Figure at 0x7fd929a2ab70>"
      ]
     },
     "metadata": {},
     "output_type": "display_data"
    }
   ],
   "source": [
    "P = 0.015#bar\n",
    "\n",
    "x_ = np.linspace(0,1,100)\n",
    "x__ = 1 - x_\n",
    "\n",
    "xf_ = np.concatenate((np.array([x_]).T,np.array([x__]).T),axis=1)\n",
    "\n",
    "T_axis1 = np.zeros(100)\n",
    "y_axis1 = np.zeros([100,2])\n",
    "\n",
    "for i in range(0,100):\n",
    "     T_axis1[i], y_axis1[i] = T_bol(P, xf_[i,:])\n",
    "\n",
    "plt.plot(x_,T_axis1)\n",
    "plt.plot(y_axis1[:,0],T_axis1)\n",
    "plt.xlim(0,1)\n",
    "TELV_lim = calc_TELV(P)\n",
    "plt.ylim(min(TELV_lim),max(TELV_lim))\n",
    "\n",
    "plt.show()"
   ]
  }
 ],
 "metadata": {
  "kernelspec": {
   "display_name": "Python 3",
   "language": "python",
   "name": "python3"
  },
  "language_info": {
   "codemirror_mode": {
    "name": "ipython",
    "version": 3
   },
   "file_extension": ".py",
   "mimetype": "text/x-python",
   "name": "python",
   "nbconvert_exporter": "python",
   "pygments_lexer": "ipython3",
   "version": "3.6.0"
  }
 },
 "nbformat": 4,
 "nbformat_minor": 2
}
