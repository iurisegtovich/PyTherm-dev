{
 "cells": [
  {
   "cell_type": "markdown",
   "metadata": {},
   "source": [
    "# Cálculo de propriedades termodinâmicas de substância pura [água] a partir de equação de estado [Peng-Robinson]\n",
    "\n",
    "**Pedro-Andrade$^a$**, Fernando de Azevedo Medeiros$^{a,\\dagger}$, Iuri Soter Viana Segtovich$^{a,\\dagger}$ (January 2017)\n",
    "\n",
    "${a}$) *Escola de Química, Universidade Federal do Rio de Janeiro, Rio de Janeiro, Brasil*\n",
    "\n",
    "${\\dagger}$) *Orientadores*"
   ]
  },
  {
   "cell_type": "markdown",
   "metadata": {},
   "source": [
    "# Cálculo de Pressão de Saturação da Água"
   ]
  },
  {
   "cell_type": "code",
   "execution_count": 1,
   "metadata": {
    "collapsed": true
   },
   "outputs": [],
   "source": [
    "import numpy as np\n",
    "import matplotlib.pyplot as plt\n",
    "%matplotlib inline"
   ]
  },
  {
   "cell_type": "code",
   "execution_count": 2,
   "metadata": {
    "collapsed": false
   },
   "outputs": [
    {
     "name": "stdout",
     "output_type": "stream",
     "text": [
      "Tc = 647.1 Pc = 22055000.0 Tr = 0.5764178643177252\n",
      "alfa = 1.4655105472784773 a = 0.6001337199553094 b = 1.8979203068053684e-05 k = 0.8745924719999999 om = 0.345\n"
     ]
    }
   ],
   "source": [
    "#Calcular pressão de saturação da água pura com PREOS\n",
    "\n",
    "#Definição das constantes físicas e da EOS\n",
    "\n",
    "\n",
    "\n",
    "T = 373\n",
    "R = 8.3144598 \n",
    "Tc = 647.1    #K\n",
    "Tr = T/Tc\n",
    "Pc = 220.55e5  #Pa\n",
    "\n",
    "a = 0.45724*(R**2)*(Tc**2)/Pc\n",
    "b = 0.0778*R*Tc/Pc\n",
    "om = 0.345    #fator acêntrico\n",
    "k = 0.37464 + 1.54226*om - 0.26992*(om**2)\n",
    "\n",
    "e = 1-np.sqrt(2) #espilon da EOS cubica genérica para PR\n",
    "s = 1+np.sqrt(2) #sigma da EOS cubica genérica par PR\n",
    "#alfa = (1+k*(1-Tr**0.5))**2\n",
    "\n",
    "#Definindo alfa para como função da temperatura\n",
    "def func_alfa_de_T(T):\n",
    "    Tr = T/Tc\n",
    "    alfa = (1+k*(1-Tr**0.5))**2 \n",
    "    return alfa\n",
    "\n",
    "\n",
    "print ('Tc =',Tc,'Pc =', Pc,'Tr =', Tr)\n",
    "print ('alfa =', func_alfa_de_T(T),'a =', a,'b =', b,'k =', k,'om =', om)\n"
   ]
  },
  {
   "cell_type": "code",
   "execution_count": 48,
   "metadata": {
    "collapsed": false
   },
   "outputs": [
    {
     "name": "stdout",
     "output_type": "stream",
     "text": [
      "373 136818.1390437065\n",
      "138450.60291964284\n",
      "1.0149875439090539\n",
      "0.8745924719999999\n"
     ]
    }
   ],
   "source": [
    "#definindo a equação de estado\n",
    "def P_preos(T,V):\n",
    "    return (R*T)/(V-b) - func_alfa_de_T(T)*a/(V**2 + 2*b*V - b**2)  #PREOS escrita para pressão\n",
    "print (T,P_preos (T,0.0224))\n",
    "print (R*T/0.0224)\n",
    "print (func_alfa_de_T(0.983*Tc))\n",
    "print (k)\n"
   ]
  },
  {
   "cell_type": "code",
   "execution_count": 65,
   "metadata": {
    "collapsed": false
   },
   "outputs": [
    {
     "name": "stdout",
     "output_type": "stream",
     "text": [
      "2.25075762133e-05\n",
      "-42172.7994417 -112.612274029\n",
      "0.0307463926529\n",
      "-70.9219763517 -0.118940281504\n"
     ]
    }
   ],
   "source": [
    "#print (T,P_preos (T,0.0224))\n",
    "\n",
    "T=373\n",
    "P=1e5\n",
    "V=np.real(V_preos(P=P,T=T))[0]\n",
    "print(V)\n",
    "H=H_res(P=P,T=T,V=V)\n",
    "S=S_res(P=P,T=T,V=V)\n",
    "print(H,S)\n",
    "\n",
    "V=np.real(V_preos(P=P,T=T))[2]\n",
    "print(V)\n",
    "H=H_res(P=P,T=T,V=V)\n",
    "S=S_res(P=P,T=T,V=V)\n",
    "print(H,S)"
   ]
  },
  {
   "cell_type": "code",
   "execution_count": 35,
   "metadata": {
    "collapsed": false,
    "scrolled": false
   },
   "outputs": [
    {
     "name": "stdout",
     "output_type": "stream",
     "text": [
      "373\n",
      "volume molar da fase liquida =  2.25075705393e-05\n",
      "raiz intermediaria =  0.0\n",
      "volume molar da fase vapor =  0.0304393142808\n"
     ]
    }
   ],
   "source": [
    "#Para o cálculo das pressões de saturação, é necessário\n",
    "#encontrar os volumes molares das fases\n",
    "#Usando método de Newton Raphson para resolver o polinomio de 3o grau...\n",
    "\n",
    "def V_preos(T,P):\n",
    "    \n",
    "    #definindo uma função alfa para ser recalculada em todas as temperaturas\n",
    "    alfa = func_alfa_de_T(T)\n",
    "        \n",
    "    #coeficientes específicos de cada EoS\n",
    "    #Método de Newton:    \n",
    "    c3 = P\n",
    "    c2 = P*b-R*T\n",
    "    c1 = alfa*a - 3*P*b**2 - 2*b*R*T\n",
    "    c0 = R*T*b**2 + P*b**3 - alfa*a*b\n",
    "    \n",
    "    Vs=np.roots([c3,c2,c1,c0])\n",
    "    Vs[np.logical_not(np.isreal(Vs))]=0.\n",
    "    return np.array([np.nanmin(Vs[Vs>b]),0,np.nanmax(Vs[Vs>b])])\n",
    "\n",
    "    RES=1\n",
    "    TOL=1e-10\n",
    "    MAX=1000\n",
    "    i=0\n",
    "    V=1.01*b#R*T/P\n",
    "    V2=0\n",
    "    V3=0\n",
    "\n",
    "    while(RES>TOL and i<MAX): \n",
    "        V=V-(c3*V**3+c2*V**2+c1*V+c0)/(3*c3*V**2+2*c2*V+c1)\n",
    "        RES=np.abs(c3*V**3+c2*V**2+c1*V+c0)\n",
    "        i=i+1\n",
    "\n",
    "#c4, c5 e c6, são os coeficientes da reduçao da ordem do polinomio em V    \n",
    "    c4=c3\n",
    "    c5=c2+c4*V\n",
    "    c6=c1+c5*V\n",
    "    \n",
    "#Encontrada a primeira raiz, encontra-se as outras duas por Bhaskara    \n",
    "    delta=(c5**2)-(4*c4*c6)\n",
    "    \n",
    "    if delta >= 0:\n",
    "        V2=(-c5 + np.sqrt(delta))/(2*c4)\n",
    "        V3=(-c5 - np.sqrt(delta))/(2*c4)\n",
    "    else:\n",
    "        #V2=0\n",
    "        #V3=0\n",
    "        V2= ((-c5))/(2*c4) #np.real((-c5 + np.sqrt(delta))/(2*c4))\n",
    "        V3= ((-c5))/(2*c4)\n",
    "\n",
    "#condicoes para validade das raízes\n",
    "#se o volume molar (V) for menor que o volume molecular (b), as raizes não tem significado físico\n",
    "    if V<b:\n",
    "        V=0\n",
    "    if V2<b:\n",
    "        V2=0\n",
    "    if V3<b:\n",
    "        V3=0\n",
    "\n",
    "    [V,V2,V3]=np.sort([V,V2,V3]) #cria um array com as 3 raizes do volume molar\n",
    "    \n",
    "    return [V,V2,V3]\n",
    "\n",
    "#tryT=373 \n",
    "tryP=101000\n",
    "T=373\n",
    "print (T)\n",
    "[ansv1,ansv2,ansv3]=V_preos(T,tryP)\n",
    "\n",
    "\n",
    "print ('volume molar da fase liquida = ',ansv1)\n",
    "print ('raiz intermediaria = ',ansv2)\n",
    "print ('volume molar da fase vapor = ', ansv3)\n",
    "\n"
   ]
  },
  {
   "cell_type": "markdown",
   "metadata": {
    "collapsed": true
   },
   "source": [
    "Para o cálculo das pressões de saturação com os volumes molares das duas fases, é necessário o calculo das fugacidades.\n",
    "Para isso, utiliza-se a função de energia livre residual, que pode ser calculada, para a equação de Peng Robinson, por:\n",
    "\n",
    "Gres/RT = Z - 1 - ln(Z - beta) - q*I\n",
    "\n",
    "onde:\n",
    "I = 1/(s-e) * ln((Z+s*beta)/(Z+e*beta));\n",
    "\n",
    "s = 1+sqrt2;\n",
    "\n",
    "e = 1-sqrt2;\n",
    "\n",
    "Z = PV/RT ;\n",
    "\n",
    "beta = Pb/RT;\n",
    "\n",
    "q = a(T)/bRT;\n"
   ]
  },
  {
   "cell_type": "code",
   "execution_count": 36,
   "metadata": {
    "collapsed": false
   },
   "outputs": [
    {
     "name": "stdout",
     "output_type": "stream",
     "text": [
      "[  2.25075705e-05   0.00000000e+00   3.04393143e-02]\n",
      "G0 =  -0.064249841942\n",
      "G1 =  nan\n",
      "G2 =  -0.00864923088033\n",
      "z-beta =  0.000114908541864\n"
     ]
    },
    {
     "name": "stderr",
     "output_type": "stream",
     "text": [
      "/home/segtovichisv/anaconda3/lib/python3.6/site-packages/ipykernel/__main__.py:18: RuntimeWarning: invalid value encountered in log\n",
      "/home/segtovichisv/anaconda3/lib/python3.6/site-packages/ipykernel/__main__.py:14: RuntimeWarning: invalid value encountered in log\n"
     ]
    }
   ],
   "source": [
    "P = 1.01e5 #Pa\n",
    "V = 2.199754 #volume molar do liquido\n",
    "\n",
    "def q_(T):\n",
    "    return a*func_alfa_de_T(T)/(b*R*T)\n",
    "\n",
    "def beta_(T,P):\n",
    "    return P*b/(R*T)\n",
    "\n",
    "def Z_(T,P,V):\n",
    "    return P*V/(R*T)\n",
    "\n",
    "def I_(T,P,V):\n",
    "    I_local = (1/(s-e))*np.log((Z_(T,P,V)+s*beta_(T,P))/(Z_(T,P,V)+e*beta_(T,P)))\n",
    "    return I_local\n",
    "\n",
    "def G_res(T,P,V):\n",
    "    return (Z_(T,P,V) - 1 - np.log(Z_(T,P,V) - beta_(T,P)) - q_(T)*I_(T,P,V)) #G/RT !!!\n",
    "\n",
    "Vs=V_preos(T,P)\n",
    "print(Vs)\n",
    "#print(V_preos(T,P))\n",
    "print('G0 = ',G_res(T,P,Vs[0]))\n",
    "print('G1 = ',G_res(T,P,Vs[1]))\n",
    "print('G2 = ',G_res(T,P,Vs[2]))\n",
    "\n",
    "print ('z-beta = ',Z_(T,P,Vs[0]) - beta_(T,P)) \n",
    "\n",
    "\n",
    "\n"
   ]
  },
  {
   "cell_type": "code",
   "execution_count": 37,
   "metadata": {
    "collapsed": false
   },
   "outputs": [
    {
     "name": "stdout",
     "output_type": "stream",
     "text": [
      "Psat =  43610.6251581\n",
      "Psat =  65354.73697\n",
      "Psat =  95488.5440274\n",
      "Psat =  136323.301795\n",
      "Psat =  190542.513233\n"
     ]
    }
   ],
   "source": [
    "def P_sat(T,iguess_P):  #aqui é dado um T (ok)\n",
    "    RES=1\n",
    "    TOL=1e-10\n",
    "    MAX=1000\n",
    "    i=0\n",
    "    P=iguess_P #AQUI VOCÊ CHUTA UM P (ok)\n",
    "  \n",
    "    while(RES>TOL and i<MAX): \n",
    "    \n",
    "        [V_L,_,V_V]=V_preos(T,P) #aqui vc calcula os volumes para esse par (T,P) (ok)\n",
    "        #print([V_L,_,V_V])\n",
    "        phi_L=np.exp(G_res(T,P,V_L)) #aqui vc calcula o Gres pa cada caso\n",
    "        phi_V=np.exp(G_res(T,P,V_V))\n",
    "       \n",
    "        P=P*(phi_L/phi_V) #aqui vc atualiza o P em busca do P que resolve seu problema de calculo de equilibrio de fases\n",
    "        \n",
    "        #print('P_it = ',P) #esse print deixa vc acompanhar o andamento do calculo e ver se está convergindo ou divergindo\n",
    "        RES=abs(phi_L/phi_V-1) #não se esqueça de usar o ABS para gerar um valor em MÓDULO\n",
    "        i=i+1\n",
    "        #print(\"P,V_L,V_V,phi_L,phi_V\")\n",
    "        #print(P,V_L,V_V,phi_L,phi_V,phi_L/phi_V-1.)\n",
    "    return P\n",
    "\n",
    "Psat=P_sat(353,1e5) \n",
    "print(\"Psat = \",Psat)\n",
    "Psat=P_sat(363,1e5) \n",
    "print(\"Psat = \",Psat)\n",
    "Psat=P_sat(373,1e5) \n",
    "print(\"Psat = \",Psat)\n",
    "Psat=P_sat(383,1e5) \n",
    "print(\"Psat = \",Psat)\n",
    "Psat=P_sat(393,1e5) \n",
    "print(\"Psat = \",Psat)"
   ]
  },
  {
   "cell_type": "code",
   "execution_count": 38,
   "metadata": {
    "collapsed": false,
    "scrolled": true
   },
   "outputs": [
    {
     "ename": "FileNotFoundError",
     "evalue": "[Errno 2] No such file or directory: 'psat_h202.txt'",
     "output_type": "error",
     "traceback": [
      "\u001b[0;31m---------------------------------------------------------------------------\u001b[0m",
      "\u001b[0;31mFileNotFoundError\u001b[0m                         Traceback (most recent call last)",
      "\u001b[0;32m<ipython-input-38-1748c6132cc6>\u001b[0m in \u001b[0;36m<module>\u001b[0;34m()\u001b[0m\n\u001b[1;32m      1\u001b[0m \u001b[0;31m#Criando eixos T e P para plotar a curva de Psat\u001b[0m\u001b[0;34m\u001b[0m\u001b[0;34m\u001b[0m\u001b[0m\n\u001b[1;32m      2\u001b[0m \u001b[0;31m#T=373\u001b[0m\u001b[0;34m\u001b[0m\u001b[0;34m\u001b[0m\u001b[0m\n\u001b[0;32m----> 3\u001b[0;31m \u001b[0mtable\u001b[0m \u001b[0;34m=\u001b[0m \u001b[0mnp\u001b[0m\u001b[0;34m.\u001b[0m\u001b[0mloadtxt\u001b[0m\u001b[0;34m(\u001b[0m\u001b[0;34m'psat_h202.txt'\u001b[0m\u001b[0;34m,\u001b[0m\u001b[0mdtype\u001b[0m\u001b[0;34m=\u001b[0m\u001b[0;34m'float'\u001b[0m\u001b[0;34m,\u001b[0m\u001b[0mskiprows\u001b[0m\u001b[0;34m=\u001b[0m\u001b[0;36m0\u001b[0m\u001b[0;34m,\u001b[0m\u001b[0musecols\u001b[0m\u001b[0;34m=\u001b[0m\u001b[0;32mNone\u001b[0m\u001b[0;34m,\u001b[0m\u001b[0munpack\u001b[0m\u001b[0;34m=\u001b[0m\u001b[0;32mFalse\u001b[0m\u001b[0;34m,\u001b[0m \u001b[0mndmin\u001b[0m\u001b[0;34m=\u001b[0m\u001b[0;36m0\u001b[0m\u001b[0;34m)\u001b[0m\u001b[0;34m\u001b[0m\u001b[0m\n\u001b[0m\u001b[1;32m      4\u001b[0m \u001b[0;34m\u001b[0m\u001b[0m\n\u001b[1;32m      5\u001b[0m \u001b[0mguessP\u001b[0m\u001b[0;34m=\u001b[0m\u001b[0;36m10000\u001b[0m\u001b[0;34m\u001b[0m\u001b[0m\n",
      "\u001b[0;32m/home/segtovichisv/anaconda3/lib/python3.6/site-packages/numpy/lib/npyio.py\u001b[0m in \u001b[0;36mloadtxt\u001b[0;34m(fname, dtype, comments, delimiter, converters, skiprows, usecols, unpack, ndmin)\u001b[0m\n\u001b[1;32m    803\u001b[0m                 \u001b[0mfh\u001b[0m \u001b[0;34m=\u001b[0m \u001b[0miter\u001b[0m\u001b[0;34m(\u001b[0m\u001b[0mopen\u001b[0m\u001b[0;34m(\u001b[0m\u001b[0mfname\u001b[0m\u001b[0;34m,\u001b[0m \u001b[0;34m'U'\u001b[0m\u001b[0;34m)\u001b[0m\u001b[0;34m)\u001b[0m\u001b[0;34m\u001b[0m\u001b[0m\n\u001b[1;32m    804\u001b[0m             \u001b[0;32melse\u001b[0m\u001b[0;34m:\u001b[0m\u001b[0;34m\u001b[0m\u001b[0m\n\u001b[0;32m--> 805\u001b[0;31m                 \u001b[0mfh\u001b[0m \u001b[0;34m=\u001b[0m \u001b[0miter\u001b[0m\u001b[0;34m(\u001b[0m\u001b[0mopen\u001b[0m\u001b[0;34m(\u001b[0m\u001b[0mfname\u001b[0m\u001b[0;34m)\u001b[0m\u001b[0;34m)\u001b[0m\u001b[0;34m\u001b[0m\u001b[0m\n\u001b[0m\u001b[1;32m    806\u001b[0m         \u001b[0;32melse\u001b[0m\u001b[0;34m:\u001b[0m\u001b[0;34m\u001b[0m\u001b[0m\n\u001b[1;32m    807\u001b[0m             \u001b[0mfh\u001b[0m \u001b[0;34m=\u001b[0m \u001b[0miter\u001b[0m\u001b[0;34m(\u001b[0m\u001b[0mfname\u001b[0m\u001b[0;34m)\u001b[0m\u001b[0;34m\u001b[0m\u001b[0m\n",
      "\u001b[0;31mFileNotFoundError\u001b[0m: [Errno 2] No such file or directory: 'psat_h202.txt'"
     ]
    }
   ],
   "source": [
    "#Criando eixos T e P para plotar a curva de Psat\n",
    "#T=373\n",
    "table = np.loadtxt('psat_h202.txt',dtype='float',skiprows=0,usecols=None,unpack=False, ndmin=0)\n",
    "\n",
    "guessP=10000\n",
    "Taxis=np.linspace(270,0.984*Tc,100)\n",
    "Paxis=np.zeros(100)\n",
    "Paxis[0]=P_sat(Taxis[0],guessP)\n",
    "for i in range(1,100):\n",
    "    Paxis[i]=P_sat(Taxis[i],Paxis[i-1])\n",
    "    #print(Paxis[i])\n",
    "    \n",
    "plt.plot(Taxis,Paxis)\n",
    "plt.scatter(table[:,0],table[:,1]*1000) #As pressões no arquivo estão em KPa\n",
    "plt.show()\n"
   ]
  },
  {
   "cell_type": "code",
   "execution_count": 39,
   "metadata": {
    "collapsed": false
   },
   "outputs": [
    {
     "name": "stdout",
     "output_type": "stream",
     "text": [
      "101333.212771\n",
      "@T =  373\n"
     ]
    }
   ],
   "source": [
    "def Pantoine(T):\n",
    "    A = 16.3872\n",
    "    B = 3885.70\n",
    "    C = 230.170\n",
    "    return (np.exp(A - B/(T-273 + C)))*1000\n",
    "PsatA = Pantoine(T)\n",
    "print (PsatA)\n",
    "print ('@T = ',T)"
   ]
  },
  {
   "cell_type": "code",
   "execution_count": 40,
   "metadata": {
    "collapsed": false
   },
   "outputs": [
    {
     "data": {
      "image/png": "[encoded data removed]",
      "text/plain": [
       "<matplotlib.figure.Figure at 0x7f6acba99978>"
      ]
     },
     "metadata": {},
     "output_type": "display_data"
    }
   ],
   "source": [
    "guessP=10000\n",
    "Taxis=np.linspace(270,0.983*Tc,100) #faixa de validade dos parâmetros de Antoine\n",
    "Paxis=np.zeros(100)\n",
    "Paxis[0]=P_sat(Taxis[0],guessP)\n",
    "for i in range(1,100):\n",
    "    Paxis[i]=P_sat(Taxis[i],Paxis[i-1])\n",
    "    \n",
    "Paxis2=np.zeros(100)\n",
    "#for i in range(0,100):\n",
    "    #Paxis2[i]=Pantoine(Taxis[i])\n",
    "    \n",
    "Paxis2=Pantoine(Taxis)\n",
    "    \n",
    "plt.plot(Taxis,Paxis)\n",
    "plt.plot(Taxis,Paxis2)\n",
    "plt.show()\n",
    "#Peng-Robinson: Azul\n",
    "#Antoine: verde"
   ]
  },
  {
   "cell_type": "code",
   "execution_count": 41,
   "metadata": {
    "collapsed": false
   },
   "outputs": [
    {
     "name": "stdout",
     "output_type": "stream",
     "text": [
      "[  2.25075705e-05   0.00000000e+00   3.04393143e-02]\n",
      "HL =  -43021.962576 @ 333 101000.0 2.25075705393e-05\n",
      " \n",
      "HV =  259.589246108 @ 333 101000.0 0.0304393142808\n",
      " \n"
     ]
    },
    {
     "ename": "NameError",
     "evalue": "name 'stop' is not defined",
     "output_type": "error",
     "traceback": [
      "\u001b[0;31m---------------------------------------------------------------------------\u001b[0m",
      "\u001b[0;31mNameError\u001b[0m                                 Traceback (most recent call last)",
      "\u001b[0;32m<ipython-input-41-1013a75dceaa>\u001b[0m in \u001b[0;36m<module>\u001b[0;34m()\u001b[0m\n\u001b[1;32m     17\u001b[0m \u001b[0mprint\u001b[0m\u001b[0;34m(\u001b[0m\u001b[0;34m' '\u001b[0m\u001b[0;34m)\u001b[0m\u001b[0;34m\u001b[0m\u001b[0m\n\u001b[1;32m     18\u001b[0m \u001b[0;34m\u001b[0m\u001b[0m\n\u001b[0;32m---> 19\u001b[0;31m \u001b[0mstop\u001b[0m\u001b[0;34m\u001b[0m\u001b[0m\n\u001b[0m\u001b[1;32m     20\u001b[0m \u001b[0;34m\u001b[0m\u001b[0m\n\u001b[1;32m     21\u001b[0m \u001b[0;32mdef\u001b[0m \u001b[0mdeltaHvap\u001b[0m\u001b[0;34m(\u001b[0m\u001b[0mTv\u001b[0m\u001b[0;34m)\u001b[0m\u001b[0;34m:\u001b[0m\u001b[0;34m\u001b[0m\u001b[0m\n",
      "\u001b[0;31mNameError\u001b[0m: name 'stop' is not defined"
     ]
    }
   ],
   "source": [
    "#Cálculo de outras propriedades residuais\n",
    "#Entalpia\n",
    "Tv = np.array([333,343,353,363,373,383,393,])\n",
    "def Tr_(T):\n",
    "    return T/Tc\n",
    "\n",
    "def H_res(T,P,V):\n",
    "    return R*T*(Z_(T,P,V) - 1 + (Tr_(T)/(func_alfa_de_T(T))*(k**2-k/(np.sqrt(Tr_(T))) -k**2/np.sqrt(Tr_(T)))-1)*q_(T)*I_(T,P,V))\n",
    "\n",
    "\n",
    "Vs=V_preos(T,P)\n",
    "print(Vs)\n",
    "#print(V_preos(T,P))\n",
    "print('HL = ',H_res(Tv,P,Vs[0])[0],\"@\",Tv[0],P,Vs[0])\n",
    "print(' ')\n",
    "print('HV = ',H_res(Tv,P,Vs[2])[0],\"@\",Tv[0],P,Vs[2])\n",
    "print(' ')\n",
    "\n",
    "stop\n",
    "\n",
    "def deltaHvap(Tv):\n",
    "    return H_res(Tv,P,Vs[2]) - H_res(Tv,P,Vs[0])\n",
    "\n",
    "print ('delta H de vaporização = ', H_res(Tv,P,Vs[2]) - H_res(Tv,P,Vs[0]), 'J/mol')\n",
    "print(' ')\n",
    "\n",
    "deltaHtab = np.array([42454.8,42012,41544,41097.6,40624.2,40140,39639.6])\n",
    "desvioH = np.abs((deltaHvap(Tv)-deltaHtab)/deltaHtab)\n",
    "print(' ')\n",
    "print ('Desvio do modelo = ',desvioH)\n"
   ]
  },
  {
   "cell_type": "code",
   "execution_count": 42,
   "metadata": {
    "collapsed": false
   },
   "outputs": [
    {
     "name": "stdout",
     "output_type": "stream",
     "text": [
      " \n",
      "SL =  [-114.9395424  -114.29252208 -113.67665294 -113.08967914 -112.52956311\n",
      " -111.99445928 -111.48269165]\n",
      " \n",
      "SV =  [ 0.81917922  0.57419328  0.33623378  0.10490869 -0.12014209 -0.3392501\n",
      " -0.55272129]\n",
      " \n",
      "delta S de vaporização =  [ 115.75872163  114.86671536  114.01288672  113.19458783  112.40942102\n",
      "  111.65520918  110.92997036] J/mol.K\n",
      " \n",
      "Desvio do modelo =  [ 0.09163748  0.061781    0.03119467  0.00020489  0.03248208  0.06576824\n",
      "  0.10016176]\n"
     ]
    }
   ],
   "source": [
    "#entropia\n",
    "Tv = np.array([333,343,353,363,373,383,393])\n",
    "def S_res (T,P,V):\n",
    "    return R*(np.log(Z_(T,P,V)-beta_(T,P))+q_(T)*I_(T,P,V)*(Tr_(T)/(func_alfa_de_T(T))*(k**2-k/(np.sqrt(Tr_(T))) -k**2/np.sqrt(Tr_(T)))))\n",
    "\n",
    "def deltaSvap(Tv):\n",
    "    return S_res(Tv,P,Vs[2]) - S_res(Tv,P,Vs[0])\n",
    "\n",
    "Vs=V_preos(T,P)\n",
    "#print(Vs)\n",
    "print(' ')\n",
    "#print(V_preos(T,P))\n",
    "print('SL = ',S_res(Tv,P,Vs[0]))\n",
    "print(' ')\n",
    "print('SV = ',S_res(Tv,P,Vs[2]))\n",
    "print(' ')\n",
    "print ('delta S de vaporização = ',S_res(Tv,P,Vs[2]) - S_res(Tv,P,Vs[0]),'J/mol.K')\n",
    "print(' ')\n",
    "deltaStab = np.array([127.4367,122.4306,117.684,113.1714,108.873,104.765,100.8306])\n",
    "desvioS = np.abs((deltaSvap(Tv)-deltaStab)/deltaStab)\n",
    "print ('Desvio do modelo = ',desvioS)"
   ]
  },
  {
   "cell_type": "markdown",
   "metadata": {},
   "source": [
    "As propriedades residuais foram calculadas utilizando as expressões 6.67 e 6.68 do Van Ness para calculo de propriedades residuais por equação de estado.\n",
    "\n",
    "Os dados experimentais utilizados para comparação foram obtidos na tabela de propriedades de vapor superaquecido para água.\n",
    "\n",
    "Os critérios de comparação foram a variação de entalpia e entropia de vaporização.\n",
    "\n",
    "Pela definição de propriedade residual: M_res = M - M_gi\n",
    "\n",
    "Em um estado de referência adequado para ambas as fases, a variação da propriedade real é igual a da propriedade residual, por isso pode ser usado como critério de comparação.\n",
    "\n",
    "Os desvios observados foram todos menores ou iguais a 10%, o que prova que nesta faixa de temperaturas, este modelo pode ser usado para o calculo das entalpias e entropias de vaporização da água.\n",
    "\n",
    "_______________________________________________________________________________________________________________________________\n",
    "_______________________________________________________________________________________________________________________________"
   ]
  },
  {
   "cell_type": "markdown",
   "metadata": {
    "collapsed": true
   },
   "source": [
    "Diagramas de Propriedades de Substâncias Puras\n",
    "\n",
    "a) Diagrama PxV\n",
    "\n",
    "b) Diagrama lnPxH\n",
    "\n",
    "c) Diagrama TxS\n"
   ]
  },
  {
   "cell_type": "markdown",
   "metadata": {},
   "source": [
    "# isotermas"
   ]
  },
  {
   "cell_type": "code",
   "execution_count": 25,
   "metadata": {
    "collapsed": false,
    "scrolled": true
   },
   "outputs": [
    {
     "ename": "NameError",
     "evalue": "name 'bm' is not defined",
     "output_type": "error",
     "traceback": [
      "\u001b[0;31m---------------------------------------------------------------------------\u001b[0m",
      "\u001b[0;31mNameError\u001b[0m                                 Traceback (most recent call last)",
      "\u001b[0;32m<ipython-input-25-df06fbd933b2>\u001b[0m in \u001b[0;36m<module>\u001b[0;34m()\u001b[0m\n\u001b[1;32m     34\u001b[0m \u001b[0;34m\u001b[0m\u001b[0m\n\u001b[1;32m     35\u001b[0m \u001b[0mplt\u001b[0m\u001b[0;34m.\u001b[0m\u001b[0msemilogx\u001b[0m\u001b[0;34m(\u001b[0m\u001b[0;34m[\u001b[0m\u001b[0;36m1e-9\u001b[0m\u001b[0;34m,\u001b[0m\u001b[0;36m1e9\u001b[0m\u001b[0;34m]\u001b[0m\u001b[0;34m,\u001b[0m\u001b[0;34m[\u001b[0m\u001b[0mPc\u001b[0m\u001b[0;34m,\u001b[0m\u001b[0mPc\u001b[0m\u001b[0;34m]\u001b[0m\u001b[0;34m)\u001b[0m\u001b[0;34m\u001b[0m\u001b[0m\n\u001b[0;32m---> 36\u001b[0;31m \u001b[0mplt\u001b[0m\u001b[0;34m.\u001b[0m\u001b[0msemilogx\u001b[0m\u001b[0;34m(\u001b[0m\u001b[0;34m[\u001b[0m\u001b[0mV_preos\u001b[0m\u001b[0;34m(\u001b[0m\u001b[0mTc\u001b[0m\u001b[0;34m,\u001b[0m\u001b[0mPc\u001b[0m\u001b[0;34m)\u001b[0m\u001b[0;34m[\u001b[0m\u001b[0;36m2\u001b[0m\u001b[0;34m]\u001b[0m\u001b[0;34m,\u001b[0m\u001b[0mV_preos\u001b[0m\u001b[0;34m(\u001b[0m\u001b[0mTc\u001b[0m\u001b[0;34m,\u001b[0m\u001b[0mPc\u001b[0m\u001b[0;34m)\u001b[0m\u001b[0;34m[\u001b[0m\u001b[0;36m2\u001b[0m\u001b[0;34m]\u001b[0m\u001b[0;34m]\u001b[0m\u001b[0;34m,\u001b[0m\u001b[0;34m[\u001b[0m\u001b[0;36m1e-9\u001b[0m\u001b[0;34m,\u001b[0m\u001b[0;36m1e9\u001b[0m\u001b[0;34m]\u001b[0m\u001b[0;34m)\u001b[0m\u001b[0;34m\u001b[0m\u001b[0m\n\u001b[0m\u001b[1;32m     37\u001b[0m \u001b[0;34m\u001b[0m\u001b[0m\n\u001b[1;32m     38\u001b[0m \u001b[0mplt\u001b[0m\u001b[0;34m.\u001b[0m\u001b[0mshow\u001b[0m\u001b[0;34m(\u001b[0m\u001b[0;34m)\u001b[0m\u001b[0;34m\u001b[0m\u001b[0m\n",
      "\u001b[0;32m<ipython-input-18-0b21eb5a5052>\u001b[0m in \u001b[0;36mV_preos\u001b[0;34m(T, P)\u001b[0m\n\u001b[1;32m     17\u001b[0m     \u001b[0mVs\u001b[0m\u001b[0;34m=\u001b[0m\u001b[0mnp\u001b[0m\u001b[0;34m.\u001b[0m\u001b[0mroots\u001b[0m\u001b[0;34m(\u001b[0m\u001b[0;34m[\u001b[0m\u001b[0mc3\u001b[0m\u001b[0;34m,\u001b[0m\u001b[0mc2\u001b[0m\u001b[0;34m,\u001b[0m\u001b[0mc1\u001b[0m\u001b[0;34m,\u001b[0m\u001b[0mc0\u001b[0m\u001b[0;34m]\u001b[0m\u001b[0;34m)\u001b[0m\u001b[0;34m\u001b[0m\u001b[0m\n\u001b[1;32m     18\u001b[0m     \u001b[0mVs\u001b[0m\u001b[0;34m[\u001b[0m\u001b[0mnp\u001b[0m\u001b[0;34m.\u001b[0m\u001b[0mlogical_not\u001b[0m\u001b[0;34m(\u001b[0m\u001b[0mnp\u001b[0m\u001b[0;34m.\u001b[0m\u001b[0misreal\u001b[0m\u001b[0;34m(\u001b[0m\u001b[0mVs\u001b[0m\u001b[0;34m)\u001b[0m\u001b[0;34m)\u001b[0m\u001b[0;34m]\u001b[0m\u001b[0;34m=\u001b[0m\u001b[0;36m0.\u001b[0m\u001b[0;34m\u001b[0m\u001b[0m\n\u001b[0;32m---> 19\u001b[0;31m     \u001b[0;32mreturn\u001b[0m \u001b[0mnp\u001b[0m\u001b[0;34m.\u001b[0m\u001b[0marray\u001b[0m\u001b[0;34m(\u001b[0m\u001b[0;34m[\u001b[0m\u001b[0mnp\u001b[0m\u001b[0;34m.\u001b[0m\u001b[0mnanmin\u001b[0m\u001b[0;34m(\u001b[0m\u001b[0mVs\u001b[0m\u001b[0;34m[\u001b[0m\u001b[0mVs\u001b[0m\u001b[0;34m>\u001b[0m\u001b[0mbm\u001b[0m\u001b[0;34m]\u001b[0m\u001b[0;34m)\u001b[0m\u001b[0;34m,\u001b[0m\u001b[0mnp\u001b[0m\u001b[0;34m.\u001b[0m\u001b[0mnanmax\u001b[0m\u001b[0;34m(\u001b[0m\u001b[0mVs\u001b[0m\u001b[0;34m[\u001b[0m\u001b[0mVs\u001b[0m\u001b[0;34m>\u001b[0m\u001b[0mbm\u001b[0m\u001b[0;34m]\u001b[0m\u001b[0;34m)\u001b[0m\u001b[0;34m]\u001b[0m\u001b[0;34m)\u001b[0m\u001b[0;34m\u001b[0m\u001b[0m\n\u001b[0m\u001b[1;32m     20\u001b[0m \u001b[0;34m\u001b[0m\u001b[0m\n\u001b[1;32m     21\u001b[0m     \u001b[0mRES\u001b[0m\u001b[0;34m=\u001b[0m\u001b[0;36m1\u001b[0m\u001b[0;34m\u001b[0m\u001b[0m\n",
      "\u001b[0;31mNameError\u001b[0m: name 'bm' is not defined"
     ]
    },
    {
     "data": {
      "image/png": "[encoded data removed]",
      "text/plain": [
       "<matplotlib.figure.Figure at 0x7f6acbced400>"
      ]
     },
     "metadata": {},
     "output_type": "display_data"
    }
   ],
   "source": [
    "#diagrama PxV para a água\n",
    "\n",
    "for T in np.linspace(.1,2,20)*Tc:\n",
    "    Vmi = np.exp(np.linspace(np.log(b*1.1),np.log((R*Tc/Pc)*100.),100))\n",
    "    \n",
    "    \n",
    "    #print(Vmi)\n",
    "    #print(P_preos(T,Vmi))\n",
    "    \n",
    "    \n",
    "    \n",
    "    plt.figure(1)\n",
    "    \n",
    "    #print(Pc,Tc)\n",
    "    \n",
    "\n",
    "    \n",
    "    #print(V_preos(Tc,Pc))\n",
    "    \n",
    "    plt.semilogx(Vmi,P_preos(T,Vmi)) \n",
    "    plt.ylabel('P positivo') \n",
    "    plt.title('Diagrama PV para água') \n",
    "    \n",
    "    plt.ylim(-Pc,3*Pc)\n",
    "    \n",
    "    plt.xlim(b,(R*Tc/Pc)*100)\n",
    "\n",
    "    plt.tick_params( \n",
    "    axis='x',        \n",
    "    which='both',    \n",
    "    bottom='on',     \n",
    "    top='on',        \n",
    "    labelbottom='off') \n",
    "\n",
    "plt.semilogx([1e-9,1e9],[Pc,Pc])\n",
    "plt.semilogx([V_preos(Tc,Pc)[2],V_preos(Tc,Pc)[2]],[1e-9,1e9])\n",
    "    \n",
    "plt.show()"
   ]
  },
  {
   "cell_type": "markdown",
   "metadata": {},
   "source": [
    "# envelope"
   ]
  },
  {
   "cell_type": "code",
   "execution_count": 26,
   "metadata": {
    "collapsed": false,
    "scrolled": true
   },
   "outputs": [
    {
     "ename": "NameError",
     "evalue": "name 'bm' is not defined",
     "output_type": "error",
     "traceback": [
      "\u001b[0;31m---------------------------------------------------------------------------\u001b[0m",
      "\u001b[0;31mNameError\u001b[0m                                 Traceback (most recent call last)",
      "\u001b[0;32m<ipython-input-26-7c0cac07d62a>\u001b[0m in \u001b[0;36m<module>\u001b[0;34m()\u001b[0m\n\u001b[1;32m      9\u001b[0m \u001b[0mVVaxis\u001b[0m\u001b[0;34m=\u001b[0m\u001b[0mnp\u001b[0m\u001b[0;34m.\u001b[0m\u001b[0mzeros\u001b[0m\u001b[0;34m(\u001b[0m\u001b[0;36m100\u001b[0m\u001b[0;34m)\u001b[0m\u001b[0;34m\u001b[0m\u001b[0m\n\u001b[1;32m     10\u001b[0m \u001b[0;34m\u001b[0m\u001b[0m\n\u001b[0;32m---> 11\u001b[0;31m \u001b[0mPaxis\u001b[0m\u001b[0;34m[\u001b[0m\u001b[0;36m0\u001b[0m\u001b[0;34m]\u001b[0m\u001b[0;34m=\u001b[0m\u001b[0mP_sat\u001b[0m\u001b[0;34m(\u001b[0m\u001b[0mTaxis\u001b[0m\u001b[0;34m[\u001b[0m\u001b[0;36m0\u001b[0m\u001b[0;34m]\u001b[0m\u001b[0;34m,\u001b[0m\u001b[0mguessP\u001b[0m\u001b[0;34m)\u001b[0m\u001b[0;34m\u001b[0m\u001b[0m\n\u001b[0m\u001b[1;32m     12\u001b[0m \u001b[0;32mfor\u001b[0m \u001b[0mi\u001b[0m \u001b[0;32min\u001b[0m \u001b[0mrange\u001b[0m\u001b[0;34m(\u001b[0m\u001b[0;36m1\u001b[0m\u001b[0;34m,\u001b[0m\u001b[0;36m100\u001b[0m\u001b[0;34m)\u001b[0m\u001b[0;34m:\u001b[0m\u001b[0;34m\u001b[0m\u001b[0m\n\u001b[1;32m     13\u001b[0m     \u001b[0mPaxis\u001b[0m\u001b[0;34m[\u001b[0m\u001b[0mi\u001b[0m\u001b[0;34m]\u001b[0m\u001b[0;34m=\u001b[0m\u001b[0mP_sat\u001b[0m\u001b[0;34m(\u001b[0m\u001b[0mTaxis\u001b[0m\u001b[0;34m[\u001b[0m\u001b[0mi\u001b[0m\u001b[0;34m]\u001b[0m\u001b[0;34m,\u001b[0m\u001b[0mPaxis\u001b[0m\u001b[0;34m[\u001b[0m\u001b[0mi\u001b[0m\u001b[0;34m-\u001b[0m\u001b[0;36m1\u001b[0m\u001b[0;34m]\u001b[0m\u001b[0;34m)\u001b[0m\u001b[0;34m\u001b[0m\u001b[0m\n",
      "\u001b[0;32m<ipython-input-20-b3fef6b999d0>\u001b[0m in \u001b[0;36mP_sat\u001b[0;34m(T, iguess_P)\u001b[0m\n\u001b[1;32m      8\u001b[0m     \u001b[0;32mwhile\u001b[0m\u001b[0;34m(\u001b[0m\u001b[0mRES\u001b[0m\u001b[0;34m>\u001b[0m\u001b[0mTOL\u001b[0m \u001b[0;32mand\u001b[0m \u001b[0mi\u001b[0m\u001b[0;34m<\u001b[0m\u001b[0mMAX\u001b[0m\u001b[0;34m)\u001b[0m\u001b[0;34m:\u001b[0m\u001b[0;34m\u001b[0m\u001b[0m\n\u001b[1;32m      9\u001b[0m \u001b[0;34m\u001b[0m\u001b[0m\n\u001b[0;32m---> 10\u001b[0;31m         \u001b[0;34m[\u001b[0m\u001b[0mV_L\u001b[0m\u001b[0;34m,\u001b[0m\u001b[0m_\u001b[0m\u001b[0;34m,\u001b[0m\u001b[0mV_V\u001b[0m\u001b[0;34m]\u001b[0m\u001b[0;34m=\u001b[0m\u001b[0mV_preos\u001b[0m\u001b[0;34m(\u001b[0m\u001b[0mT\u001b[0m\u001b[0;34m,\u001b[0m\u001b[0mP\u001b[0m\u001b[0;34m)\u001b[0m \u001b[0;31m#aqui vc calcula os volumes para esse par (T,P) (ok)\u001b[0m\u001b[0;34m\u001b[0m\u001b[0m\n\u001b[0m\u001b[1;32m     11\u001b[0m         \u001b[0;31m#print([V_L,_,V_V])\u001b[0m\u001b[0;34m\u001b[0m\u001b[0;34m\u001b[0m\u001b[0m\n\u001b[1;32m     12\u001b[0m         \u001b[0mphi_L\u001b[0m\u001b[0;34m=\u001b[0m\u001b[0mnp\u001b[0m\u001b[0;34m.\u001b[0m\u001b[0mexp\u001b[0m\u001b[0;34m(\u001b[0m\u001b[0mG_res\u001b[0m\u001b[0;34m(\u001b[0m\u001b[0mT\u001b[0m\u001b[0;34m,\u001b[0m\u001b[0mP\u001b[0m\u001b[0;34m,\u001b[0m\u001b[0mV_L\u001b[0m\u001b[0;34m)\u001b[0m\u001b[0;34m)\u001b[0m \u001b[0;31m#aqui vc calcula o Gres pa cada caso\u001b[0m\u001b[0;34m\u001b[0m\u001b[0m\n",
      "\u001b[0;32m<ipython-input-18-0b21eb5a5052>\u001b[0m in \u001b[0;36mV_preos\u001b[0;34m(T, P)\u001b[0m\n\u001b[1;32m     17\u001b[0m     \u001b[0mVs\u001b[0m\u001b[0;34m=\u001b[0m\u001b[0mnp\u001b[0m\u001b[0;34m.\u001b[0m\u001b[0mroots\u001b[0m\u001b[0;34m(\u001b[0m\u001b[0;34m[\u001b[0m\u001b[0mc3\u001b[0m\u001b[0;34m,\u001b[0m\u001b[0mc2\u001b[0m\u001b[0;34m,\u001b[0m\u001b[0mc1\u001b[0m\u001b[0;34m,\u001b[0m\u001b[0mc0\u001b[0m\u001b[0;34m]\u001b[0m\u001b[0;34m)\u001b[0m\u001b[0;34m\u001b[0m\u001b[0m\n\u001b[1;32m     18\u001b[0m     \u001b[0mVs\u001b[0m\u001b[0;34m[\u001b[0m\u001b[0mnp\u001b[0m\u001b[0;34m.\u001b[0m\u001b[0mlogical_not\u001b[0m\u001b[0;34m(\u001b[0m\u001b[0mnp\u001b[0m\u001b[0;34m.\u001b[0m\u001b[0misreal\u001b[0m\u001b[0;34m(\u001b[0m\u001b[0mVs\u001b[0m\u001b[0;34m)\u001b[0m\u001b[0;34m)\u001b[0m\u001b[0;34m]\u001b[0m\u001b[0;34m=\u001b[0m\u001b[0;36m0.\u001b[0m\u001b[0;34m\u001b[0m\u001b[0m\n\u001b[0;32m---> 19\u001b[0;31m     \u001b[0;32mreturn\u001b[0m \u001b[0mnp\u001b[0m\u001b[0;34m.\u001b[0m\u001b[0marray\u001b[0m\u001b[0;34m(\u001b[0m\u001b[0;34m[\u001b[0m\u001b[0mnp\u001b[0m\u001b[0;34m.\u001b[0m\u001b[0mnanmin\u001b[0m\u001b[0;34m(\u001b[0m\u001b[0mVs\u001b[0m\u001b[0;34m[\u001b[0m\u001b[0mVs\u001b[0m\u001b[0;34m>\u001b[0m\u001b[0mbm\u001b[0m\u001b[0;34m]\u001b[0m\u001b[0;34m)\u001b[0m\u001b[0;34m,\u001b[0m\u001b[0mnp\u001b[0m\u001b[0;34m.\u001b[0m\u001b[0mnanmax\u001b[0m\u001b[0;34m(\u001b[0m\u001b[0mVs\u001b[0m\u001b[0;34m[\u001b[0m\u001b[0mVs\u001b[0m\u001b[0;34m>\u001b[0m\u001b[0mbm\u001b[0m\u001b[0;34m]\u001b[0m\u001b[0;34m)\u001b[0m\u001b[0;34m]\u001b[0m\u001b[0;34m)\u001b[0m\u001b[0;34m\u001b[0m\u001b[0m\n\u001b[0m\u001b[1;32m     20\u001b[0m \u001b[0;34m\u001b[0m\u001b[0m\n\u001b[1;32m     21\u001b[0m     \u001b[0mRES\u001b[0m\u001b[0;34m=\u001b[0m\u001b[0;36m1\u001b[0m\u001b[0;34m\u001b[0m\u001b[0m\n",
      "\u001b[0;31mNameError\u001b[0m: name 'bm' is not defined"
     ]
    },
    {
     "data": {
      "text/plain": [
       "<matplotlib.figure.Figure at 0x7f6acbaebf60>"
      ]
     },
     "metadata": {},
     "output_type": "display_data"
    }
   ],
   "source": [
    "#diagrama PxV para a água\n",
    "\n",
    "plt.figure(1)\n",
    "\n",
    "guessP=10000\n",
    "Taxis=np.linspace(270,Tc,100)\n",
    "Paxis=np.zeros(100)\n",
    "VLaxis=np.zeros(100)\n",
    "VVaxis=np.zeros(100)\n",
    "\n",
    "Paxis[0]=P_sat(Taxis[0],guessP)\n",
    "for i in range(1,100):\n",
    "    Paxis[i]=P_sat(Taxis[i],Paxis[i-1])\n",
    "    Vs=V_preos(Taxis[i],Paxis[i])\n",
    "    VLaxis[i]=Vs[0]\n",
    "    VVaxis[i]=Vs[2]\n",
    "    \n",
    "Tcolors=['r','b','y','g']\n",
    "\n",
    "\n",
    "plt.semilogx(VLaxis,Paxis)\n",
    "plt.semilogx(VVaxis,Paxis)\n",
    "\n",
    "keyTs = np.array([50,90,95,99])\n",
    "\n",
    "\n",
    "#for i in np.arange(0,100,33):\n",
    "j=-1\n",
    "for i in keyTs:\n",
    "    j+=1\n",
    "    plt.semilogx([VLaxis[i],VVaxis[i]],[Paxis[i],Paxis[i]],color=Tcolors[j],ls='--')\n",
    "\n",
    "\n",
    "#for T in Taxis[np.arange(0,100,33)]:\n",
    "\n",
    "j=-1\n",
    "for i in keyTs:\n",
    "    j+=1\n",
    "    T=Taxis[i]\n",
    "    Vmi = np.exp(np.linspace(np.log(b*1.01),np.log((R*Tc/Pc)*100.),100))\n",
    "    \n",
    "          \n",
    "    plt.semilogx(Vmi,P_preos(T,Vmi),color=Tcolors[j],label='{:.{prec}f}'.format(T, prec=2)+' K') \n",
    "    \n",
    "T=1.1*Tc\n",
    "Vmi = np.exp(np.linspace(np.log(b*1.01),np.log((R*Tc/Pc)*100.),100))\n",
    "plt.semilogx(Vmi,P_preos(T,Vmi),color=Tcolors[j],label='{:.{prec}f}'.format(T, prec=2)+' K')     \n",
    "    \n",
    "plt.ylabel('P') \n",
    "plt.title('Diagrama PV para água') \n",
    "    \n",
    "plt.ylim(0,2*Pc)\n",
    "    \n",
    "plt.xlim(b,(R*Tc/Pc)*100)\n",
    "\n",
    "plt.tick_params( \n",
    "axis='x',        \n",
    "which='both',    \n",
    "bottom='on',     \n",
    "top='on',        \n",
    "labelbottom='on') \n",
    "\n",
    "plt.semilogx([1e-9,1e9],[Pc,Pc],color='k',ls=':')\n",
    "    \n",
    "plt.scatter(VLaxis[99],Pc,marker='*')\n",
    "    \n",
    "plt.legend(loc=1)    \n",
    "plt.show()"
   ]
  },
  {
   "cell_type": "code",
   "execution_count": 27,
   "metadata": {
    "collapsed": false
   },
   "outputs": [],
   "source": [
    "#Diagrama ln.PxH\n",
    "\n",
    "#Coeficientes para calcular Cp\n",
    "Cp_=np.array([4.395,-4.186*10**-3,1.405*10**-5,-1.564*10**-8,0.632*10**-11])\n",
    "\n",
    "def H_ideal(T):\n",
    "        Tref=273.15 #Temperatura de referência para cálculo do H ideal (Cp)\n",
    "        H_ideal=R*(Cp_[4]/5*(T**5-Tref**5)+Cp_[3]/4*(T**4-Tref**4)+Cp_[2]/3*(T**3-Tref**3)+Cp_[1]/2*(T**2-Tref**2)+Cp_[0]*(T-Tref))\n",
    "        return H_ideal\n",
    "    \n",
    "def H_real(T,P,V):\n",
    "        H_real=H_ideal(T)+H_res(T,P,V)\n",
    "        return H_real    \n",
    "#print (H_real(T,P,Vs[0]))\n"
   ]
  },
  {
   "cell_type": "code",
   "execution_count": 28,
   "metadata": {
    "collapsed": false,
    "scrolled": true
   },
   "outputs": [
    {
     "ename": "NameError",
     "evalue": "name 'bm' is not defined",
     "output_type": "error",
     "traceback": [
      "\u001b[0;31m---------------------------------------------------------------------------\u001b[0m",
      "\u001b[0;31mNameError\u001b[0m                                 Traceback (most recent call last)",
      "\u001b[0;32m<ipython-input-28-d2d05f8b9b47>\u001b[0m in \u001b[0;36m<module>\u001b[0;34m()\u001b[0m\n\u001b[1;32m      5\u001b[0m \u001b[0mPaxis\u001b[0m \u001b[0;34m=\u001b[0m \u001b[0mnp\u001b[0m\u001b[0;34m.\u001b[0m\u001b[0mzeros\u001b[0m\u001b[0;34m(\u001b[0m\u001b[0;36m100\u001b[0m\u001b[0;34m)\u001b[0m\u001b[0;34m\u001b[0m\u001b[0m\n\u001b[1;32m      6\u001b[0m \u001b[0;34m\u001b[0m\u001b[0m\n\u001b[0;32m----> 7\u001b[0;31m \u001b[0mPaxis\u001b[0m\u001b[0;34m[\u001b[0m\u001b[0;36m0\u001b[0m\u001b[0;34m]\u001b[0m\u001b[0;34m=\u001b[0m\u001b[0mP_sat\u001b[0m\u001b[0;34m(\u001b[0m\u001b[0mTaxis\u001b[0m\u001b[0;34m[\u001b[0m\u001b[0;36m0\u001b[0m\u001b[0;34m]\u001b[0m\u001b[0;34m,\u001b[0m\u001b[0mguessP\u001b[0m\u001b[0;34m)\u001b[0m\u001b[0;34m\u001b[0m\u001b[0m\n\u001b[0m\u001b[1;32m      8\u001b[0m \u001b[0mVs\u001b[0m\u001b[0;34m=\u001b[0m\u001b[0mV_preos\u001b[0m\u001b[0;34m(\u001b[0m\u001b[0mTaxis\u001b[0m\u001b[0;34m[\u001b[0m\u001b[0;36m0\u001b[0m\u001b[0;34m]\u001b[0m\u001b[0;34m,\u001b[0m\u001b[0mPaxis\u001b[0m\u001b[0;34m[\u001b[0m\u001b[0;36m0\u001b[0m\u001b[0;34m]\u001b[0m\u001b[0;34m)\u001b[0m\u001b[0;34m\u001b[0m\u001b[0m\n\u001b[1;32m      9\u001b[0m \u001b[0mHLaxis\u001b[0m\u001b[0;34m[\u001b[0m\u001b[0;36m0\u001b[0m\u001b[0;34m]\u001b[0m\u001b[0;34m=\u001b[0m\u001b[0mH_real\u001b[0m\u001b[0;34m(\u001b[0m\u001b[0mTaxis\u001b[0m\u001b[0;34m[\u001b[0m\u001b[0;36m0\u001b[0m\u001b[0;34m]\u001b[0m\u001b[0;34m,\u001b[0m\u001b[0mPaxis\u001b[0m\u001b[0;34m[\u001b[0m\u001b[0;36m0\u001b[0m\u001b[0;34m]\u001b[0m\u001b[0;34m,\u001b[0m\u001b[0mVs\u001b[0m\u001b[0;34m[\u001b[0m\u001b[0;36m0\u001b[0m\u001b[0;34m]\u001b[0m\u001b[0;34m)\u001b[0m\u001b[0;34m\u001b[0m\u001b[0m\n",
      "\u001b[0;32m<ipython-input-20-b3fef6b999d0>\u001b[0m in \u001b[0;36mP_sat\u001b[0;34m(T, iguess_P)\u001b[0m\n\u001b[1;32m      8\u001b[0m     \u001b[0;32mwhile\u001b[0m\u001b[0;34m(\u001b[0m\u001b[0mRES\u001b[0m\u001b[0;34m>\u001b[0m\u001b[0mTOL\u001b[0m \u001b[0;32mand\u001b[0m \u001b[0mi\u001b[0m\u001b[0;34m<\u001b[0m\u001b[0mMAX\u001b[0m\u001b[0;34m)\u001b[0m\u001b[0;34m:\u001b[0m\u001b[0;34m\u001b[0m\u001b[0m\n\u001b[1;32m      9\u001b[0m \u001b[0;34m\u001b[0m\u001b[0m\n\u001b[0;32m---> 10\u001b[0;31m         \u001b[0;34m[\u001b[0m\u001b[0mV_L\u001b[0m\u001b[0;34m,\u001b[0m\u001b[0m_\u001b[0m\u001b[0;34m,\u001b[0m\u001b[0mV_V\u001b[0m\u001b[0;34m]\u001b[0m\u001b[0;34m=\u001b[0m\u001b[0mV_preos\u001b[0m\u001b[0;34m(\u001b[0m\u001b[0mT\u001b[0m\u001b[0;34m,\u001b[0m\u001b[0mP\u001b[0m\u001b[0;34m)\u001b[0m \u001b[0;31m#aqui vc calcula os volumes para esse par (T,P) (ok)\u001b[0m\u001b[0;34m\u001b[0m\u001b[0m\n\u001b[0m\u001b[1;32m     11\u001b[0m         \u001b[0;31m#print([V_L,_,V_V])\u001b[0m\u001b[0;34m\u001b[0m\u001b[0;34m\u001b[0m\u001b[0m\n\u001b[1;32m     12\u001b[0m         \u001b[0mphi_L\u001b[0m\u001b[0;34m=\u001b[0m\u001b[0mnp\u001b[0m\u001b[0;34m.\u001b[0m\u001b[0mexp\u001b[0m\u001b[0;34m(\u001b[0m\u001b[0mG_res\u001b[0m\u001b[0;34m(\u001b[0m\u001b[0mT\u001b[0m\u001b[0;34m,\u001b[0m\u001b[0mP\u001b[0m\u001b[0;34m,\u001b[0m\u001b[0mV_L\u001b[0m\u001b[0;34m)\u001b[0m\u001b[0;34m)\u001b[0m \u001b[0;31m#aqui vc calcula o Gres pa cada caso\u001b[0m\u001b[0;34m\u001b[0m\u001b[0m\n",
      "\u001b[0;32m<ipython-input-18-0b21eb5a5052>\u001b[0m in \u001b[0;36mV_preos\u001b[0;34m(T, P)\u001b[0m\n\u001b[1;32m     17\u001b[0m     \u001b[0mVs\u001b[0m\u001b[0;34m=\u001b[0m\u001b[0mnp\u001b[0m\u001b[0;34m.\u001b[0m\u001b[0mroots\u001b[0m\u001b[0;34m(\u001b[0m\u001b[0;34m[\u001b[0m\u001b[0mc3\u001b[0m\u001b[0;34m,\u001b[0m\u001b[0mc2\u001b[0m\u001b[0;34m,\u001b[0m\u001b[0mc1\u001b[0m\u001b[0;34m,\u001b[0m\u001b[0mc0\u001b[0m\u001b[0;34m]\u001b[0m\u001b[0;34m)\u001b[0m\u001b[0;34m\u001b[0m\u001b[0m\n\u001b[1;32m     18\u001b[0m     \u001b[0mVs\u001b[0m\u001b[0;34m[\u001b[0m\u001b[0mnp\u001b[0m\u001b[0;34m.\u001b[0m\u001b[0mlogical_not\u001b[0m\u001b[0;34m(\u001b[0m\u001b[0mnp\u001b[0m\u001b[0;34m.\u001b[0m\u001b[0misreal\u001b[0m\u001b[0;34m(\u001b[0m\u001b[0mVs\u001b[0m\u001b[0;34m)\u001b[0m\u001b[0;34m)\u001b[0m\u001b[0;34m]\u001b[0m\u001b[0;34m=\u001b[0m\u001b[0;36m0.\u001b[0m\u001b[0;34m\u001b[0m\u001b[0m\n\u001b[0;32m---> 19\u001b[0;31m     \u001b[0;32mreturn\u001b[0m \u001b[0mnp\u001b[0m\u001b[0;34m.\u001b[0m\u001b[0marray\u001b[0m\u001b[0;34m(\u001b[0m\u001b[0;34m[\u001b[0m\u001b[0mnp\u001b[0m\u001b[0;34m.\u001b[0m\u001b[0mnanmin\u001b[0m\u001b[0;34m(\u001b[0m\u001b[0mVs\u001b[0m\u001b[0;34m[\u001b[0m\u001b[0mVs\u001b[0m\u001b[0;34m>\u001b[0m\u001b[0mbm\u001b[0m\u001b[0;34m]\u001b[0m\u001b[0;34m)\u001b[0m\u001b[0;34m,\u001b[0m\u001b[0mnp\u001b[0m\u001b[0;34m.\u001b[0m\u001b[0mnanmax\u001b[0m\u001b[0;34m(\u001b[0m\u001b[0mVs\u001b[0m\u001b[0;34m[\u001b[0m\u001b[0mVs\u001b[0m\u001b[0;34m>\u001b[0m\u001b[0mbm\u001b[0m\u001b[0;34m]\u001b[0m\u001b[0;34m)\u001b[0m\u001b[0;34m]\u001b[0m\u001b[0;34m)\u001b[0m\u001b[0;34m\u001b[0m\u001b[0m\n\u001b[0m\u001b[1;32m     20\u001b[0m \u001b[0;34m\u001b[0m\u001b[0m\n\u001b[1;32m     21\u001b[0m     \u001b[0mRES\u001b[0m\u001b[0;34m=\u001b[0m\u001b[0;36m1\u001b[0m\u001b[0;34m\u001b[0m\u001b[0m\n",
      "\u001b[0;31mNameError\u001b[0m: name 'bm' is not defined"
     ]
    }
   ],
   "source": [
    "#Gráfico ln(P)xH\n",
    "HLaxis=np.zeros(100)\n",
    "HVaxis=np.zeros(100)\n",
    "Taxis = np.linspace(270,Tc,100)\n",
    "Paxis = np.zeros(100)\n",
    "\n",
    "Paxis[0]=P_sat(Taxis[0],guessP)\n",
    "Vs=V_preos(Taxis[0],Paxis[0])\n",
    "HLaxis[0]=H_real(Taxis[0],Paxis[0],Vs[0])\n",
    "HVaxis[0]=H_real(Taxis[0],Paxis[0],Vs[2])\n",
    "\n",
    "\n",
    "\n",
    "for i in range(1,100):\n",
    "    Paxis[i]=P_sat(Taxis[i],Paxis[i-1])\n",
    "    Vs=V_preos(Taxis[i],Paxis[i])\n",
    "    HLaxis[i]=H_real(Taxis[i],Paxis[i],Vs[0])\n",
    "    HVaxis[i]=H_real(Taxis[i],Paxis[i],Vs[2])\n",
    "\n",
    "# Plot envelope\n",
    "plt.semilogy(HLaxis,Paxis)\n",
    "plt.semilogy(HVaxis,Paxis)\n",
    "\n",
    "plt.show()"
   ]
  },
  {
   "cell_type": "code",
   "execution_count": 29,
   "metadata": {
    "collapsed": false
   },
   "outputs": [
    {
     "ename": "NameError",
     "evalue": "name 'bm' is not defined",
     "output_type": "error",
     "traceback": [
      "\u001b[0;31m---------------------------------------------------------------------------\u001b[0m",
      "\u001b[0;31mNameError\u001b[0m                                 Traceback (most recent call last)",
      "\u001b[0;32m<ipython-input-29-faf46032993e>\u001b[0m in \u001b[0;36m<module>\u001b[0;34m()\u001b[0m\n\u001b[1;32m      5\u001b[0m \u001b[0mPaxis\u001b[0m \u001b[0;34m=\u001b[0m \u001b[0mnp\u001b[0m\u001b[0;34m.\u001b[0m\u001b[0mzeros\u001b[0m\u001b[0;34m(\u001b[0m\u001b[0;36m100\u001b[0m\u001b[0;34m)\u001b[0m\u001b[0;34m\u001b[0m\u001b[0m\n\u001b[1;32m      6\u001b[0m \u001b[0;34m\u001b[0m\u001b[0m\n\u001b[0;32m----> 7\u001b[0;31m \u001b[0mPaxis\u001b[0m\u001b[0;34m[\u001b[0m\u001b[0;36m0\u001b[0m\u001b[0;34m]\u001b[0m\u001b[0;34m=\u001b[0m\u001b[0mP_sat\u001b[0m\u001b[0;34m(\u001b[0m\u001b[0mTaxis\u001b[0m\u001b[0;34m[\u001b[0m\u001b[0;36m0\u001b[0m\u001b[0;34m]\u001b[0m\u001b[0;34m,\u001b[0m\u001b[0mguessP\u001b[0m\u001b[0;34m)\u001b[0m\u001b[0;34m\u001b[0m\u001b[0m\n\u001b[0m\u001b[1;32m      8\u001b[0m \u001b[0mVs\u001b[0m\u001b[0;34m=\u001b[0m\u001b[0mV_preos\u001b[0m\u001b[0;34m(\u001b[0m\u001b[0mTaxis\u001b[0m\u001b[0;34m[\u001b[0m\u001b[0;36m0\u001b[0m\u001b[0;34m]\u001b[0m\u001b[0;34m,\u001b[0m\u001b[0mPaxis\u001b[0m\u001b[0;34m[\u001b[0m\u001b[0;36m0\u001b[0m\u001b[0;34m]\u001b[0m\u001b[0;34m)\u001b[0m\u001b[0;34m\u001b[0m\u001b[0m\n\u001b[1;32m      9\u001b[0m \u001b[0mHLaxis\u001b[0m\u001b[0;34m[\u001b[0m\u001b[0;36m0\u001b[0m\u001b[0;34m]\u001b[0m\u001b[0;34m=\u001b[0m\u001b[0mH_real\u001b[0m\u001b[0;34m(\u001b[0m\u001b[0mTaxis\u001b[0m\u001b[0;34m[\u001b[0m\u001b[0;36m0\u001b[0m\u001b[0;34m]\u001b[0m\u001b[0;34m,\u001b[0m\u001b[0mPaxis\u001b[0m\u001b[0;34m[\u001b[0m\u001b[0;36m0\u001b[0m\u001b[0;34m]\u001b[0m\u001b[0;34m,\u001b[0m\u001b[0mVs\u001b[0m\u001b[0;34m[\u001b[0m\u001b[0;36m0\u001b[0m\u001b[0;34m]\u001b[0m\u001b[0;34m)\u001b[0m\u001b[0;34m\u001b[0m\u001b[0m\n",
      "\u001b[0;32m<ipython-input-20-b3fef6b999d0>\u001b[0m in \u001b[0;36mP_sat\u001b[0;34m(T, iguess_P)\u001b[0m\n\u001b[1;32m      8\u001b[0m     \u001b[0;32mwhile\u001b[0m\u001b[0;34m(\u001b[0m\u001b[0mRES\u001b[0m\u001b[0;34m>\u001b[0m\u001b[0mTOL\u001b[0m \u001b[0;32mand\u001b[0m \u001b[0mi\u001b[0m\u001b[0;34m<\u001b[0m\u001b[0mMAX\u001b[0m\u001b[0;34m)\u001b[0m\u001b[0;34m:\u001b[0m\u001b[0;34m\u001b[0m\u001b[0m\n\u001b[1;32m      9\u001b[0m \u001b[0;34m\u001b[0m\u001b[0m\n\u001b[0;32m---> 10\u001b[0;31m         \u001b[0;34m[\u001b[0m\u001b[0mV_L\u001b[0m\u001b[0;34m,\u001b[0m\u001b[0m_\u001b[0m\u001b[0;34m,\u001b[0m\u001b[0mV_V\u001b[0m\u001b[0;34m]\u001b[0m\u001b[0;34m=\u001b[0m\u001b[0mV_preos\u001b[0m\u001b[0;34m(\u001b[0m\u001b[0mT\u001b[0m\u001b[0;34m,\u001b[0m\u001b[0mP\u001b[0m\u001b[0;34m)\u001b[0m \u001b[0;31m#aqui vc calcula os volumes para esse par (T,P) (ok)\u001b[0m\u001b[0;34m\u001b[0m\u001b[0m\n\u001b[0m\u001b[1;32m     11\u001b[0m         \u001b[0;31m#print([V_L,_,V_V])\u001b[0m\u001b[0;34m\u001b[0m\u001b[0;34m\u001b[0m\u001b[0m\n\u001b[1;32m     12\u001b[0m         \u001b[0mphi_L\u001b[0m\u001b[0;34m=\u001b[0m\u001b[0mnp\u001b[0m\u001b[0;34m.\u001b[0m\u001b[0mexp\u001b[0m\u001b[0;34m(\u001b[0m\u001b[0mG_res\u001b[0m\u001b[0;34m(\u001b[0m\u001b[0mT\u001b[0m\u001b[0;34m,\u001b[0m\u001b[0mP\u001b[0m\u001b[0;34m,\u001b[0m\u001b[0mV_L\u001b[0m\u001b[0;34m)\u001b[0m\u001b[0;34m)\u001b[0m \u001b[0;31m#aqui vc calcula o Gres pa cada caso\u001b[0m\u001b[0;34m\u001b[0m\u001b[0m\n",
      "\u001b[0;32m<ipython-input-18-0b21eb5a5052>\u001b[0m in \u001b[0;36mV_preos\u001b[0;34m(T, P)\u001b[0m\n\u001b[1;32m     17\u001b[0m     \u001b[0mVs\u001b[0m\u001b[0;34m=\u001b[0m\u001b[0mnp\u001b[0m\u001b[0;34m.\u001b[0m\u001b[0mroots\u001b[0m\u001b[0;34m(\u001b[0m\u001b[0;34m[\u001b[0m\u001b[0mc3\u001b[0m\u001b[0;34m,\u001b[0m\u001b[0mc2\u001b[0m\u001b[0;34m,\u001b[0m\u001b[0mc1\u001b[0m\u001b[0;34m,\u001b[0m\u001b[0mc0\u001b[0m\u001b[0;34m]\u001b[0m\u001b[0;34m)\u001b[0m\u001b[0;34m\u001b[0m\u001b[0m\n\u001b[1;32m     18\u001b[0m     \u001b[0mVs\u001b[0m\u001b[0;34m[\u001b[0m\u001b[0mnp\u001b[0m\u001b[0;34m.\u001b[0m\u001b[0mlogical_not\u001b[0m\u001b[0;34m(\u001b[0m\u001b[0mnp\u001b[0m\u001b[0;34m.\u001b[0m\u001b[0misreal\u001b[0m\u001b[0;34m(\u001b[0m\u001b[0mVs\u001b[0m\u001b[0;34m)\u001b[0m\u001b[0;34m)\u001b[0m\u001b[0;34m]\u001b[0m\u001b[0;34m=\u001b[0m\u001b[0;36m0.\u001b[0m\u001b[0;34m\u001b[0m\u001b[0m\n\u001b[0;32m---> 19\u001b[0;31m     \u001b[0;32mreturn\u001b[0m \u001b[0mnp\u001b[0m\u001b[0;34m.\u001b[0m\u001b[0marray\u001b[0m\u001b[0;34m(\u001b[0m\u001b[0;34m[\u001b[0m\u001b[0mnp\u001b[0m\u001b[0;34m.\u001b[0m\u001b[0mnanmin\u001b[0m\u001b[0;34m(\u001b[0m\u001b[0mVs\u001b[0m\u001b[0;34m[\u001b[0m\u001b[0mVs\u001b[0m\u001b[0;34m>\u001b[0m\u001b[0mbm\u001b[0m\u001b[0;34m]\u001b[0m\u001b[0;34m)\u001b[0m\u001b[0;34m,\u001b[0m\u001b[0mnp\u001b[0m\u001b[0;34m.\u001b[0m\u001b[0mnanmax\u001b[0m\u001b[0;34m(\u001b[0m\u001b[0mVs\u001b[0m\u001b[0;34m[\u001b[0m\u001b[0mVs\u001b[0m\u001b[0;34m>\u001b[0m\u001b[0mbm\u001b[0m\u001b[0;34m]\u001b[0m\u001b[0;34m)\u001b[0m\u001b[0;34m]\u001b[0m\u001b[0;34m)\u001b[0m\u001b[0;34m\u001b[0m\u001b[0m\n\u001b[0m\u001b[1;32m     20\u001b[0m \u001b[0;34m\u001b[0m\u001b[0m\n\u001b[1;32m     21\u001b[0m     \u001b[0mRES\u001b[0m\u001b[0;34m=\u001b[0m\u001b[0;36m1\u001b[0m\u001b[0;34m\u001b[0m\u001b[0m\n",
      "\u001b[0;31mNameError\u001b[0m: name 'bm' is not defined"
     ]
    }
   ],
   "source": [
    "#Gráfico ln(P)xH\n",
    "HLaxis=np.zeros(100)\n",
    "HVaxis=np.zeros(100)\n",
    "Taxis = np.linspace(270,Tc,100)\n",
    "Paxis = np.zeros(100)\n",
    "\n",
    "Paxis[0]=P_sat(Taxis[0],guessP)\n",
    "Vs=V_preos(Taxis[0],Paxis[0])\n",
    "HLaxis[0]=H_real(Taxis[0],Paxis[0],Vs[0])\n",
    "HVaxis[0]=H_real(Taxis[0],Paxis[0],Vs[2])\n",
    "\n",
    "\n",
    "\n",
    "for i in range(1,100):\n",
    "    Paxis[i]=P_sat(Taxis[i],Paxis[i-1])\n",
    "    Vs=V_preos(Taxis[i],Paxis[i])\n",
    "    HLaxis[i]=H_real(Taxis[i],Paxis[i],Vs[0])\n",
    "    HVaxis[i]=H_real(Taxis[i],Paxis[i],Vs[2])\n",
    "\n",
    "# Plot envelope\n",
    "plt.semilogy(HLaxis,Paxis)\n",
    "plt.semilogy(HVaxis,Paxis)\n",
    "\n",
    "#### ISOPLETHES isotherms\n",
    "\n",
    "keyTs = np.array([75,90,95,99])\n",
    "\n",
    "#for i in np.arange(0,100,33):\n",
    "j=-1\n",
    "for i in keyTs:\n",
    "    j+=1\n",
    "    plt.semilogy([HLaxis[i],HVaxis[i]],[Paxis[i],Paxis[i]],color=Tcolors[j],ls='--')    \n",
    "\n",
    "\n",
    "j=-1\n",
    "for i in keyTs:\n",
    "    j+=1\n",
    "    T=Taxis[i]\n",
    "\n",
    "    #grid in H by means of grid in V\n",
    "\n",
    "    Vmi = np.exp(np.linspace(np.log(b*1.01),np.log((R*Tc/Pc)*100.),1000))\n",
    "    \n",
    "    P = np.zeros(1000)\n",
    "    H = np.zeros(1000)\n",
    "    \n",
    "    i=-1\n",
    "    for V in Vmi:\n",
    "        i+=1\n",
    "        P[i]=P_preos(T,V)\n",
    "        H[i] = H_real(T,P[i],V)\n",
    "        #print(V)\n",
    "        #print(P[i])\n",
    "        #print(H[i])\n",
    "    plt.semilogy(H,P,color=Tcolors[j],label='{:.{prec}f}'.format(T, prec=2)+' K') \n",
    "\n",
    "T=1.1*Tc\n",
    "i=-1\n",
    "for V in Vmi:\n",
    "    i+=1\n",
    "    P[i]=P_preos(T,V)\n",
    "    H[i] = H_real(T,P[i],V)\n",
    "    #print(V)\n",
    "    #print(P[i])\n",
    "    #print(H[i])\n",
    "plt.semilogy(H,P,color=Tcolors[j],label='{:.{prec}f}'.format(T, prec=2)+' K')\n",
    "\n",
    "    \n",
    "plt.ylabel('P') \n",
    "plt.title('Diagrama PV para água') \n",
    "\n",
    "\n",
    "    \n",
    "plt.ylim(Pc/100,Pc*100)\n",
    "    \n",
    "plt.xlim(-4e4,2e4)\n",
    "#\n",
    "plt.tick_params( \n",
    "axis='x',        \n",
    "which='both',    \n",
    "bottom='on',     \n",
    "top='on',        \n",
    "labelbottom='on') \n",
    "\n",
    "plt.semilogy([-4e6,2e6],[Pc,Pc],color='k',ls=':')\n",
    "    \n",
    "#plt.scatter(VLaxis[99],Pc,marker='o')\n",
    "    \n",
    "plt.legend(loc=2)       \n",
    "\n",
    "plt.xlabel('H')\n",
    "\n",
    "plt.scatter(HLaxis[99],Pc,marker='*')\n",
    "\n",
    "plt.show()"
   ]
  },
  {
   "cell_type": "code",
   "execution_count": 30,
   "metadata": {
    "collapsed": false
   },
   "outputs": [],
   "source": [
    "#diagrama TxS\n",
    "def S_ideal(T,P):\n",
    "        Pref=1*10**5 #Pa\n",
    "        \n",
    "        Tref=273.15 #K\n",
    "        S_ideal=R*(Cp_[4]/4*(T**4-Tref**4)+Cp_[3]/3*(T**3-Tref**3)+Cp_[2]/2*(T**2-Tref**2)+Cp_[1]*(T-Tref)+Cp_[0]*np.log(T/Tref))-R*np.log(P/Pref)    \n",
    "        return S_ideal\n",
    "\n",
    "def S_real(T,P,V):\n",
    "        S_real=S_ideal(T,P)+S_res(T,P,V)    \n",
    "        return S_real"
   ]
  },
  {
   "cell_type": "code",
   "execution_count": null,
   "metadata": {
    "collapsed": false
   },
   "outputs": [],
   "source": [
    "def Tantoine(P):\n",
    "    A = 16.3872\n",
    "    B = 3885.70\n",
    "    C = 230.170\n",
    "    return (C + B/(A-np.log(P*.001))) - 273\n",
    "TsatA = Tantoine(P)\n",
    "print (Tantoine(100000))"
   ]
  },
  {
   "cell_type": "code",
   "execution_count": null,
   "metadata": {
    "collapsed": false
   },
   "outputs": [],
   "source": [
    "#Gráfico ln(P)xH\n",
    "SLaxis=np.zeros(100)\n",
    "SVaxis=np.zeros(100)\n",
    "Taxis = np.linspace(270,Tc,100)\n",
    "Paxis = np.zeros(100)\n",
    "\n",
    "Paxis[0]=P_sat(Taxis[0],guessP)\n",
    "Vs=V_preos(Taxis[0],Paxis[0])\n",
    "SLaxis[0]=S_real(Taxis[0],Paxis[0],Vs[0])\n",
    "SVaxis[0]=S_real(Taxis[0],Paxis[0],Vs[2])\n",
    "\n",
    "\n",
    "\n",
    "for i in range(1,100):\n",
    "    Paxis[i]=P_sat(Taxis[i],Paxis[i-1])\n",
    "    Vs=V_preos(Taxis[i],Paxis[i])\n",
    "    SLaxis[i]=S_real(Taxis[i],Paxis[i],Vs[0])\n",
    "    SVaxis[i]=S_real(Taxis[i],Paxis[i],Vs[2])\n",
    "\n",
    "# Plot envelope\n",
    "plt.plot(SLaxis,Taxis)\n",
    "plt.plot(SVaxis,Taxis)\n",
    "\n",
    "#\n",
    "plt.tick_params( \n",
    "axis='x',        \n",
    "which='both',    \n",
    "bottom='on',     \n",
    "top='on',        \n",
    "labelbottom='on') \n",
    "\n",
    "\n",
    "    \n",
    "\n",
    "    \n",
    "#plt.legend(loc=2)       \n",
    "\n",
    "plt.xlabel('S')\n",
    "plt.ylabel('T')\n",
    "\n",
    "plt.xlim(-150,50)\n",
    "plt.ylim(270,2*Tc)\n",
    "\n",
    "plt.scatter(SLaxis[99],Tc,marker='*')\n",
    "\n",
    "plt.show()    \n",
    "\n"
   ]
  },
  {
   "cell_type": "code",
   "execution_count": null,
   "metadata": {
    "collapsed": false
   },
   "outputs": [],
   "source": [
    "def T_vdw(P,V):\n",
    "    T = (P + a/V**2)*(V-b)/R\n",
    "    return T\n",
    "\n",
    "def T_preos(P,V):\n",
    "    from scipy import optimize as opt\n",
    "    REST = lambda T: P_preos(T,V)-P\n",
    "    SOLVE=opt.bisect\n",
    "    igT=T_vdw(P,V)\n",
    "    try:\n",
    "        T = SOLVE(REST,\n",
    "              igT*.19,\n",
    "              igT*10.1\n",
    "             )\n",
    "    except ValueError:\n",
    "        print('P',P)\n",
    "        print('V',V)\n",
    "        print(igT,igT*.9, REST(igT*.9),igT*1.1,REST(igT*1.1))\n",
    "        raise ValueError\n",
    "    return T\n",
    "\n",
    "T=274\n",
    "V=22.4/(1000)\n",
    "P=P_preos(T,V)\n",
    "print(T_preos(P,V))\n",
    "print(T_preos(P*1.1,V))\n",
    "print(T_preos(P*1.2,V))"
   ]
  },
  {
   "cell_type": "code",
   "execution_count": null,
   "metadata": {
    "collapsed": false
   },
   "outputs": [],
   "source": [
    "#Gráfico ln(P)xH\n",
    "SLaxis=np.zeros(100)\n",
    "SVaxis=np.zeros(100)\n",
    "Taxis = np.linspace(270,Tc,100)\n",
    "Paxis = np.zeros(100)\n",
    "\n",
    "Paxis[0]=P_sat(Taxis[0],guessP)\n",
    "Vs=V_preos(Taxis[0],Paxis[0])\n",
    "SLaxis[0]=S_real(Taxis[0],Paxis[0],Vs[0])\n",
    "SVaxis[0]=S_real(Taxis[0],Paxis[0],Vs[2])\n",
    "\n",
    "\n",
    "\n",
    "for i in range(1,100):\n",
    "    Paxis[i]=P_sat(Taxis[i],Paxis[i-1])\n",
    "    Vs=V_preos(Taxis[i],Paxis[i])\n",
    "    SLaxis[i]=S_real(Taxis[i],Paxis[i],Vs[0])\n",
    "    SVaxis[i]=S_real(Taxis[i],Paxis[i],Vs[2])\n",
    "\n",
    "# Plot envelope\n",
    "plt.plot(SLaxis,Taxis)\n",
    "plt.plot(SVaxis,Taxis)\n",
    "\n",
    "#### ISOPLETHES isotherms\n",
    "\n",
    "keyTs = np.array([75,90,95,99])\n",
    "\n",
    "#for i in np.arange(0,100,33):\n",
    "j=-1\n",
    "for i in keyTs:\n",
    "    j+=1\n",
    "    plt.plot([SLaxis[i],SVaxis[i]],[Taxis[i],Taxis[i]],color=Tcolors[j],ls='--')    \n",
    "\n",
    "j=-1\n",
    "for i in keyTs:\n",
    "    j+=1\n",
    "    P=Paxis[i]\n",
    "\n",
    "    #grid in H by means of grid in V\n",
    "\n",
    "    Vmi = np.exp(np.linspace(np.log(b*1.01),np.log((R*Tc/Pc)*100.),1000))\n",
    "    \n",
    "    T = np.zeros(1000)\n",
    "    S = np.zeros(1000)\n",
    "    \n",
    "    i=-1\n",
    "    for V in Vmi:\n",
    "        i+=1\n",
    "        T[i]=T_preos(P,V)\n",
    "        S[i] = S_real(T[i],P,V)\n",
    "        #print(V)\n",
    "        #print(P[i])\n",
    "        #print(H[i])\n",
    "    plt.plot(S,T,color=Tcolors[j],label='{:.{prec}f}'.format(P, prec=2)+' K') \n",
    "    \n",
    "\n",
    "P=10*Pc\n",
    "\n",
    "#grid in H by means of grid in V\n",
    "\n",
    "Vmi = np.exp(np.linspace(np.log(b*1.01),np.log((R*Tc/Pc)*100.),1000))\n",
    "\n",
    "T = np.zeros(1000)\n",
    "S = np.zeros(1000)\n",
    "\n",
    "i=-1\n",
    "for V in Vmi:\n",
    "    i+=1\n",
    "    T[i]=T_preos(P,V)\n",
    "    S[i] = S_real(T[i],P,V)\n",
    "    #print(V)\n",
    "    #print(P[i])\n",
    "    #print(H[i])\n",
    "plt.plot(S,T,color=Tcolors[j],label='{:.{prec}f}'.format(P, prec=2)+' K')     \n",
    "    \n",
    "\n",
    "#\n",
    "plt.tick_params( \n",
    "axis='x',        \n",
    "which='both',    \n",
    "bottom='on',     \n",
    "top='on',        \n",
    "labelbottom='on') \n",
    "\n",
    "\n",
    "    \n",
    "\n",
    "    \n",
    "#plt.legend(loc=2)       \n",
    "\n",
    "plt.xlabel('S')\n",
    "plt.ylabel('T')\n",
    "\n",
    "plt.xlim(-150,50)\n",
    "plt.ylim(270,2*Tc)\n",
    "\n",
    "plt.scatter(SLaxis[99],Tc,marker='*')\n",
    "\n",
    "\n",
    "plt.show()    \n",
    "\n"
   ]
  }
 ],
 "metadata": {
  "anaconda-cloud": {},
  "kernelspec": {
   "display_name": "Python 3",
   "language": "python",
   "name": "python3"
  },
  "language_info": {
   "codemirror_mode": {
    "name": "ipython",
    "version": 3
   },
   "file_extension": ".py",
   "mimetype": "text/x-python",
   "name": "python",
   "nbconvert_exporter": "python",
   "pygments_lexer": "ipython3",
   "version": "3.6.0"
  }
 },
 "nbformat": 4,
 "nbformat_minor": 1
}
