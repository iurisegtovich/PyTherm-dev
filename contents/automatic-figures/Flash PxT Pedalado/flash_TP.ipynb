{
 "cells": [
  {
   "cell_type": "code",
   "execution_count": 1,
   "metadata": {
    "collapsed": false
   },
   "outputs": [
    {
     "data": {
      "text/plain": [
       "<module 'm_vEoS' from '/home/medeirosfa/backup-full--2017.05.22/WORKSPACE DATA/Documents/PyTherm/Livro - Termodinâmica/Flash PxT Pedalado/m_vEoS.py'>"
      ]
     },
     "execution_count": 1,
     "metadata": {},
     "output_type": "execute_result"
    }
   ],
   "source": [
    "#EoS debugging\n",
    "from importlib import reload\n",
    "import m_vEoS #import module to be able to reload\n",
    "reload(m_vEoS) #reloads module if we have to fix something inside it"
   ]
  },
  {
   "cell_type": "markdown",
   "metadata": {},
   "source": [
    "# Flash-$TP$"
   ]
  },
  {
   "cell_type": "markdown",
   "metadata": {},
   "source": [
    "## Load equation of states modules\n",
    "(see lecture `#MissingREF`)"
   ]
  },
  {
   "cell_type": "code",
   "execution_count": 2,
   "metadata": {
    "collapsed": false,
    "scrolled": false
   },
   "outputs": [],
   "source": [
    "import m_vEoS #import module to be able to reload\n",
    "from m_vEoS import c_vEoS #imports/reimports vEoS class from the loaded/reloaded module"
   ]
  },
  {
   "cell_type": "markdown",
   "metadata": {},
   "source": [
    "## Load numpy\n",
    "for the math and array structures"
   ]
  },
  {
   "cell_type": "code",
   "execution_count": 3,
   "metadata": {
    "collapsed": true
   },
   "outputs": [],
   "source": [
    "import numpy as np"
   ]
  },
  {
   "cell_type": "markdown",
   "metadata": {},
   "source": [
    "# Load matplotlib\n",
    "for the graphical analysis"
   ]
  },
  {
   "cell_type": "code",
   "execution_count": 4,
   "metadata": {
    "collapsed": true
   },
   "outputs": [],
   "source": [
    "import matplotlib\n",
    "from matplotlib import pyplot as plt\n",
    "%matplotlib inline"
   ]
  },
  {
   "cell_type": "markdown",
   "metadata": {},
   "source": [
    "## Setup a test system"
   ]
  },
  {
   "cell_type": "code",
   "execution_count": 25,
   "metadata": {
    "collapsed": false
   },
   "outputs": [],
   "source": [
    "Ncomp=5\n",
    "#             [co2,   benzene, ethane, ethanol, methane]\n",
    "Tc = np.array([304.1, 562, 305.3, 513.9, 190.555]) #K\n",
    "Pc = np.array([73.8e5,  48.9e5, 48.714e5, 61.4e5, 45.95e5]) #Pa\n",
    "w = np.array([0.239,  0.212, 0.099, 0.644, 0.008]) #dimensionless\n",
    "\n",
    "kij = np.array([[0,0,0,0,0],\n",
    "                [0,0,0,0,0],\n",
    "                [0,0,0,0,0],\n",
    "                [0,0,0,0,0],\n",
    "                [0,0,0,0,0],]) #dimensionless\n",
    "\n",
    "T=283.  #K\n",
    "P=30e5 #Pa\n",
    "z = np.array([0.5, 0.0, 0.00, 0.00, 0.5])  #normalized\n",
    "\n",
    "#check that it is normalized\n",
    "if (np.abs(np.sum(z)-1)>1e-5):\n",
    "    raise ValueError(\"Bad data for z, z is not normalized\")"
   ]
  },
  {
   "cell_type": "markdown",
   "metadata": {},
   "source": [
    "## Initialize the EoS modeling for liquid and vapor using given pure substance properties."
   ]
  },
  {
   "cell_type": "code",
   "execution_count": 6,
   "metadata": {
    "collapsed": false
   },
   "outputs": [],
   "source": [
    "# instantiates an eos object from the imported vEoS class\n",
    "eos = c_vEoS(Ncomp,Tc,Pc,w,kij)"
   ]
  },
  {
   "cell_type": "markdown",
   "metadata": {},
   "source": [
    "# provide initial guess for $\\underline K$ and $\\beta$"
   ]
  },
  {
   "cell_type": "code",
   "execution_count": 7,
   "metadata": {
    "collapsed": true
   },
   "outputs": [],
   "source": [
    "# initial guesses\n",
    "K_iguess = np.exp(np.log(Pc/P)+5.373*(1.+w)*(1.-Tc/T)) #Wilson [MissingREF]\n",
    "Beta_iguess = .5"
   ]
  },
  {
   "cell_type": "markdown",
   "metadata": {},
   "source": [
    "# Eq. 1 - The Rachford-Rice residue function"
   ]
  },
  {
   "cell_type": "code",
   "execution_count": 8,
   "metadata": {
    "collapsed": false
   },
   "outputs": [],
   "source": [
    "def RES_RR(z,K,BETA):\n",
    "    RES = 0.\n",
    "    for i in range(Ncomp):\n",
    "        RES += z[i]*( (K[i]-1.) / (1.+BETA*(K[i]-1.)) )            \n",
    "    return RES"
   ]
  },
  {
   "cell_type": "code",
   "execution_count": 9,
   "metadata": {
    "collapsed": false
   },
   "outputs": [
    {
     "name": "stderr",
     "output_type": "stream",
     "text": [
      "/home/medeirosfa/anaconda3/lib/python3.6/site-packages/ipykernel/__main__.py:13: RuntimeWarning: divide by zero encountered in double_scalars\n"
     ]
    },
    {
     "data": {
      "image/png": "[encoded data removed]",
      "text/plain": [
       "<matplotlib.figure.Figure at 0x7f17d4adf9b0>"
      ]
     },
     "metadata": {},
     "output_type": "display_data"
    }
   ],
   "source": [
    "#there is one singularity for each i where (1.+BETA*(K[i]-1.))==0\n",
    "Npt=10000\n",
    "Ks = np.zeros(Npt)\n",
    "\n",
    "fig,(ax2,ax)=plt.subplots(1,2)\n",
    "\n",
    "ymin=-1\n",
    "ymax=2\n",
    "\n",
    "BETAs = np.linspace(ymin,ymax,Npt)\n",
    "\n",
    "for i, BETAi in enumerate(BETAs):\n",
    "    Ks[i]=1. -(1./BETAi)\n",
    "ax2.plot(Ks,BETAs)\n",
    "\n",
    "\n",
    "\n",
    "\n",
    "xmin=-1\n",
    "xmax=0\n",
    "\n",
    "ax2.set_xlim(xmin,xmax)\n",
    "ax2.set_ylim(ymin,ymax)\n",
    "\n",
    "ax2.plot([xmin,xmax],[1,1],color='gray',ls='--')\n",
    "ax2.plot([xmin,xmax],[0,0],color='gray',ls='--')\n",
    "\n",
    "ax.plot([1,1],[ymin,ymax],color='gray',ls='--')\n",
    "\n",
    "\n",
    "x2min=1e-3\n",
    "x2max=1e3\n",
    "\n",
    "ax.plot([x2min,x2max],[1,1],color='gray',ls='--')\n",
    "ax.plot([x2min,x2max],[0,0],color='gray',ls='--')\n",
    "\n",
    "ax.set_xlabel(r\"$K_i$\")\n",
    "\n",
    "ax.set_yticklabels([])\n",
    "ax.plot(Ks,BETAs)\n",
    "ax.set_xlim(x2min,x2max)\n",
    "ax.set_ylim(ymin,ymax)\n",
    "\n",
    "ax2.set_ylabel(r\"$\\beta$\")\n",
    "\n",
    "bot=[1e-3,1e-3]\n",
    "top=[1e3,1e3]\n",
    "xrange=[0,1]\n",
    "ax.fill_betweenx(xrange,bot,top,color='green',alpha=.25)\n",
    "\n",
    "ax.semilogx()\n",
    "\n",
    "#ax2.set_title(r\"$\\beta \\, | \\, R(\\beta)$ is singular $\\times$ system $K_i$\")\n",
    "ax.set_title(r\"$\\beta \\, | \\, R(\\beta)$ is singular dependence on system $K_i$\")\n",
    "\n",
    "fig.canvas.draw()\n",
    "#but these aren't actually located inside the physical validity range [0<=beta<=1] and [K>0]"
   ]
  },
  {
   "cell_type": "code",
   "execution_count": null,
   "metadata": {
    "collapsed": true
   },
   "outputs": [],
   "source": [
    "#in fact the RR res, for beta inside [0,1] is monotonically decreasing and approximately linear for some \"easy cases\""
   ]
  },
  {
   "cell_type": "code",
   "execution_count": 10,
   "metadata": {
    "collapsed": false
   },
   "outputs": [
    {
     "data": {
      "image/png": "[encoded data removed]",
      "text/plain": [
       "<matplotlib.figure.Figure at 0x7f17d2157da0>"
      ]
     },
     "metadata": {},
     "output_type": "display_data"
    }
   ],
   "source": [
    "Npt=1000\n",
    "RESs1 = np.zeros(Npt)\n",
    "RESs2 = np.zeros(Npt)\n",
    "RESs3 = np.zeros(Npt)\n",
    "\n",
    "fig,ax=plt.subplots(1,1)\n",
    "\n",
    "BETAs = np.linspace(0,1,Npt)\n",
    "\n",
    "for i, BETAi in enumerate(BETAs):\n",
    "    K1=np.array([1e-2,1e-1,1,1e1,1e2])\n",
    "    RESs1[i] = RES_RR(z=z,K=K1,BETA=BETAi)\n",
    "    K2=np.array([.1,.9,1,1.1,10])\n",
    "    RESs2[i] = RES_RR(z=z,K=K2,BETA=BETAi)\n",
    "    RESs3[i] = RES_RR(z=z,K=K_iguess,BETA=BETAi)\n",
    "\n",
    "ax.plot(BETAs,RESs1,label=\"1\")\n",
    "ax.plot(BETAs,RESs2,label=\"2\")\n",
    "ax.plot(BETAs,RESs3,label=\"3\")\n",
    "\n",
    "ax.plot([0,1],[0,0],color='k')\n",
    "\n",
    "ax.legend()\n",
    "\n",
    "# ax.plot(BETAs,RESs3)\n",
    "\n",
    "ax.set_ylim(-1,1)\n",
    "ax.set_xlim(0,1)\n",
    "fig.canvas.draw()"
   ]
  },
  {
   "cell_type": "code",
   "execution_count": 22,
   "metadata": {
    "collapsed": true
   },
   "outputs": [],
   "source": [
    "\n",
    "def Newton(z,K,BETA):\n",
    "    RES=1\n",
    "    TOL=1e-9\n",
    "    MAXi=100\n",
    "    i=0\n",
    "    while (np.abs(RES)>TOL and i < MAXi):\n",
    "        RES=RES_RR(z,K,BETA)\n",
    "        step=1e-5\n",
    "        JAC=(RES_RR(z,K,BETA+step)-RES_RR(z,K,BETA-step))/(2*step)\n",
    "        BETA-=RES/JAC\n",
    "        i+=1\n",
    "#        print(i)\n",
    "    return BETA\n",
    "\n",
    "def update_x(z,K,BETA):\n",
    "    x=np.zeros(Ncomp)\n",
    "    y=np.zeros(Ncomp)\n",
    "    for i in range(Ncomp):\n",
    "        x[i] = z[i]*( (1.) / (1+BETA*(K[i]-1.)) )            \n",
    "        y[i] = K[i]*x[i]\n",
    "    return x/np.sum(x), y/np.sum(y)"
   ]
  },
  {
   "cell_type": "code",
   "execution_count": 36,
   "metadata": {
    "collapsed": false
   },
   "outputs": [
    {
     "name": "stdout",
     "output_type": "stream",
     "text": [
      "x= [ 0.56676152  0.          0.          0.          0.43323848]\n",
      "y= [ 0.56676152  0.          0.          0.          0.43323848]\n",
      "BETA= 1279044880.55\n"
     ]
    }
   ],
   "source": [
    "def flash_TP(T,P,z,K,BETA):\n",
    "    RES_flash=1\n",
    "    TOL=1e-9\n",
    "\n",
    "    while (np.abs(RES_flash)>TOL):\n",
    "        K_ol=1.*K #copy\n",
    "        #given K,BETA calc x\n",
    "        x,y=update_x(z,K,BETA)\n",
    "#         print(\"x=\",x)\n",
    "#         print(\"y=\",y)\n",
    "        #given x calc fugacity_coeffs\n",
    "        VL=eos.Volume(T=T,P=P,x=x)[0] #expecting 2 sorted physically meaningful roots \n",
    "        VV=eos.Volume(T=T,P=P,x=y)[1] #expecting 2 sorted physically meaningful roots \n",
    "#         print(VL,VV)\n",
    "        phiL=eos.fugacity_coeff(T=T,V=VL,x=x)\n",
    "        phiV=eos.fugacity_coeff(T=T,V=VV,x=y)\n",
    "#         print(phiL,phiV)\n",
    "        #update K\n",
    "        K=phiL/phiV #update K\n",
    "        #given K calc BETA\n",
    "        BETA=Newton(z,K,BETA)\n",
    "#         print(K_ol)\n",
    "#         print(K)\n",
    "        RES_flash=np.linalg.norm(K_ol-K)\n",
    "#         print(RES_flash)\n",
    "    return x,y,BETA\n",
    "\n",
    "ans = flash_TP(T=200,P=60e5,z=z,K=K_iguess,BETA=.5)\n",
    "\n",
    "print(\"x=\",ans[0])\n",
    "print(\"y=\",ans[1])\n",
    "print(\"BETA=\",ans[2])"
   ]
  },
  {
   "cell_type": "code",
   "execution_count": 73,
   "metadata": {
    "collapsed": false
   },
   "outputs": [
    {
     "name": "stdout",
     "output_type": "stream",
     "text": [
      "x= [ 0.70447286  0.          0.          0.          0.29552714]\n",
      "y= [ 0.27437854  0.          0.          0.          0.72562146]\n",
      "BETA= 0.475413997088\n"
     ]
    }
   ],
   "source": [
    "def flash_TP_inK(T,P,z,K,BETA):\n",
    "    RES_flash=1\n",
    "    TOL=1e-9\n",
    "\n",
    "    while (np.abs(RES_flash)>TOL):\n",
    "        K_ol=1.*K #copy\n",
    "        #given K,BETA calc x\n",
    "        x,y=update_x(z,K,BETA)\n",
    "#         print(\"x=\",x)\n",
    "#         print(\"y=\",y)\n",
    "        #given x calc fugacity_coeffs\n",
    "        VL=eos.Volume(T=T,P=P,x=x)[0] #expecting 2 sorted physically meaningful roots \n",
    "        VV=eos.Volume(T=T,P=P,x=y)[1] #expecting 2 sorted physically meaningful roots \n",
    "#         print(VL,VV)\n",
    "        phiL=eos.fugacity_coeff(T=T,V=VL,x=x)\n",
    "        phiV=eos.fugacity_coeff(T=T,V=VV,x=y)\n",
    "#         print(phiL,phiV)\n",
    "        #update K\n",
    "        K=phiL/phiV #update K\n",
    "        #given K calc BETA\n",
    "        BETA=Newton(z,K,BETA)\n",
    "#         print(K_ol)\n",
    "#         print(K)\n",
    "        RES_flash=np.linalg.norm(K_ol-K)\n",
    "#         print(RES_flash)\n",
    "    return x,y,BETA\n",
    "    \n",
    "ans = flash_TP(T=107.719201587,P=10e5,z=z,K=K_iguess,BETA=.9)\n",
    "\n",
    "print(\"x=\",ans[0])\n",
    "print(\"y=\",ans[1])\n",
    "print(\"BETA=\",ans[2])"
   ]
  },
  {
   "cell_type": "code",
   "execution_count": 23,
   "metadata": {
    "collapsed": false
   },
   "outputs": [
    {
     "name": "stdout",
     "output_type": "stream",
     "text": [
      "Beta= -6.01697739908\n",
      "5.04016322743e-05\n",
      "0.000398239201899\n",
      "[  8.12462949e-01   2.80863651e-03   6.28074793e-01   2.83168993e-03\n",
      "   4.05957901e+00]\n",
      "[ 0.75462264  0.22393122  0.6553445   0.25998508  0.96355692]\n",
      "x [ 0.92796956  0.07203044  0.          0.         -0.        ]\n",
      "x?N 1.0\n",
      "fL [  7.53940888e-01   2.02307315e-04   0.00000000e+00   0.00000000e+00\n",
      "  -0.00000000e+00] =?\n",
      "fV [  7.53940888e-01   2.02307315e-04   0.00000000e+00   0.00000000e+00\n",
      "  -0.00000000e+00]\n",
      "y [  9.99096565e-01   9.03435075e-04   0.00000000e+00   0.00000000e+00\n",
      "  -0.00000000e+00]\n",
      "y?N 1.0\n",
      "x(1-B)+yB [ 0.5  0.5  0.   0.   0. ]\n",
      "=z        [ 0.5  0.   0.   0.   0.5]\n"
     ]
    }
   ],
   "source": [
    "x=ans[0]\n",
    "y=ans[1]\n",
    "BETA=ans[2]\n",
    "print(\"Beta=\",BETA)\n",
    "#profa real\n",
    "VL=eos.Volume(T=283, P=40e5, x=x)[0]\n",
    "print(VL)\n",
    "VV=eos.Volume(T=283, P=40e5, x=y)[1]\n",
    "print(VV)\n",
    "phiL=eos.fugacity_coeff(T=283,V=VL,x=x)\n",
    "print(phiL)\n",
    "phiV=eos.fugacity_coeff(T=283,V=VV,x=y)\n",
    "print(phiV)\n",
    "\n",
    "print(\"x\",x)\n",
    "print(\"x?N\",np.sum(x))\n",
    "print(\"fL\",phiL*x, \"=?\")\n",
    "print(\"fV\",phiV*y)\n",
    "print(\"y\",y)\n",
    "print(\"y?N\",np.sum(y))\n",
    "\n",
    "print(\"x(1-B)+yB\",y*(BETA)+x*(1-BETA))\n",
    "print(\"=z       \",z)"
   ]
  },
  {
   "cell_type": "code",
   "execution_count": 25,
   "metadata": {
    "collapsed": true
   },
   "outputs": [],
   "source": [
    "#exemplos grafícos: dado um corrente Z T e P base:\n",
    "#como varia BETA ao variar o Z de um compoentne chave pesado/chave leve?\n",
    "#A\n",
    "#B\n",
    "#como varia BETA ao variar T ou P\n",
    "#C\n",
    "#D"
   ]
  },
  {
   "cell_type": "markdown",
   "metadata": {},
   "source": [
    "# References\n",
    ">- Michelsen & Mollerupp (2007) [Book]\n",
    ">- Martin Cismondi (2015) [Lecture Notes]\n",
    ">- Symbolic derivations and algorithm flowchart in pytherm/pdf [ToDo]"
   ]
  },
  {
   "cell_type": "markdown",
   "metadata": {},
   "source": [
    "# ToDo\n",
    "* calculate bubble/dew points using functions from a precedent lecture\n",
    "* use dew/bubble results to choose a convenient flash condition for this study"
   ]
  }
 ],
 "metadata": {
  "kernelspec": {
   "display_name": "Python 3",
   "language": "python",
   "name": "python3"
  },
  "language_info": {
   "codemirror_mode": {
    "name": "ipython",
    "version": 3
   },
   "file_extension": ".py",
   "mimetype": "text/x-python",
   "name": "python",
   "nbconvert_exporter": "python",
   "pygments_lexer": "ipython3",
   "version": "3.6.0"
  }
 },
 "nbformat": 4,
 "nbformat_minor": 2
}
